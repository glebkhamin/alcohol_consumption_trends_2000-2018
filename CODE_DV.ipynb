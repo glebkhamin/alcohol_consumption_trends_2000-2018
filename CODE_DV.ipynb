{
  "cells": [
    {
      "cell_type": "markdown",
      "id": "58f4583b",
      "metadata": {
        "id": "58f4583b"
      },
      "source": [
        "**Visualisation 1. Global Alcohol Consumption Trends 2000-2018: Dynamic Choropleth Map**"
      ]
    },
    {
      "cell_type": "code",
      "execution_count": null,
      "id": "b77cc156",
      "metadata": {
        "id": "b77cc156"
      },
      "outputs": [],
      "source": [
        "# Firt we have to install the geopandas library \n",
        "# We need Geopandas because it has built-in contours for the countries' boundaries\n",
        "# We also have to import a number of other libraries (see below)\n",
        "\n",
        "import matplotlib.pyplot as plt\n",
        "import matplotlib as mpl\n",
        "import pandas as pd\n",
        "import geopandas"
      ]
    },
    {
      "cell_type": "code",
      "execution_count": null,
      "id": "084715de",
      "metadata": {
        "id": "084715de"
      },
      "outputs": [],
      "source": [
        "# 'geometry' from geopandas contains the information about poligons and multipoligons \n",
        "# for every country's and region's boundaries\n",
        "# We delete the Antarctica continent \n",
        "\n",
        "world = geopandas.read_file(geopandas.datasets.get_path('naturalearth_lowres'))\n",
        "world = world[world.name!=\"Antarctica\"]"
      ]
    },
    {
      "cell_type": "code",
      "execution_count": null,
      "id": "00047612",
      "metadata": {
        "id": "00047612",
        "outputId": "884c0848-7661-49e2-f9d9-3440a9bb914c"
      },
      "outputs": [
        {
          "data": {
            "text/html": [
              "<div>\n",
              "<style scoped>\n",
              "    .dataframe tbody tr th:only-of-type {\n",
              "        vertical-align: middle;\n",
              "    }\n",
              "\n",
              "    .dataframe tbody tr th {\n",
              "        vertical-align: top;\n",
              "    }\n",
              "\n",
              "    .dataframe thead th {\n",
              "        text-align: right;\n",
              "    }\n",
              "</style>\n",
              "<table border=\"1\" class=\"dataframe\">\n",
              "  <thead>\n",
              "    <tr style=\"text-align: right;\">\n",
              "      <th></th>\n",
              "      <th>pop_est</th>\n",
              "      <th>continent</th>\n",
              "      <th>name</th>\n",
              "      <th>iso_a3</th>\n",
              "      <th>gdp_md_est</th>\n",
              "      <th>geometry</th>\n",
              "    </tr>\n",
              "  </thead>\n",
              "  <tbody>\n",
              "    <tr>\n",
              "      <th>0</th>\n",
              "      <td>889953.0</td>\n",
              "      <td>Oceania</td>\n",
              "      <td>Fiji</td>\n",
              "      <td>FJI</td>\n",
              "      <td>5496</td>\n",
              "      <td>MULTIPOLYGON (((180.00000 -16.06713, 180.00000...</td>\n",
              "    </tr>\n",
              "    <tr>\n",
              "      <th>1</th>\n",
              "      <td>58005463.0</td>\n",
              "      <td>Africa</td>\n",
              "      <td>Tanzania</td>\n",
              "      <td>TZA</td>\n",
              "      <td>63177</td>\n",
              "      <td>POLYGON ((33.90371 -0.95000, 34.07262 -1.05982...</td>\n",
              "    </tr>\n",
              "    <tr>\n",
              "      <th>2</th>\n",
              "      <td>603253.0</td>\n",
              "      <td>Africa</td>\n",
              "      <td>W. Sahara</td>\n",
              "      <td>ESH</td>\n",
              "      <td>907</td>\n",
              "      <td>POLYGON ((-8.66559 27.65643, -8.66512 27.58948...</td>\n",
              "    </tr>\n",
              "    <tr>\n",
              "      <th>3</th>\n",
              "      <td>37589262.0</td>\n",
              "      <td>North America</td>\n",
              "      <td>Canada</td>\n",
              "      <td>CAN</td>\n",
              "      <td>1736425</td>\n",
              "      <td>MULTIPOLYGON (((-122.84000 49.00000, -122.9742...</td>\n",
              "    </tr>\n",
              "    <tr>\n",
              "      <th>4</th>\n",
              "      <td>328239523.0</td>\n",
              "      <td>North America</td>\n",
              "      <td>United States of America</td>\n",
              "      <td>USA</td>\n",
              "      <td>21433226</td>\n",
              "      <td>MULTIPOLYGON (((-122.84000 49.00000, -120.0000...</td>\n",
              "    </tr>\n",
              "  </tbody>\n",
              "</table>\n",
              "</div>"
            ],
            "text/plain": [
              "       pop_est      continent                      name iso_a3  gdp_md_est  \\\n",
              "0     889953.0        Oceania                      Fiji    FJI        5496   \n",
              "1   58005463.0         Africa                  Tanzania    TZA       63177   \n",
              "2     603253.0         Africa                 W. Sahara    ESH         907   \n",
              "3   37589262.0  North America                    Canada    CAN     1736425   \n",
              "4  328239523.0  North America  United States of America    USA    21433226   \n",
              "\n",
              "                                            geometry  \n",
              "0  MULTIPOLYGON (((180.00000 -16.06713, 180.00000...  \n",
              "1  POLYGON ((33.90371 -0.95000, 34.07262 -1.05982...  \n",
              "2  POLYGON ((-8.66559 27.65643, -8.66512 27.58948...  \n",
              "3  MULTIPOLYGON (((-122.84000 49.00000, -122.9742...  \n",
              "4  MULTIPOLYGON (((-122.84000 49.00000, -120.0000...  "
            ]
          },
          "execution_count": 152,
          "metadata": {},
          "output_type": "execute_result"
        }
      ],
      "source": [
        "# Showing the header of the dataset\n",
        "\n",
        "world.head()"
      ]
    },
    {
      "cell_type": "code",
      "execution_count": null,
      "id": "f7005999",
      "metadata": {
        "id": "f7005999",
        "outputId": "5b6c8047-3411-4b8d-b89c-9e569d08f004"
      },
      "outputs": [
        {
          "data": {
            "text/plain": [
              "<AxesSubplot:>"
            ]
          },
          "execution_count": 153,
          "metadata": {},
          "output_type": "execute_result"
        },
        {
          "data": {
            "image/png": "[encoded data removed]",
            "text/plain": [
              "<Figure size 432x288 with 1 Axes>"
            ]
          },
          "metadata": {
            "needs_background": "light"
          },
          "output_type": "display_data"
        }
      ],
      "source": [
        "# Showing the map of the world\n",
        "\n",
        "world.plot()"
      ]
    },
    {
      "cell_type": "code",
      "execution_count": null,
      "id": "57f4daa9",
      "metadata": {
        "id": "57f4daa9",
        "outputId": "9b1c89c4-29de-4912-b555-ca87436c5dcc"
      },
      "outputs": [
        {
          "data": {
            "text/plain": [
              "<AxesSubplot:>"
            ]
          },
          "execution_count": 154,
          "metadata": {},
          "output_type": "execute_result"
        },
        {
          "data": {
            "image/png": "[encoded data removed]",
            "text/plain": [
              "<Figure size 432x288 with 1 Axes>"
            ]
          },
          "metadata": {
            "needs_background": "light"
          },
          "output_type": "display_data"
        }
      ],
      "source": [
        "# Showing the map of the world with boundaries\n",
        "\n",
        "world.boundary.plot()"
      ]
    },
    {
      "cell_type": "code",
      "execution_count": null,
      "id": "42e33288",
      "metadata": {
        "id": "42e33288",
        "outputId": "d0ba1ed0-ca3b-4d1e-ada4-ad15a3559da9"
      },
      "outputs": [
        {
          "data": {
            "text/html": [
              "<div>\n",
              "<style scoped>\n",
              "    .dataframe tbody tr th:only-of-type {\n",
              "        vertical-align: middle;\n",
              "    }\n",
              "\n",
              "    .dataframe tbody tr th {\n",
              "        vertical-align: top;\n",
              "    }\n",
              "\n",
              "    .dataframe thead th {\n",
              "        text-align: right;\n",
              "    }\n",
              "</style>\n",
              "<table border=\"1\" class=\"dataframe\">\n",
              "  <thead>\n",
              "    <tr style=\"text-align: right;\">\n",
              "      <th></th>\n",
              "      <th>Entity</th>\n",
              "      <th>Code</th>\n",
              "      <th>Year</th>\n",
              "      <th>Total alcohol consumption per capita (liters of pure alcohol, projected estimates, 15+ years of age)</th>\n",
              "      <th>GDP per capita, PPP (constant 2017 international $)</th>\n",
              "      <th>Population (historical estimates)</th>\n",
              "      <th>Continent</th>\n",
              "    </tr>\n",
              "  </thead>\n",
              "  <tbody>\n",
              "    <tr>\n",
              "      <th>0</th>\n",
              "      <td>Abkhazia</td>\n",
              "      <td>OWID_ABK</td>\n",
              "      <td>2015</td>\n",
              "      <td>NaN</td>\n",
              "      <td>NaN</td>\n",
              "      <td>NaN</td>\n",
              "      <td>Asia</td>\n",
              "    </tr>\n",
              "    <tr>\n",
              "      <th>1</th>\n",
              "      <td>Afghanistan</td>\n",
              "      <td>AFG</td>\n",
              "      <td>2010</td>\n",
              "      <td>0.21</td>\n",
              "      <td>1957.029070</td>\n",
              "      <td>29185511.0</td>\n",
              "      <td>NaN</td>\n",
              "    </tr>\n",
              "    <tr>\n",
              "      <th>2</th>\n",
              "      <td>Afghanistan</td>\n",
              "      <td>AFG</td>\n",
              "      <td>2015</td>\n",
              "      <td>0.21</td>\n",
              "      <td>2068.265904</td>\n",
              "      <td>34413603.0</td>\n",
              "      <td>Asia</td>\n",
              "    </tr>\n",
              "    <tr>\n",
              "      <th>3</th>\n",
              "      <td>Afghanistan</td>\n",
              "      <td>AFG</td>\n",
              "      <td>2018</td>\n",
              "      <td>0.21</td>\n",
              "      <td>2033.804389</td>\n",
              "      <td>37171922.0</td>\n",
              "      <td>NaN</td>\n",
              "    </tr>\n",
              "    <tr>\n",
              "      <th>4</th>\n",
              "      <td>Afghanistan</td>\n",
              "      <td>AFG</td>\n",
              "      <td>2002</td>\n",
              "      <td>NaN</td>\n",
              "      <td>1189.784668</td>\n",
              "      <td>22600774.0</td>\n",
              "      <td>NaN</td>\n",
              "    </tr>\n",
              "  </tbody>\n",
              "</table>\n",
              "</div>"
            ],
            "text/plain": [
              "        Entity      Code  Year  \\\n",
              "0     Abkhazia  OWID_ABK  2015   \n",
              "1  Afghanistan       AFG  2010   \n",
              "2  Afghanistan       AFG  2015   \n",
              "3  Afghanistan       AFG  2018   \n",
              "4  Afghanistan       AFG  2002   \n",
              "\n",
              "   Total alcohol consumption per capita (liters of pure alcohol, projected estimates, 15+ years of age)  \\\n",
              "0                                                NaN                                                      \n",
              "1                                               0.21                                                      \n",
              "2                                               0.21                                                      \n",
              "3                                               0.21                                                      \n",
              "4                                                NaN                                                      \n",
              "\n",
              "   GDP per capita, PPP (constant 2017 international $)  \\\n",
              "0                                                NaN     \n",
              "1                                        1957.029070     \n",
              "2                                        2068.265904     \n",
              "3                                        2033.804389     \n",
              "4                                        1189.784668     \n",
              "\n",
              "   Population (historical estimates) Continent  \n",
              "0                                NaN      Asia  \n",
              "1                         29185511.0       NaN  \n",
              "2                         34413603.0      Asia  \n",
              "3                         37171922.0       NaN  \n",
              "4                         22600774.0       NaN  "
            ]
          },
          "execution_count": 155,
          "metadata": {},
          "output_type": "execute_result"
        }
      ],
      "source": [
        "# Importing Kaggle's \"Alcohol Consumption by Country\" dataset and showing its header\n",
        "\n",
        "# ! This was perfromed on the Mac operating system. The path to the data file and other paths in this document\n",
        "# must be adjusted depending on the operating system and the computer used. The username also needs to be changed.\n",
        "# The path used in this code is specific to my computer !\n",
        "\n",
        "# You can find the 'alcohol-consumption-vs-gdp-per-capita.csv' dataset in my submission zip folder\n",
        "\n",
        "# There are a lot of gaps in this data. It is also noteworthy that the alcohol consumption data is only \n",
        "# availble for 5 years (2000, 2005, 2010, 2015 and 2018)\n",
        "# The goal is to reflect all these variables in the two visualisation we are about to produce\n",
        "\n",
        "alc = pd.read_csv('/Users/gleb.khamin/DATA/DV_CW_2/alcohol-consumption-vs-gdp-per-capita.csv')\n",
        "alc.head()"
      ]
    },
    {
      "cell_type": "code",
      "execution_count": null,
      "id": "6a671f87",
      "metadata": {
        "id": "6a671f87",
        "outputId": "f1caec59-0254-4ae6-ae8a-8f949d030538"
      },
      "outputs": [
        {
          "data": {
            "text/plain": [
              "array(['Abkhazia', 'Afghanistan', 'Africa', 'Africa Eastern and Southern',\n",
              "       'Africa Western and Central', 'Akrotiri and Dhekelia', 'Albania',\n",
              "       'Algeria', 'American Samoa', 'Andorra', 'Angola', 'Anguilla',\n",
              "       'Antarctica', 'Antigua and Barbuda', 'Arab World', 'Argentina',\n",
              "       'Armenia', 'Aruba', 'Asia', 'Australia', 'Austria',\n",
              "       'Austria-Hungary', 'Azerbaijan', 'Baden', 'Bahamas', 'Bahrain',\n",
              "       'Bangladesh', 'Barbados', 'Bavaria', 'Belarus', 'Belgium',\n",
              "       'Belize', 'Benin', 'Bermuda', 'Bhutan', 'Bolivia',\n",
              "       'Bonaire Sint Eustatius and Saba', 'Bosnia and Herzegovina',\n",
              "       'Botswana', 'Bouvet Island', 'Brazil',\n",
              "       'British Indian Ocean Territory', 'British Virgin Islands',\n",
              "       'Brunei', 'Bulgaria', 'Burkina Faso', 'Burundi', 'Cambodia',\n",
              "       'Cameroon', 'Canada', 'Cape Verde', 'Caribbean Small States',\n",
              "       'Cayman Islands', 'Central African Republic',\n",
              "       'Central Europe and the Baltics', 'Chad', 'Channel Islands',\n",
              "       'Chile', 'China', 'Christmas Island', 'Cocos Islands', 'Colombia',\n",
              "       'Comoros', 'Congo', 'Cook Islands', 'Costa Rica', \"Cote d'Ivoire\",\n",
              "       'Croatia', 'Cuba', 'Curacao', 'Cyprus', 'Czechia',\n",
              "       'Czechoslovakia', 'Democratic Republic of Congo', 'Denmark',\n",
              "       'Djibouti', 'Dominica', 'Dominican Republic',\n",
              "       'Early-demographic dividend', 'East Asia & Pacific',\n",
              "       'East Asia & Pacific (IDA & IBRD)',\n",
              "       'East Asia & Pacific (excluding high income)', 'East Germany',\n",
              "       'Ecuador', 'Egypt', 'El Salvador', 'Equatorial Guinea', 'Eritrea',\n",
              "       'Eritrea and Ethiopia', 'Estonia', 'Eswatini', 'Ethiopia',\n",
              "       'Euro area', 'Europe', 'Europe & Central Asia',\n",
              "       'Europe & Central Asia (IDA & IBRD)',\n",
              "       'Europe & Central Asia (excluding high income)', 'European Union',\n",
              "       'Faeroe Islands', 'Falkland Islands', 'Fiji', 'Finland',\n",
              "       'Fragile and conflict affected situations', 'France',\n",
              "       'French Guiana', 'French Polynesia', 'French Southern Territories',\n",
              "       'Gabon', 'Gambia', 'Georgia', 'Germany', 'Ghana', 'Gibraltar',\n",
              "       'Greece', 'Greenland', 'Grenada', 'Guadeloupe', 'Guam',\n",
              "       'Guatemala', 'Guernsey', 'Guinea', 'Guinea-Bissau', 'Guyana',\n",
              "       'Haiti', 'Hanover', 'Heard Island and McDonald Islands',\n",
              "       'Heavily indebted poor countries (HIPC)', 'Hesse Electoral',\n",
              "       'Hesse Grand Ducal', 'High income', 'Honduras', 'Hong Kong',\n",
              "       'Hungary', 'IBRD only', 'IDA & IBRD total', 'IDA blend',\n",
              "       'IDA only', 'IDA total', 'Iceland', 'India', 'Indonesia', 'Iran',\n",
              "       'Iraq', 'Ireland', 'Isle of Man', 'Israel', 'Italy', 'Jamaica',\n",
              "       'Japan', 'Jersey', 'Jordan', 'Kazakhstan', 'Kenya', 'Kiribati',\n",
              "       'Kosovo', 'Kuwait', 'Kyrgyzstan', 'Laos',\n",
              "       'Late-demographic dividend', 'Latin America & Caribbean',\n",
              "       'Latin America & Caribbean (IDA & IBRD)',\n",
              "       'Latin America & Caribbean (excluding high income)', 'Latvia',\n",
              "       'Least developed countries: UN classification', 'Lebanon',\n",
              "       'Lesotho', 'Liberia', 'Libya', 'Liechtenstein', 'Lithuania',\n",
              "       'Low & middle income', 'Low income', 'Lower middle income',\n",
              "       'Luxembourg', 'Macao', 'Madagascar', 'Malawi', 'Malaysia',\n",
              "       'Maldives', 'Mali', 'Malta', 'Marshall Islands', 'Martinique',\n",
              "       'Mauritania', 'Mauritius', 'Mayotte', 'Mecklenburg Schwerin',\n",
              "       'Mexico', 'Micronesia (country)', 'Middle East & North Africa',\n",
              "       'Middle East & North Africa (IDA & IBRD)',\n",
              "       'Middle East & North Africa (excluding high income)',\n",
              "       'Middle income', 'Modena', 'Moldova', 'Monaco', 'Mongolia',\n",
              "       'Montenegro', 'Montserrat', 'Morocco', 'Mozambique', 'Myanmar',\n",
              "       'Nagorno-Karabakh', 'Namibia', 'Nauru', 'Nepal', 'Netherlands',\n",
              "       'Netherlands Antilles', 'New Caledonia', 'New Zealand',\n",
              "       'Nicaragua', 'Niger', 'Nigeria', 'Niue', 'Norfolk Island',\n",
              "       'North America', 'North Korea', 'North Macedonia',\n",
              "       'Northern Cyprus', 'Northern Mariana Islands', 'Norway',\n",
              "       'OECD members', 'Oceania', 'Oman', 'Other small states',\n",
              "       'Pacific island small states', 'Pakistan', 'Palau', 'Palestine',\n",
              "       'Panama', 'Papua New Guinea', 'Paraguay', 'Parma', 'Peru',\n",
              "       'Philippines', 'Pitcairn', 'Poland', 'Portugal',\n",
              "       'Post-demographic dividend', 'Pre-demographic dividend',\n",
              "       'Puerto Rico', 'Qatar', 'Republic of Vietnam', 'Reunion',\n",
              "       'Romania', 'Russia', 'Rwanda', 'Saint Barthlemy',\n",
              "       'Saint Barthélemy', 'Saint Helena', 'Saint Kitts and Nevis',\n",
              "       'Saint Lucia', 'Saint Martin (French part)',\n",
              "       'Saint Pierre and Miquelon', 'Saint Vincent and the Grenadines',\n",
              "       'Samoa', 'San Marino', 'Sao Tome and Principe', 'Saudi Arabia',\n",
              "       'Saxony', 'Senegal', 'Serbia', 'Serbia and Montenegro',\n",
              "       'Serbia excluding Kosovo', 'Seychelles', 'Sierra Leone',\n",
              "       'Singapore', 'Sint Maarten (Dutch part)', 'Slovakia', 'Slovenia',\n",
              "       'Small states', 'Solomon Islands', 'Somalia', 'Somaliland',\n",
              "       'South Africa', 'South America', 'South Asia',\n",
              "       'South Asia (IDA & IBRD)',\n",
              "       'South Georgia and the South Sandwich Islands', 'South Korea',\n",
              "       'South Ossetia', 'South Sudan', 'Spain', 'Sri Lanka',\n",
              "       'Sub-Saharan Africa', 'Sub-Saharan Africa (IDA & IBRD)',\n",
              "       'Sub-Saharan Africa (excluding high income)', 'Sudan', 'Suriname',\n",
              "       'Svalbard and Jan Mayen', 'Sweden', 'Switzerland', 'Syria',\n",
              "       'Taiwan', 'Tajikistan', 'Tanzania', 'Thailand', 'Timor', 'Togo',\n",
              "       'Tokelau', 'Tonga', 'Transnistria', 'Trinidad and Tobago',\n",
              "       'Tunisia', 'Turkey', 'Turkmenistan', 'Turks and Caicos Islands',\n",
              "       'Tuscany', 'Tuvalu', 'Two Sicilies', 'USSR', 'Uganda', 'Ukraine',\n",
              "       'United Arab Emirates', 'United Kingdom', 'United Korea',\n",
              "       'United States', 'United States Minor Outlying Islands',\n",
              "       'United States Virgin Islands', 'Upper middle income', 'Uruguay',\n",
              "       'Uzbekistan', 'Vanuatu', 'Vatican', 'Venezuela', 'Vietnam',\n",
              "       'Wallis and Futuna', 'West Germany', 'Western Sahara', 'World',\n",
              "       'Wuerttemburg', 'Yemen', 'Yemen Arab Republic',\n",
              "       \"Yemen People's Republic\", 'Yugoslavia', 'Zambia', 'Zanzibar',\n",
              "       'Zimbabwe', 'Åland Islands'], dtype=object)"
            ]
          },
          "execution_count": 156,
          "metadata": {},
          "output_type": "execute_result"
        }
      ],
      "source": [
        "# We now have to merge the two datasets\n",
        "# There are two options for doing this - either merge it by country or merge it by code\n",
        "# As it appears that the country names in the two datasets are different, we have decided to use the codes instead\n",
        "\n",
        "alc[\"Entity\"].unique()"
      ]
    },
    {
      "cell_type": "code",
      "execution_count": null,
      "id": "8722f3d4",
      "metadata": {
        "id": "8722f3d4",
        "outputId": "63fa4f6e-208a-4d22-e1ce-bbbf827f1cd3"
      },
      "outputs": [
        {
          "data": {
            "text/plain": [
              "array(['Afghanistan', 'Albania', 'Algeria', 'Angola', 'Argentina',\n",
              "       'Armenia', 'Australia', 'Austria', 'Azerbaijan', 'Bahamas',\n",
              "       'Bangladesh', 'Belarus', 'Belgium', 'Belize', 'Benin', 'Bhutan',\n",
              "       'Bolivia', 'Bosnia and Herz.', 'Botswana', 'Brazil', 'Brunei',\n",
              "       'Bulgaria', 'Burkina Faso', 'Burundi', 'Cambodia', 'Cameroon',\n",
              "       'Canada', 'Central African Rep.', 'Chad', 'Chile', 'China',\n",
              "       'Colombia', 'Congo', 'Costa Rica', 'Croatia', 'Cuba', 'Cyprus',\n",
              "       'Czechia', \"Côte d'Ivoire\", 'Dem. Rep. Congo', 'Denmark',\n",
              "       'Djibouti', 'Dominican Rep.', 'Ecuador', 'Egypt', 'El Salvador',\n",
              "       'Eq. Guinea', 'Eritrea', 'Estonia', 'Ethiopia', 'Falkland Is.',\n",
              "       'Fiji', 'Finland', 'Fr. S. Antarctic Lands', 'France', 'Gabon',\n",
              "       'Gambia', 'Georgia', 'Germany', 'Ghana', 'Greece', 'Greenland',\n",
              "       'Guatemala', 'Guinea', 'Guinea-Bissau', 'Guyana', 'Haiti',\n",
              "       'Honduras', 'Hungary', 'Iceland', 'India', 'Indonesia', 'Iran',\n",
              "       'Iraq', 'Ireland', 'Israel', 'Italy', 'Jamaica', 'Japan', 'Jordan',\n",
              "       'Kazakhstan', 'Kenya', 'Kosovo', 'Kuwait', 'Kyrgyzstan', 'Laos',\n",
              "       'Latvia', 'Lebanon', 'Lesotho', 'Liberia', 'Libya', 'Lithuania',\n",
              "       'Luxembourg', 'Madagascar', 'Malawi', 'Malaysia', 'Mali',\n",
              "       'Mauritania', 'Mexico', 'Moldova', 'Mongolia', 'Montenegro',\n",
              "       'Morocco', 'Mozambique', 'Myanmar', 'N. Cyprus', 'Namibia',\n",
              "       'Nepal', 'Netherlands', 'New Caledonia', 'New Zealand',\n",
              "       'Nicaragua', 'Niger', 'Nigeria', 'North Korea', 'North Macedonia',\n",
              "       'Norway', 'Oman', 'Pakistan', 'Palestine', 'Panama',\n",
              "       'Papua New Guinea', 'Paraguay', 'Peru', 'Philippines', 'Poland',\n",
              "       'Portugal', 'Puerto Rico', 'Qatar', 'Romania', 'Russia', 'Rwanda',\n",
              "       'S. Sudan', 'Saudi Arabia', 'Senegal', 'Serbia', 'Sierra Leone',\n",
              "       'Slovakia', 'Slovenia', 'Solomon Is.', 'Somalia', 'Somaliland',\n",
              "       'South Africa', 'South Korea', 'Spain', 'Sri Lanka', 'Sudan',\n",
              "       'Suriname', 'Sweden', 'Switzerland', 'Syria', 'Taiwan',\n",
              "       'Tajikistan', 'Tanzania', 'Thailand', 'Timor-Leste', 'Togo',\n",
              "       'Trinidad and Tobago', 'Tunisia', 'Turkey', 'Turkmenistan',\n",
              "       'Uganda', 'Ukraine', 'United Arab Emirates', 'United Kingdom',\n",
              "       'United States of America', 'Uruguay', 'Uzbekistan', 'Vanuatu',\n",
              "       'Venezuela', 'Vietnam', 'W. Sahara', 'Yemen', 'Zambia', 'Zimbabwe',\n",
              "       'eSwatini'], dtype=object)"
            ]
          },
          "execution_count": 157,
          "metadata": {},
          "output_type": "execute_result"
        }
      ],
      "source": [
        "world[\"name\"].sort_values().unique()"
      ]
    },
    {
      "cell_type": "code",
      "execution_count": null,
      "id": "2a2df058",
      "metadata": {
        "id": "2a2df058",
        "outputId": "99867251-f7bd-4d67-b80a-7f22e36e6e1e"
      },
      "outputs": [
        {
          "data": {
            "text/html": [
              "<div>\n",
              "<style scoped>\n",
              "    .dataframe tbody tr th:only-of-type {\n",
              "        vertical-align: middle;\n",
              "    }\n",
              "\n",
              "    .dataframe tbody tr th {\n",
              "        vertical-align: top;\n",
              "    }\n",
              "\n",
              "    .dataframe thead th {\n",
              "        text-align: right;\n",
              "    }\n",
              "</style>\n",
              "<table border=\"1\" class=\"dataframe\">\n",
              "  <thead>\n",
              "    <tr style=\"text-align: right;\">\n",
              "      <th></th>\n",
              "      <th>country</th>\n",
              "      <th>code</th>\n",
              "      <th>year</th>\n",
              "      <th>alcocons</th>\n",
              "      <th>gdppercap</th>\n",
              "      <th>population</th>\n",
              "    </tr>\n",
              "  </thead>\n",
              "  <tbody>\n",
              "    <tr>\n",
              "      <th>3</th>\n",
              "      <td>Afghanistan</td>\n",
              "      <td>AFG</td>\n",
              "      <td>2018</td>\n",
              "      <td>0.21</td>\n",
              "      <td>2033.804389</td>\n",
              "      <td>37171922.0</td>\n",
              "    </tr>\n",
              "    <tr>\n",
              "      <th>586</th>\n",
              "      <td>Albania</td>\n",
              "      <td>ALB</td>\n",
              "      <td>2018</td>\n",
              "      <td>7.17</td>\n",
              "      <td>13323.753356</td>\n",
              "      <td>2882735.0</td>\n",
              "    </tr>\n",
              "    <tr>\n",
              "      <th>845</th>\n",
              "      <td>Algeria</td>\n",
              "      <td>DZA</td>\n",
              "      <td>2018</td>\n",
              "      <td>0.95</td>\n",
              "      <td>11642.198345</td>\n",
              "      <td>42228415.0</td>\n",
              "    </tr>\n",
              "    <tr>\n",
              "      <th>1477</th>\n",
              "      <td>Angola</td>\n",
              "      <td>AGO</td>\n",
              "      <td>2018</td>\n",
              "      <td>6.94</td>\n",
              "      <td>6933.499934</td>\n",
              "      <td>30809787.0</td>\n",
              "    </tr>\n",
              "    <tr>\n",
              "      <th>1858</th>\n",
              "      <td>Antigua and Barbuda</td>\n",
              "      <td>ATG</td>\n",
              "      <td>2018</td>\n",
              "      <td>6.38</td>\n",
              "      <td>21030.395072</td>\n",
              "      <td>96282.0</td>\n",
              "    </tr>\n",
              "  </tbody>\n",
              "</table>\n",
              "</div>"
            ],
            "text/plain": [
              "                  country code  year  alcocons     gdppercap  population\n",
              "3             Afghanistan  AFG  2018      0.21   2033.804389  37171922.0\n",
              "586               Albania  ALB  2018      7.17  13323.753356   2882735.0\n",
              "845               Algeria  DZA  2018      0.95  11642.198345  42228415.0\n",
              "1477               Angola  AGO  2018      6.94   6933.499934  30809787.0\n",
              "1858  Antigua and Barbuda  ATG  2018      6.38  21030.395072     96282.0"
            ]
          },
          "execution_count": 165,
          "metadata": {},
          "output_type": "execute_result"
        }
      ],
      "source": [
        "# First we are going to visualise the data consumption for 2018\n",
        "\n",
        "alc2018 = alc[alc.Year == 2018] \n",
        "\n",
        "# Dropping missing values\n",
        "alc2018 = alc2018.drop(columns=['Continent'])\n",
        "alc2018 = alc2018.dropna()\n",
        "\n",
        "# Changing column names\n",
        "alc2018.columns = ['country', 'code', 'year', 'alcocons', 'gdppercap', 'population']\n",
        "\n",
        "alc2018.head()"
      ]
    },
    {
      "cell_type": "code",
      "execution_count": null,
      "id": "728c8138",
      "metadata": {
        "id": "728c8138",
        "outputId": "168b6029-0310-4e0a-84a4-a7f797fbf257"
      },
      "outputs": [
        {
          "data": {
            "text/html": [
              "<div>\n",
              "<style scoped>\n",
              "    .dataframe tbody tr th:only-of-type {\n",
              "        vertical-align: middle;\n",
              "    }\n",
              "\n",
              "    .dataframe tbody tr th {\n",
              "        vertical-align: top;\n",
              "    }\n",
              "\n",
              "    .dataframe thead th {\n",
              "        text-align: right;\n",
              "    }\n",
              "</style>\n",
              "<table border=\"1\" class=\"dataframe\">\n",
              "  <thead>\n",
              "    <tr style=\"text-align: right;\">\n",
              "      <th></th>\n",
              "      <th>continent</th>\n",
              "      <th>code</th>\n",
              "      <th>geometry</th>\n",
              "    </tr>\n",
              "  </thead>\n",
              "  <tbody>\n",
              "    <tr>\n",
              "      <th>0</th>\n",
              "      <td>Oceania</td>\n",
              "      <td>FJI</td>\n",
              "      <td>MULTIPOLYGON (((180.00000 -16.06713, 180.00000...</td>\n",
              "    </tr>\n",
              "    <tr>\n",
              "      <th>1</th>\n",
              "      <td>Africa</td>\n",
              "      <td>TZA</td>\n",
              "      <td>POLYGON ((33.90371 -0.95000, 34.07262 -1.05982...</td>\n",
              "    </tr>\n",
              "    <tr>\n",
              "      <th>2</th>\n",
              "      <td>Africa</td>\n",
              "      <td>ESH</td>\n",
              "      <td>POLYGON ((-8.66559 27.65643, -8.66512 27.58948...</td>\n",
              "    </tr>\n",
              "    <tr>\n",
              "      <th>3</th>\n",
              "      <td>North America</td>\n",
              "      <td>CAN</td>\n",
              "      <td>MULTIPOLYGON (((-122.84000 49.00000, -122.9742...</td>\n",
              "    </tr>\n",
              "    <tr>\n",
              "      <th>4</th>\n",
              "      <td>North America</td>\n",
              "      <td>USA</td>\n",
              "      <td>MULTIPOLYGON (((-122.84000 49.00000, -120.0000...</td>\n",
              "    </tr>\n",
              "  </tbody>\n",
              "</table>\n",
              "</div>"
            ],
            "text/plain": [
              "       continent code                                           geometry\n",
              "0        Oceania  FJI  MULTIPOLYGON (((180.00000 -16.06713, 180.00000...\n",
              "1         Africa  TZA  POLYGON ((33.90371 -0.95000, 34.07262 -1.05982...\n",
              "2         Africa  ESH  POLYGON ((-8.66559 27.65643, -8.66512 27.58948...\n",
              "3  North America  CAN  MULTIPOLYGON (((-122.84000 49.00000, -122.9742...\n",
              "4  North America  USA  MULTIPOLYGON (((-122.84000 49.00000, -120.0000..."
            ]
          },
          "execution_count": 166,
          "metadata": {},
          "output_type": "execute_result"
        }
      ],
      "source": [
        "# Dropping 'pop_est', 'name', 'gdp_md_est' columns\n",
        "\n",
        "world_new = world.drop(columns=['pop_est', 'name', 'gdp_md_est'])\n",
        "world_new.columns = ['continent', 'code', 'geometry']\n",
        "\n",
        "world_new.head()"
      ]
    },
    {
      "cell_type": "code",
      "execution_count": null,
      "id": "93db543d",
      "metadata": {
        "id": "93db543d",
        "outputId": "ac1680aa-0dbe-4a45-96d7-a1f0f0d93b73"
      },
      "outputs": [
        {
          "data": {
            "text/html": [
              "<div>\n",
              "<style scoped>\n",
              "    .dataframe tbody tr th:only-of-type {\n",
              "        vertical-align: middle;\n",
              "    }\n",
              "\n",
              "    .dataframe tbody tr th {\n",
              "        vertical-align: top;\n",
              "    }\n",
              "\n",
              "    .dataframe thead th {\n",
              "        text-align: right;\n",
              "    }\n",
              "</style>\n",
              "<table border=\"1\" class=\"dataframe\">\n",
              "  <thead>\n",
              "    <tr style=\"text-align: right;\">\n",
              "      <th></th>\n",
              "      <th>continent</th>\n",
              "      <th>code</th>\n",
              "      <th>geometry</th>\n",
              "      <th>country</th>\n",
              "      <th>year</th>\n",
              "      <th>alcocons</th>\n",
              "      <th>gdppercap</th>\n",
              "      <th>population</th>\n",
              "    </tr>\n",
              "  </thead>\n",
              "  <tbody>\n",
              "    <tr>\n",
              "      <th>0</th>\n",
              "      <td>Oceania</td>\n",
              "      <td>FJI</td>\n",
              "      <td>MULTIPOLYGON (((180.00000 -16.06713, 180.00000...</td>\n",
              "      <td>Fiji</td>\n",
              "      <td>2018.0</td>\n",
              "      <td>3.32</td>\n",
              "      <td>13846.158835</td>\n",
              "      <td>883490.0</td>\n",
              "    </tr>\n",
              "    <tr>\n",
              "      <th>1</th>\n",
              "      <td>Africa</td>\n",
              "      <td>TZA</td>\n",
              "      <td>POLYGON ((33.90371 -0.95000, 34.07262 -1.05982...</td>\n",
              "      <td>Tanzania</td>\n",
              "      <td>2018.0</td>\n",
              "      <td>11.27</td>\n",
              "      <td>2590.201138</td>\n",
              "      <td>56313444.0</td>\n",
              "    </tr>\n",
              "    <tr>\n",
              "      <th>3</th>\n",
              "      <td>North America</td>\n",
              "      <td>CAN</td>\n",
              "      <td>MULTIPOLYGON (((-122.84000 49.00000, -122.9742...</td>\n",
              "      <td>Canada</td>\n",
              "      <td>2018.0</td>\n",
              "      <td>8.94</td>\n",
              "      <td>48796.813781</td>\n",
              "      <td>37074558.0</td>\n",
              "    </tr>\n",
              "    <tr>\n",
              "      <th>4</th>\n",
              "      <td>North America</td>\n",
              "      <td>USA</td>\n",
              "      <td>MULTIPOLYGON (((-122.84000 49.00000, -120.0000...</td>\n",
              "      <td>United States</td>\n",
              "      <td>2018.0</td>\n",
              "      <td>9.87</td>\n",
              "      <td>61585.756038</td>\n",
              "      <td>327096263.0</td>\n",
              "    </tr>\n",
              "    <tr>\n",
              "      <th>5</th>\n",
              "      <td>Asia</td>\n",
              "      <td>KAZ</td>\n",
              "      <td>POLYGON ((87.35997 49.21498, 86.59878 48.54918...</td>\n",
              "      <td>Kazakhstan</td>\n",
              "      <td>2018.0</td>\n",
              "      <td>4.76</td>\n",
              "      <td>25544.344756</td>\n",
              "      <td>18319616.0</td>\n",
              "    </tr>\n",
              "  </tbody>\n",
              "</table>\n",
              "</div>"
            ],
            "text/plain": [
              "       continent code                                           geometry  \\\n",
              "0        Oceania  FJI  MULTIPOLYGON (((180.00000 -16.06713, 180.00000...   \n",
              "1         Africa  TZA  POLYGON ((33.90371 -0.95000, 34.07262 -1.05982...   \n",
              "3  North America  CAN  MULTIPOLYGON (((-122.84000 49.00000, -122.9742...   \n",
              "4  North America  USA  MULTIPOLYGON (((-122.84000 49.00000, -120.0000...   \n",
              "5           Asia  KAZ  POLYGON ((87.35997 49.21498, 86.59878 48.54918...   \n",
              "\n",
              "         country    year  alcocons     gdppercap   population  \n",
              "0           Fiji  2018.0      3.32  13846.158835     883490.0  \n",
              "1       Tanzania  2018.0     11.27   2590.201138   56313444.0  \n",
              "3         Canada  2018.0      8.94  48796.813781   37074558.0  \n",
              "4  United States  2018.0      9.87  61585.756038  327096263.0  \n",
              "5     Kazakhstan  2018.0      4.76  25544.344756   18319616.0  "
            ]
          },
          "execution_count": 167,
          "metadata": {},
          "output_type": "execute_result"
        }
      ],
      "source": [
        "# We now want to merge two dataframes and we start with the map - we will try to colour the map based on the \n",
        "# alcohol consumtion data\n",
        "\n",
        "# We are going to use 'left merge' \n",
        "world_alc = world_new.merge(alc2018, how='left', on='code')\n",
        "world_alc = world_alc.dropna()\n",
        "world_alc.head()"
      ]
    },
    {
      "cell_type": "code",
      "execution_count": null,
      "id": "e202a6f2",
      "metadata": {
        "id": "e202a6f2",
        "outputId": "a3488028-66ac-497e-b483-e6df3630148a"
      },
      "outputs": [
        {
          "data": {
            "text/plain": [
              "<AxesSubplot:>"
            ]
          },
          "execution_count": 169,
          "metadata": {},
          "output_type": "execute_result"
        },
        {
          "data": {
            "image/png": "[encoded data removed]",
            "text/plain": [
              "<Figure size 432x288 with 2 Axes>"
            ]
          },
          "metadata": {
            "needs_background": "light"
          },
          "output_type": "display_data"
        }
      ],
      "source": [
        "# Plotting the alcohol consumption map of the world for one year\n",
        "# Reminder: earlier we selected the year 2018 for plotting\n",
        "\n",
        "from mpl_toolkits.axes_grid1 import make_axes_locatable\n",
        "fig, ax = plt.subplots(1, 1)\n",
        "divider = make_axes_locatable(ax)\n",
        "cax = divider.append_axes(\"right\", size=\"3%\", pad=0.2)\n",
        "world_alc.plot(column='alcocons', ax=ax, legend=True, cax=cax, cmap='OrRd')"
      ]
    },
    {
      "cell_type": "markdown",
      "id": "d22a24e3",
      "metadata": {
        "id": "d22a24e3"
      },
      "source": [
        "Using the Loop for preparing the data and plotting it for multiple years"
      ]
    },
    {
      "cell_type": "code",
      "execution_count": null,
      "id": "2b93380c",
      "metadata": {
        "id": "2b93380c",
        "outputId": "22f0c7a0-466a-4ed1-b1ba-6af649bd562e"
      },
      "outputs": [
        {
          "data": {
            "text/html": [
              "<div>\n",
              "<style scoped>\n",
              "    .dataframe tbody tr th:only-of-type {\n",
              "        vertical-align: middle;\n",
              "    }\n",
              "\n",
              "    .dataframe tbody tr th {\n",
              "        vertical-align: top;\n",
              "    }\n",
              "\n",
              "    .dataframe thead th {\n",
              "        text-align: right;\n",
              "    }\n",
              "</style>\n",
              "<table border=\"1\" class=\"dataframe\">\n",
              "  <thead>\n",
              "    <tr style=\"text-align: right;\">\n",
              "      <th></th>\n",
              "      <th>country</th>\n",
              "      <th>code</th>\n",
              "      <th>year</th>\n",
              "      <th>alcocons</th>\n",
              "      <th>gdppercap</th>\n",
              "      <th>population</th>\n",
              "    </tr>\n",
              "  </thead>\n",
              "  <tbody>\n",
              "    <tr>\n",
              "      <th>1</th>\n",
              "      <td>Afghanistan</td>\n",
              "      <td>AFG</td>\n",
              "      <td>2010</td>\n",
              "      <td>0.21</td>\n",
              "      <td>1957.029070</td>\n",
              "      <td>29185511.0</td>\n",
              "    </tr>\n",
              "    <tr>\n",
              "      <th>2</th>\n",
              "      <td>Afghanistan</td>\n",
              "      <td>AFG</td>\n",
              "      <td>2015</td>\n",
              "      <td>0.21</td>\n",
              "      <td>2068.265904</td>\n",
              "      <td>34413603.0</td>\n",
              "    </tr>\n",
              "    <tr>\n",
              "      <th>3</th>\n",
              "      <td>Afghanistan</td>\n",
              "      <td>AFG</td>\n",
              "      <td>2018</td>\n",
              "      <td>0.21</td>\n",
              "      <td>2033.804389</td>\n",
              "      <td>37171922.0</td>\n",
              "    </tr>\n",
              "    <tr>\n",
              "      <th>582</th>\n",
              "      <td>Albania</td>\n",
              "      <td>ALB</td>\n",
              "      <td>2000</td>\n",
              "      <td>6.57</td>\n",
              "      <td>5893.136233</td>\n",
              "      <td>3129246.0</td>\n",
              "    </tr>\n",
              "    <tr>\n",
              "      <th>583</th>\n",
              "      <td>Albania</td>\n",
              "      <td>ALB</td>\n",
              "      <td>2005</td>\n",
              "      <td>7.65</td>\n",
              "      <td>8040.878717</td>\n",
              "      <td>3086810.0</td>\n",
              "    </tr>\n",
              "  </tbody>\n",
              "</table>\n",
              "</div>"
            ],
            "text/plain": [
              "         country code  year  alcocons    gdppercap  population\n",
              "1    Afghanistan  AFG  2010      0.21  1957.029070  29185511.0\n",
              "2    Afghanistan  AFG  2015      0.21  2068.265904  34413603.0\n",
              "3    Afghanistan  AFG  2018      0.21  2033.804389  37171922.0\n",
              "582      Albania  ALB  2000      6.57  5893.136233   3129246.0\n",
              "583      Albania  ALB  2005      7.65  8040.878717   3086810.0"
            ]
          },
          "execution_count": 171,
          "metadata": {},
          "output_type": "execute_result"
        }
      ],
      "source": [
        "# First we preparaed the dataset for all the years for which the data is available\n",
        "# We cleaned the data from missing values and other variables that were not required for producing the visualisations\n",
        "# As a result, we got the clean data for two visualisation\n",
        "\n",
        "# Dropping missing values\n",
        "alc20XX = alc.drop(columns=['Continent'])\n",
        "alc20XX = alc20XX.dropna()\n",
        "\n",
        "# Changing column names\n",
        "alc20XX.columns = ['country', 'code', 'year', 'alcocons', 'gdppercap', 'population']\n",
        "\n",
        "alc20XX.head()"
      ]
    },
    {
      "cell_type": "code",
      "execution_count": null,
      "id": "2fbf9881",
      "metadata": {
        "id": "2fbf9881",
        "outputId": "393d6a63-470f-4fe7-96ae-0266c0a4e54e"
      },
      "outputs": [
        {
          "data": {
            "text/plain": [
              "array([2000, 2005, 2010, 2015, 2018])"
            ]
          },
          "execution_count": 172,
          "metadata": {},
          "output_type": "execute_result"
        }
      ],
      "source": [
        "# We looked for the years for which the alcohol consumption data was available\n",
        "# It turned out there were only 5 differents years for which the data was available\n",
        "# We sort it out from the minimum to the maximum value\n",
        "# Then we save it as an array\n",
        "\n",
        "years = alc20XX[\"year\"].sort_values().unique()\n",
        "years"
      ]
    },
    {
      "cell_type": "code",
      "execution_count": null,
      "id": "af606e1f",
      "metadata": {
        "id": "af606e1f",
        "outputId": "5de4d6fe-5c4b-4840-9380-3eba845c5f33"
      },
      "outputs": [
        {
          "name": "stdout",
          "output_type": "stream",
          "text": [
            "0.003 20.5\n"
          ]
        }
      ],
      "source": [
        "# We have found the minimun and the maximmum value for the alcohol consumption across all the year across all the countries\n",
        "# Then we fixed the range of alcohol consumption on each plot for every year so they could apper comparable \n",
        "\n",
        "min_alcocons = alc20XX['alcocons'].min()\n",
        "max_alcocons = alc20XX['alcocons'].max()\n",
        "print(min_alcocons, max_alcocons)"
      ]
    },
    {
      "cell_type": "code",
      "execution_count": null,
      "id": "bddefec4",
      "metadata": {
        "id": "bddefec4",
        "outputId": "66d7e205-57d3-455c-99c8-376ea743e8d7"
      },
      "outputs": [
        {
          "data": {
            "text/html": [
              "<div>\n",
              "<style scoped>\n",
              "    .dataframe tbody tr th:only-of-type {\n",
              "        vertical-align: middle;\n",
              "    }\n",
              "\n",
              "    .dataframe tbody tr th {\n",
              "        vertical-align: top;\n",
              "    }\n",
              "\n",
              "    .dataframe thead th {\n",
              "        text-align: right;\n",
              "    }\n",
              "</style>\n",
              "<table border=\"1\" class=\"dataframe\">\n",
              "  <thead>\n",
              "    <tr style=\"text-align: right;\">\n",
              "      <th></th>\n",
              "      <th>continent</th>\n",
              "      <th>code</th>\n",
              "      <th>geometry</th>\n",
              "    </tr>\n",
              "  </thead>\n",
              "  <tbody>\n",
              "    <tr>\n",
              "      <th>0</th>\n",
              "      <td>Oceania</td>\n",
              "      <td>FJI</td>\n",
              "      <td>MULTIPOLYGON (((180.00000 -16.06713, 180.00000...</td>\n",
              "    </tr>\n",
              "    <tr>\n",
              "      <th>1</th>\n",
              "      <td>Africa</td>\n",
              "      <td>TZA</td>\n",
              "      <td>POLYGON ((33.90371 -0.95000, 34.07262 -1.05982...</td>\n",
              "    </tr>\n",
              "    <tr>\n",
              "      <th>2</th>\n",
              "      <td>Africa</td>\n",
              "      <td>ESH</td>\n",
              "      <td>POLYGON ((-8.66559 27.65643, -8.66512 27.58948...</td>\n",
              "    </tr>\n",
              "    <tr>\n",
              "      <th>3</th>\n",
              "      <td>North America</td>\n",
              "      <td>CAN</td>\n",
              "      <td>MULTIPOLYGON (((-122.84000 49.00000, -122.9742...</td>\n",
              "    </tr>\n",
              "    <tr>\n",
              "      <th>4</th>\n",
              "      <td>North America</td>\n",
              "      <td>USA</td>\n",
              "      <td>MULTIPOLYGON (((-122.84000 49.00000, -120.0000...</td>\n",
              "    </tr>\n",
              "  </tbody>\n",
              "</table>\n",
              "</div>"
            ],
            "text/plain": [
              "       continent code                                           geometry\n",
              "0        Oceania  FJI  MULTIPOLYGON (((180.00000 -16.06713, 180.00000...\n",
              "1         Africa  TZA  POLYGON ((33.90371 -0.95000, 34.07262 -1.05982...\n",
              "2         Africa  ESH  POLYGON ((-8.66559 27.65643, -8.66512 27.58948...\n",
              "3  North America  CAN  MULTIPOLYGON (((-122.84000 49.00000, -122.9742...\n",
              "4  North America  USA  MULTIPOLYGON (((-122.84000 49.00000, -120.0000..."
            ]
          },
          "execution_count": 174,
          "metadata": {},
          "output_type": "execute_result"
        }
      ],
      "source": [
        "# Preparing the data world_new, preparing the map for merging, renaming the variables and\n",
        "# keeping the variables that are the most important\n",
        "# Also dropping the continent column\n",
        "\n",
        "world_new = world.drop(columns=['pop_est', 'name', 'gdp_md_est'])\n",
        "world_new.columns = ['continent', 'code', 'geometry']\n",
        "\n",
        "world_new.head()"
      ]
    },
    {
      "cell_type": "code",
      "execution_count": null,
      "id": "2e4e1e85",
      "metadata": {
        "id": "2e4e1e85"
      },
      "outputs": [],
      "source": [
        "# Creating a customised function plot_world that can plot the choropleth map\n",
        "# The fucntion takes in 5 parameters\n",
        "# We transfer the parameters min_alcocons and max_alcocons which are the same for all the maps to make sure \n",
        "# they are plotted within the same range and are easily visually comparable \n",
        "\n",
        "def plot_world(world_alc, column_name, min_alcocons, max_alcocons, plt_title):\n",
        "    mynorm = mpl.colors.Normalize(vmin=min_alcocons, vmax=max_alcocons)\n",
        "    fig, ax = plt.subplots(1, 1)\n",
        "    ax.set_title(plt_title)\n",
        "    divider = make_axes_locatable(ax)\n",
        "    cax = divider.append_axes(\"right\", size=\"3%\", pad=0.2)               \n",
        "    p = world_alc.plot(column=column_name, ax=ax, legend=True, cax=cax, cmap='OrRd', norm=mynorm)\n",
        "    return p"
      ]
    },
    {
      "cell_type": "code",
      "execution_count": null,
      "id": "5341e04a",
      "metadata": {
        "id": "5341e04a",
        "outputId": "a21c5e90-8212-4392-b499-f54db86ba4e4"
      },
      "outputs": [
        {
          "data": {
            "image/png": "[encoded data removed]",
            "text/plain": [
              "<Figure size 432x288 with 2 Axes>"
            ]
          },
          "metadata": {
            "needs_background": "light"
          },
          "output_type": "display_data"
        },
        {
          "data": {
            "image/png": "[encoded data removed]",
            "text/plain": [
              "<Figure size 432x288 with 2 Axes>"
            ]
          },
          "metadata": {
            "needs_background": "light"
          },
          "output_type": "display_data"
        },
        {
          "data": {
            "image/png": "[encoded data removed]",
            "text/plain": [
              "<Figure size 432x288 with 2 Axes>"
            ]
          },
          "metadata": {
            "needs_background": "light"
          },
          "output_type": "display_data"
        },
        {
          "data": {
            "image/png": "[encoded data removed]",
            "text/plain": [
              "<Figure size 432x288 with 2 Axes>"
            ]
          },
          "metadata": {
            "needs_background": "light"
          },
          "output_type": "display_data"
        },
        {
          "data": {
            "image/png": "[encoded data removed]",
            "text/plain": [
              "<Figure size 432x288 with 2 Axes>"
            ]
          },
          "metadata": {
            "needs_background": "light"
          },
          "output_type": "display_data"
        }
      ],
      "source": [
        "# Now we want to merge two dataframes\n",
        "# We start with the map - we will colour the map based on the alcohol consumption data\n",
        "# We are going to use 'left merge' \n",
        "\n",
        "# imageio library was imported and used to produced a GIF out of 5 multiple pictures\n",
        "# It works by taking the images and appending them into a list. After it saves it into a GIF file\n",
        "\n",
        "import imageio\n",
        "from mpl_toolkits.axes_grid1 import make_axes_locatable\n",
        "\n",
        "images = []\n",
        "for i in range(5):\n",
        "    alc_Y = alc20XX[alc20XX.year == years[i]]\n",
        "    world_alc_Y = world_new.merge(alc_Y, how='left', on='code')\n",
        "    world_alc_Y = world_alc_Y.dropna()\n",
        "\n",
        "    # plotting\n",
        "    plt_title = 'Alcohol Consumption in ' + str(years[i])\n",
        "    p = plot_world(world_alc_Y, 'alcocons', min_alcocons, max_alcocons, plt_title).get_figure()\n",
        "    p.savefig('/Users/gleb.khamin/DATA/DV_CW_2/world_alc' + str(i) + '.png', dpi=300)\n",
        "    images.append(imageio.imread('/Users/gleb.khamin/DATA/DV_CW_2/world_alc' + str(i) + '.png'))\n",
        "\n",
        "# Saving the visualisation containing 5 frames as a GIF file\n",
        "# It is further uploaded on the server created for this project and can be viewed following \n",
        "# this link http://www.ggsoroka.com/alc.gif\n",
        "\n",
        "imageio.mimsave('/Users/gleb.khamin/DATA/DV_CW_2/world_alc.gif', images, fps=1)"
      ]
    },
    {
      "cell_type": "code",
      "execution_count": null,
      "id": "51a581c3",
      "metadata": {
        "id": "51a581c3"
      },
      "outputs": [],
      "source": []
    },
    {
      "cell_type": "markdown",
      "id": "af89984f",
      "metadata": {
        "id": "af89984f"
      },
      "source": [
        "**Visualisation 2. GDP Per Capita and Alcohol Consumption by Country 2000-2018: Interactive Bubble Plot**"
      ]
    },
    {
      "cell_type": "code",
      "execution_count": null,
      "id": "fbf6caf1",
      "metadata": {
        "id": "fbf6caf1"
      },
      "outputs": [],
      "source": [
        "import plotly.express as px"
      ]
    },
    {
      "cell_type": "code",
      "execution_count": null,
      "id": "2d2fdc3d",
      "metadata": {
        "id": "2d2fdc3d",
        "outputId": "514201db-e7dc-4dbf-cfe0-6da4121bf82b"
      },
      "outputs": [
        {
          "data": {
            "text/html": [
              "<div>\n",
              "<style scoped>\n",
              "    .dataframe tbody tr th:only-of-type {\n",
              "        vertical-align: middle;\n",
              "    }\n",
              "\n",
              "    .dataframe tbody tr th {\n",
              "        vertical-align: top;\n",
              "    }\n",
              "\n",
              "    .dataframe thead th {\n",
              "        text-align: right;\n",
              "    }\n",
              "</style>\n",
              "<table border=\"1\" class=\"dataframe\">\n",
              "  <thead>\n",
              "    <tr style=\"text-align: right;\">\n",
              "      <th></th>\n",
              "      <th>country</th>\n",
              "      <th>code</th>\n",
              "      <th>year</th>\n",
              "      <th>alcocons</th>\n",
              "      <th>gdppercap</th>\n",
              "      <th>population</th>\n",
              "    </tr>\n",
              "  </thead>\n",
              "  <tbody>\n",
              "    <tr>\n",
              "      <th>3</th>\n",
              "      <td>Afghanistan</td>\n",
              "      <td>AFG</td>\n",
              "      <td>2018</td>\n",
              "      <td>0.21</td>\n",
              "      <td>2033.804389</td>\n",
              "      <td>37171922.0</td>\n",
              "    </tr>\n",
              "    <tr>\n",
              "      <th>586</th>\n",
              "      <td>Albania</td>\n",
              "      <td>ALB</td>\n",
              "      <td>2018</td>\n",
              "      <td>7.17</td>\n",
              "      <td>13323.753356</td>\n",
              "      <td>2882735.0</td>\n",
              "    </tr>\n",
              "    <tr>\n",
              "      <th>845</th>\n",
              "      <td>Algeria</td>\n",
              "      <td>DZA</td>\n",
              "      <td>2018</td>\n",
              "      <td>0.95</td>\n",
              "      <td>11642.198345</td>\n",
              "      <td>42228415.0</td>\n",
              "    </tr>\n",
              "    <tr>\n",
              "      <th>1477</th>\n",
              "      <td>Angola</td>\n",
              "      <td>AGO</td>\n",
              "      <td>2018</td>\n",
              "      <td>6.94</td>\n",
              "      <td>6933.499934</td>\n",
              "      <td>30809787.0</td>\n",
              "    </tr>\n",
              "    <tr>\n",
              "      <th>1858</th>\n",
              "      <td>Antigua and Barbuda</td>\n",
              "      <td>ATG</td>\n",
              "      <td>2018</td>\n",
              "      <td>6.38</td>\n",
              "      <td>21030.395072</td>\n",
              "      <td>96282.0</td>\n",
              "    </tr>\n",
              "  </tbody>\n",
              "</table>\n",
              "</div>"
            ],
            "text/plain": [
              "                  country code  year  alcocons     gdppercap  population\n",
              "3             Afghanistan  AFG  2018      0.21   2033.804389  37171922.0\n",
              "586               Albania  ALB  2018      7.17  13323.753356   2882735.0\n",
              "845               Algeria  DZA  2018      0.95  11642.198345  42228415.0\n",
              "1477               Angola  AGO  2018      6.94   6933.499934  30809787.0\n",
              "1858  Antigua and Barbuda  ATG  2018      6.38  21030.395072     96282.0"
            ]
          },
          "execution_count": 200,
          "metadata": {},
          "output_type": "execute_result"
        }
      ],
      "source": [
        "# Dropping missing values\n",
        "alc20XX = alc.drop(columns=['Continent'])\n",
        "alc20XX = alc20XX.dropna()\n",
        "\n",
        "# Changing column names\n",
        "alc20XX.columns = ['country', 'code', 'year', 'alcocons', 'gdppercap', 'population']\n",
        "\n",
        "alc2018 = alc20XX[alc20XX.year == 2018] \n",
        "alc2018.head()"
      ]
    },
    {
      "cell_type": "code",
      "execution_count": null,
      "id": "6cb217e2",
      "metadata": {
        "id": "6cb217e2",
        "outputId": "57ca569d-a685-4a22-a204-c5d048745350"
      },
      "outputs": [
        {
          "data": {
            "text/html": [
              "<div>\n",
              "<style scoped>\n",
              "    .dataframe tbody tr th:only-of-type {\n",
              "        vertical-align: middle;\n",
              "    }\n",
              "\n",
              "    .dataframe tbody tr th {\n",
              "        vertical-align: top;\n",
              "    }\n",
              "\n",
              "    .dataframe thead th {\n",
              "        text-align: right;\n",
              "    }\n",
              "</style>\n",
              "<table border=\"1\" class=\"dataframe\">\n",
              "  <thead>\n",
              "    <tr style=\"text-align: right;\">\n",
              "      <th></th>\n",
              "      <th>continent</th>\n",
              "      <th>code</th>\n",
              "    </tr>\n",
              "  </thead>\n",
              "  <tbody>\n",
              "    <tr>\n",
              "      <th>0</th>\n",
              "      <td>Oceania</td>\n",
              "      <td>FJI</td>\n",
              "    </tr>\n",
              "    <tr>\n",
              "      <th>1</th>\n",
              "      <td>Africa</td>\n",
              "      <td>TZA</td>\n",
              "    </tr>\n",
              "    <tr>\n",
              "      <th>2</th>\n",
              "      <td>Africa</td>\n",
              "      <td>ESH</td>\n",
              "    </tr>\n",
              "    <tr>\n",
              "      <th>3</th>\n",
              "      <td>North America</td>\n",
              "      <td>CAN</td>\n",
              "    </tr>\n",
              "    <tr>\n",
              "      <th>4</th>\n",
              "      <td>North America</td>\n",
              "      <td>USA</td>\n",
              "    </tr>\n",
              "  </tbody>\n",
              "</table>\n",
              "</div>"
            ],
            "text/plain": [
              "       continent code\n",
              "0        Oceania  FJI\n",
              "1         Africa  TZA\n",
              "2         Africa  ESH\n",
              "3  North America  CAN\n",
              "4  North America  USA"
            ]
          },
          "execution_count": 201,
          "metadata": {},
          "output_type": "execute_result"
        }
      ],
      "source": [
        "# Dropping the geometry column \n",
        "# Dropping duplicates\n",
        "\n",
        "world_continents = world_new.drop(columns=['geometry']).drop_duplicates()\n",
        "world_continents.head()"
      ]
    },
    {
      "cell_type": "code",
      "execution_count": null,
      "id": "46366c0e",
      "metadata": {
        "id": "46366c0e",
        "outputId": "9820020d-d6ce-4591-da5c-0f7f96c99c19"
      },
      "outputs": [
        {
          "data": {
            "text/html": [
              "<div>\n",
              "<style scoped>\n",
              "    .dataframe tbody tr th:only-of-type {\n",
              "        vertical-align: middle;\n",
              "    }\n",
              "\n",
              "    .dataframe tbody tr th {\n",
              "        vertical-align: top;\n",
              "    }\n",
              "\n",
              "    .dataframe thead th {\n",
              "        text-align: right;\n",
              "    }\n",
              "</style>\n",
              "<table border=\"1\" class=\"dataframe\">\n",
              "  <thead>\n",
              "    <tr style=\"text-align: right;\">\n",
              "      <th></th>\n",
              "      <th>country</th>\n",
              "      <th>code</th>\n",
              "      <th>year</th>\n",
              "      <th>alcocons</th>\n",
              "      <th>gdppercap</th>\n",
              "      <th>population</th>\n",
              "      <th>continent</th>\n",
              "    </tr>\n",
              "  </thead>\n",
              "  <tbody>\n",
              "    <tr>\n",
              "      <th>575</th>\n",
              "      <td>Nicaragua</td>\n",
              "      <td>NIC</td>\n",
              "      <td>2000</td>\n",
              "      <td>5.05</td>\n",
              "      <td>3968.892933</td>\n",
              "      <td>5069310.0</td>\n",
              "      <td>North America</td>\n",
              "    </tr>\n",
              "    <tr>\n",
              "      <th>151</th>\n",
              "      <td>Central African Republic</td>\n",
              "      <td>CAF</td>\n",
              "      <td>2000</td>\n",
              "      <td>3.68</td>\n",
              "      <td>1040.103835</td>\n",
              "      <td>3640421.0</td>\n",
              "      <td>Africa</td>\n",
              "    </tr>\n",
              "    <tr>\n",
              "      <th>388</th>\n",
              "      <td>Italy</td>\n",
              "      <td>ITA</td>\n",
              "      <td>2000</td>\n",
              "      <td>10.37</td>\n",
              "      <td>43053.933064</td>\n",
              "      <td>56692178.0</td>\n",
              "      <td>Europe</td>\n",
              "    </tr>\n",
              "    <tr>\n",
              "      <th>655</th>\n",
              "      <td>Russia</td>\n",
              "      <td>RUS</td>\n",
              "      <td>2000</td>\n",
              "      <td>15.73</td>\n",
              "      <td>14569.936583</td>\n",
              "      <td>146404890.0</td>\n",
              "      <td>Europe</td>\n",
              "    </tr>\n",
              "    <tr>\n",
              "      <th>806</th>\n",
              "      <td>Tunisia</td>\n",
              "      <td>TUN</td>\n",
              "      <td>2000</td>\n",
              "      <td>1.36</td>\n",
              "      <td>7329.345126</td>\n",
              "      <td>9708347.0</td>\n",
              "      <td>Africa</td>\n",
              "    </tr>\n",
              "  </tbody>\n",
              "</table>\n",
              "</div>"
            ],
            "text/plain": [
              "                      country code  year  alcocons     gdppercap   population  \\\n",
              "575                 Nicaragua  NIC  2000      5.05   3968.892933    5069310.0   \n",
              "151  Central African Republic  CAF  2000      3.68   1040.103835    3640421.0   \n",
              "388                     Italy  ITA  2000     10.37  43053.933064   56692178.0   \n",
              "655                    Russia  RUS  2000     15.73  14569.936583  146404890.0   \n",
              "806                   Tunisia  TUN  2000      1.36   7329.345126    9708347.0   \n",
              "\n",
              "         continent  \n",
              "575  North America  \n",
              "151         Africa  \n",
              "388         Europe  \n",
              "655         Europe  \n",
              "806         Africa  "
            ]
          },
          "execution_count": 202,
          "metadata": {},
          "output_type": "execute_result"
        }
      ],
      "source": [
        "# We now want to merge the two dataframes and we start with the map - we will try to colour the map based on the\n",
        "# alcohol consumtion data\n",
        "\n",
        "# We are going to use 'left merge' \n",
        "alc20XX_continent = alc20XX.merge(world_continents, how='left', on='code')\n",
        "alc20XX_continent = alc20XX_continent.dropna().sort_values('year')\n",
        "alc20XX_continent.head()"
      ]
    },
    {
      "cell_type": "code",
      "execution_count": null,
      "id": "bb9b9a3c",
      "metadata": {
        "id": "bb9b9a3c",
        "outputId": "c0dde243-9ac4-49ac-a80a-bf6bb6cfe333"
      },
      "outputs": [
        {
          "data": {
            "application/vnd.plotly.v1+json": {
              "config": {
                "plotlyServerURL": "https://plot.ly"
              },
              "data": [
                {
                  "hovertemplate": "<b>%{hovertext}</b><br><br>continent=Asia<br>gdppercap=%{x}<br>alcocons=%{y}<br>population=%{marker.size}<extra></extra>",
                  "hovertext": [
                    "Timor",
                    "Tajikistan",
                    "China",
                    "Afghanistan",
                    "Cyprus",
                    "Vietnam",
                    "Thailand",
                    "Armenia",
                    "Brunei",
                    "Bhutan",
                    "United Arab Emirates",
                    "Turkmenistan",
                    "Azerbaijan",
                    "Cambodia",
                    "Turkey",
                    "Bangladesh",
                    "Uzbekistan",
                    "Lebanon",
                    "Laos",
                    "Kyrgyzstan",
                    "Philippines",
                    "Kuwait",
                    "Kazakhstan",
                    "Jordan",
                    "Japan",
                    "Qatar",
                    "Israel",
                    "Nepal",
                    "Myanmar",
                    "Mongolia",
                    "Oman",
                    "Malaysia",
                    "Pakistan",
                    "Iraq",
                    "South Korea",
                    "Sri Lanka",
                    "Iran",
                    "Indonesia",
                    "India",
                    "Saudi Arabia",
                    "Georgia"
                  ],
                  "legendgroup": "Asia",
                  "marker": {
                    "color": "#636efa",
                    "size": [
                      1267975,
                      9100847,
                      1427647789,
                      37171922,
                      1189262,
                      95545959,
                      69428454,
                      2951741,
                      428960,
                      754396,
                      9630966,
                      5850902,
                      9949537,
                      16249795,
                      82340090,
                      161376713,
                      32476232,
                      6859408,
                      7061498,
                      6304025,
                      106651394,
                      4137314,
                      18319616,
                      9965322,
                      127202190,
                      2781682,
                      8381507,
                      28095712,
                      53708318,
                      3170214,
                      4829476,
                      31528033,
                      212228288,
                      38433604,
                      51171700,
                      21228760,
                      81800204,
                      267670549,
                      1352642283,
                      33702757,
                      4002946
                    ],
                    "sizemode": "area",
                    "sizeref": 571059.1156,
                    "symbol": "circle"
                  },
                  "mode": "markers",
                  "name": "Asia",
                  "orientation": "v",
                  "showlegend": true,
                  "type": "scatter",
                  "x": [
                    3051.66811727864,
                    3415.32233593608,
                    15242.9858575834,
                    2033.80438893717,
                    39559.4879646749,
                    7585.94315504036,
                    18095.7365704368,
                    12715.1089539751,
                    60389.1846472589,
                    11348.4419521,
                    66968.2211775042,
                    14845.3446497287,
                    14209.6494059309,
                    4159.33819437034,
                    28312.6834243604,
                    4440.85547046826,
                    6755.48097366685,
                    15588.1528714896,
                    7592.82947474583,
                    5133.1519146081,
                    8516.13654897274,
                    50478.5875050676,
                    25544.3447563035,
                    10013.3976633388,
                    41182.3802046593,
                    90970.0609016321,
                    39418.3453068224,
                    3773.71591761441,
                    5029.1880858737,
                    11915.5567471637,
                    28350.9435298546,
                    27558.1369502408,
                    4739.47271266276,
                    10346.2129581855,
                    41948.3460057222,
                    12860.3208303539,
                    13471.8606376875,
                    11371.7255560847,
                    6518.84505546914,
                    47592.7671473292,
                    14253.4089858441
                  ],
                  "xaxis": "x",
                  "y": [
                    2.17,
                    3.28,
                    7.05,
                    0.21,
                    10.81,
                    8.66,
                    8.3,
                    5.55,
                    0.48,
                    0.43,
                    3.9,
                    4.93,
                    4.41,
                    6.64,
                    2.05,
                    0.019,
                    2.59,
                    1.71,
                    10.72,
                    6.26,
                    6.86,
                    0.003,
                    4.76,
                    0.69,
                    7.96,
                    1.59,
                    4.21,
                    2.05,
                    5.12,
                    8.19,
                    0.78,
                    0.85,
                    0.34,
                    0.39,
                    9.7,
                    4.1,
                    1.03,
                    0.57,
                    5.54,
                    0.19,
                    8.25
                  ],
                  "yaxis": "y"
                },
                {
                  "hovertemplate": "<b>%{hovertext}</b><br><br>continent=South America<br>gdppercap=%{x}<br>alcocons=%{y}<br>population=%{marker.size}<extra></extra>",
                  "hovertext": [
                    "Argentina",
                    "Colombia",
                    "Brazil",
                    "Bolivia",
                    "Chile",
                    "Uruguay",
                    "Paraguay",
                    "Peru",
                    "Suriname",
                    "Ecuador",
                    "Guyana"
                  ],
                  "legendgroup": "South America",
                  "marker": {
                    "color": "#EF553B",
                    "size": [
                      44361150,
                      49661056,
                      209469320,
                      11353140,
                      18729166,
                      3449290,
                      6956069,
                      31989265,
                      575987,
                      17084359,
                      779007
                    ],
                    "sizemode": "area",
                    "sizeref": 571059.1156,
                    "symbol": "circle"
                  },
                  "mode": "markers",
                  "name": "South America",
                  "orientation": "v",
                  "showlegend": true,
                  "type": "scatter",
                  "x": [
                    22759.3985583341,
                    14314.8555765268,
                    14668.2561636292,
                    8655.53149780443,
                    25028.9099914542,
                    23035.0833880454,
                    12827.7080209236,
                    12781.4164435302,
                    19005.6543464151,
                    11561.747853143,
                    12477.5767111562
                  ],
                  "xaxis": "x",
                  "y": [
                    9.65,
                    5.74,
                    7.42,
                    4.43,
                    9.07,
                    6.92,
                    7.58,
                    6.38,
                    5.33,
                    4.2,
                    6.89
                  ],
                  "yaxis": "y"
                },
                {
                  "hovertemplate": "<b>%{hovertext}</b><br><br>continent=Europe<br>gdppercap=%{x}<br>alcocons=%{y}<br>population=%{marker.size}<extra></extra>",
                  "hovertext": [
                    "Czechia",
                    "Albania",
                    "Croatia",
                    "Belarus",
                    "Belgium",
                    "Bosnia and Herzegovina",
                    "Ukraine",
                    "United Kingdom",
                    "Bulgaria",
                    "Austria",
                    "France",
                    "Denmark",
                    "Latvia",
                    "Poland",
                    "Portugal",
                    "Italy",
                    "Lithuania",
                    "Netherlands",
                    "Montenegro",
                    "North Macedonia",
                    "Moldova",
                    "Norway",
                    "Luxembourg",
                    "Switzerland",
                    "Romania",
                    "Finland",
                    "Spain",
                    "Estonia",
                    "Sweden",
                    "Ireland",
                    "Germany",
                    "Russia",
                    "Iceland",
                    "Hungary",
                    "Serbia",
                    "Slovakia",
                    "Greece",
                    "Slovenia"
                  ],
                  "legendgroup": "Europe",
                  "marker": {
                    "color": "#00cc96",
                    "size": [
                      10665679,
                      2882735,
                      4156407,
                      9452615,
                      11482180,
                      3323929,
                      44246158,
                      67141678,
                      7051610,
                      8891383,
                      64990512,
                      5752131,
                      1928461,
                      37921585,
                      10256192,
                      60627291,
                      2801270,
                      17059560,
                      627803,
                      2082956,
                      4051950,
                      5337960,
                      604244,
                      8525614,
                      19506110,
                      5522585,
                      46692863,
                      1322913,
                      9971630,
                      4818694,
                      83124413,
                      145734034,
                      336712,
                      9707502,
                      8802741,
                      5453017,
                      10522244,
                      2077835
                    ],
                    "sizemode": "area",
                    "sizeref": 571059.1156,
                    "symbol": "circle"
                  },
                  "mode": "markers",
                  "name": "Europe",
                  "orientation": "v",
                  "showlegend": true,
                  "type": "scatter",
                  "x": [
                    39932.992193117,
                    13323.7533559132,
                    27799.8433225132,
                    18885.2354999668,
                    51110.9584679336,
                    14386.7318547663,
                    12338.0024454764,
                    46037.9005384222,
                    22208.4522754771,
                    55297.6182880367,
                    45251.9054105957,
                    56281.2888680368,
                    30036.0865499334,
                    31674.1316243417,
                    34040.7255617749,
                    42052.5563822519,
                    35427.4618636641,
                    56060.9136269404,
                    20686.5759142606,
                    16093.3104230501,
                    12363.1468378401,
                    64341.2589026158,
                    113589.670473448,
                    70663.4875973954,
                    28523.4731832065,
                    48130.2923921114,
                    40312.5475864011,
                    35208.0239637019,
                    52349.2924275599,
                    84303.3408922937,
                    53463.4014817389,
                    26656.4095416865,
                    56722.1193741156,
                    31095.557503677,
                    17452.7958990327,
                    31132.5729674338,
                    29150.6944922443,
                    37968.3520620285
                  ],
                  "xaxis": "x",
                  "y": [
                    14.45,
                    7.17,
                    9.23,
                    11.45,
                    11.08,
                    7.15,
                    8.32,
                    11.45,
                    12.65,
                    11.96,
                    12.33,
                    10.26,
                    12.77,
                    11.71,
                    12.03,
                    7.84,
                    13.22,
                    9.61,
                    11.47,
                    6.16,
                    11.43,
                    7.41,
                    12.94,
                    11.53,
                    11.74,
                    10.78,
                    12.72,
                    9.23,
                    8.93,
                    12.88,
                    12.91,
                    11.19,
                    9.12,
                    11.35,
                    8.75,
                    11.14,
                    10.18,
                    11.9
                  ],
                  "yaxis": "y"
                },
                {
                  "hovertemplate": "<b>%{hovertext}</b><br><br>continent=Africa<br>gdppercap=%{x}<br>alcocons=%{y}<br>population=%{marker.size}<extra></extra>",
                  "hovertext": [
                    "Zambia",
                    "Congo",
                    "Angola",
                    "Algeria",
                    "Tanzania",
                    "Cote d'Ivoire",
                    "Benin",
                    "Uganda",
                    "Democratic Republic of Congo",
                    "Botswana",
                    "Burkina Faso",
                    "Togo",
                    "Chad",
                    "Central African Republic",
                    "Cameroon",
                    "Tunisia",
                    "Burundi",
                    "Libya",
                    "Liberia",
                    "Lesotho",
                    "Kenya",
                    "Madagascar",
                    "Namibia",
                    "Niger",
                    "Mozambique",
                    "Morocco",
                    "Nigeria",
                    "Mauritania",
                    "Mali",
                    "Malawi",
                    "Gambia",
                    "Gabon",
                    "South Africa",
                    "Ethiopia",
                    "Eswatini",
                    "Equatorial Guinea",
                    "Sudan",
                    "Egypt",
                    "Djibouti",
                    "Somalia",
                    "Rwanda",
                    "Senegal",
                    "Guinea-Bissau",
                    "Sierra Leone",
                    "Guinea",
                    "Ghana",
                    "Zimbabwe"
                  ],
                  "legendgroup": "Africa",
                  "marker": {
                    "color": "#ab63fa",
                    "size": [
                      17351714,
                      5244363,
                      30809787,
                      42228415,
                      56313444,
                      25069226,
                      11485035,
                      42729032,
                      84068092,
                      2254067,
                      19751466,
                      7889095,
                      15477727,
                      4666375,
                      25216261,
                      11565203,
                      11175379,
                      6678565,
                      4818976,
                      2108327,
                      51392570,
                      26262313,
                      2448300,
                      22442831,
                      29496009,
                      36029089,
                      195874685,
                      4403312,
                      19077755,
                      18143215,
                      2280092,
                      2119275,
                      57792520,
                      109224410,
                      1136274,
                      1308966,
                      41801532,
                      98423602,
                      958923,
                      15008225,
                      12301969,
                      15854324,
                      1874304,
                      7650149,
                      12414292,
                      29767108,
                      14438812
                    ],
                    "sizemode": "area",
                    "sizeref": 571059.1156,
                    "symbol": "circle"
                  },
                  "mode": "markers",
                  "name": "Africa",
                  "orientation": "v",
                  "showlegend": true,
                  "type": "scatter",
                  "x": [
                    3521.5420629895,
                    3933.425550952,
                    6933.49993413352,
                    11642.1983450506,
                    2590.20113826159,
                    5033.47882607719,
                    3160.7806702321,
                    2121.96781993514,
                    1085.89368770943,
                    17634.6561910867,
                    2120.33026783506,
                    2061.33417572853,
                    1576.32111465904,
                    933.10995060419,
                    3603.54827506808,
                    10763.7297838206,
                    761.524125241416,
                    15017.9935741811,
                    1497.00478720289,
                    2614.65884916972,
                    4203.83827267811,
                    1592.05355843859,
                    10092.258820242,
                    1200.97246385835,
                    1289.73594800556,
                    7446.93622037578,
                    5155.07599367409,
                    5042.43119844404,
                    2283.70241285673,
                    1471.03724879602,
                    2158.07755816639,
                    14744.4343267491,
                    12627.9285840445,
                    2103.51585836696,
                    8520.59238619335,
                    20386.0138677131,
                    4344.52988671066,
                    11366.3355206681,
                    5214.07218666426,
                    866.765302072035,
                    2088.74922433298,
                    3309.48617330672,
                    1901.93173857674,
                    1663.29348036377,
                    2499.70726640711,
                    5177.88398862782,
                    3341.66541766316
                  ],
                  "xaxis": "x",
                  "y": [
                    6.54,
                    9.27,
                    6.94,
                    0.95,
                    11.27,
                    2.71,
                    2.81,
                    15.09,
                    2,
                    6.59,
                    12.03,
                    2.46,
                    1.37,
                    2.38,
                    5.65,
                    2.12,
                    7.19,
                    0.019,
                    6.12,
                    4.59,
                    2.78,
                    1.97,
                    5.43,
                    0.67,
                    2.3,
                    0.69,
                    10.84,
                    0.036,
                    1.28,
                    3.63,
                    3.55,
                    8.74,
                    9.52,
                    2.36,
                    10.04,
                    7.23,
                    0.51,
                    0.36,
                    0.43,
                    0.009,
                    8.95,
                    0.76,
                    5.38,
                    5.7,
                    1.11,
                    2.75,
                    4.67
                  ],
                  "yaxis": "y"
                },
                {
                  "hovertemplate": "<b>%{hovertext}</b><br><br>continent=North America<br>gdppercap=%{x}<br>alcocons=%{y}<br>population=%{marker.size}<extra></extra>",
                  "hovertext": [
                    "Costa Rica",
                    "United States",
                    "Belize",
                    "Trinidad and Tobago",
                    "Canada",
                    "Bahamas",
                    "Jamaica",
                    "Panama",
                    "Nicaragua",
                    "Mexico",
                    "El Salvador",
                    "Dominican Republic",
                    "Honduras",
                    "Haiti",
                    "Guatemala"
                  ],
                  "legendgroup": "North America",
                  "marker": {
                    "color": "#FFA15A",
                    "size": [
                      4999443,
                      327096263,
                      383071,
                      1389841,
                      37074558,
                      385635,
                      2934853,
                      4176868,
                      6465502,
                      126190782,
                      6420740,
                      10627147,
                      9587523,
                      11123183,
                      17247855
                    ],
                    "sizemode": "area",
                    "sizeref": 571059.1156,
                    "symbol": "circle"
                  },
                  "mode": "markers",
                  "name": "North America",
                  "orientation": "v",
                  "showlegend": true,
                  "type": "scatter",
                  "x": [
                    20559.8604252658,
                    61585.7560382102,
                    7261.87028738671,
                    26250.3722429394,
                    48796.8137814007,
                    37019.9950489508,
                    9734.86228780542,
                    31012.9461549459,
                    5729.68822390273,
                    19928.3956618582,
                    8614.01795915499,
                    17711.7955337583,
                    5680.36288396582,
                    2992.31041114318,
                    8462.17210684372
                  ],
                  "xaxis": "x",
                  "y": [
                    4.87,
                    9.87,
                    6.22,
                    6.72,
                    8.94,
                    4.78,
                    4.22,
                    7.98,
                    5.18,
                    5,
                    3.89,
                    6.68,
                    3.76,
                    2.73,
                    2.45
                  ],
                  "yaxis": "y"
                },
                {
                  "hovertemplate": "<b>%{hovertext}</b><br><br>continent=Oceania<br>gdppercap=%{x}<br>alcocons=%{y}<br>population=%{marker.size}<extra></extra>",
                  "hovertext": [
                    "Vanuatu",
                    "Australia",
                    "Papua New Guinea",
                    "New Zealand",
                    "Fiji",
                    "Solomon Islands"
                  ],
                  "legendgroup": "Oceania",
                  "marker": {
                    "color": "#19d3f3",
                    "size": [
                      292675,
                      24898153,
                      8606324,
                      4743131,
                      883490,
                      652856
                    ],
                    "sizemode": "area",
                    "sizeref": 571059.1156,
                    "symbol": "circle"
                  },
                  "mode": "markers",
                  "name": "Oceania",
                  "orientation": "v",
                  "showlegend": true,
                  "type": "scatter",
                  "x": [
                    3093.46154723291,
                    49151.6887104846,
                    4190.0948949613,
                    42866.1272276586,
                    13846.1588353285,
                    2697.64643055486
                  ],
                  "xaxis": "x",
                  "y": [
                    2.25,
                    10.51,
                    1.39,
                    10.63,
                    3.32,
                    1.83
                  ],
                  "yaxis": "y"
                }
              ],
              "layout": {
                "legend": {
                  "itemsizing": "constant",
                  "title": {
                    "text": "continent"
                  },
                  "tracegroupgap": 0
                },
                "margin": {
                  "t": 60
                },
                "template": {
                  "data": {
                    "bar": [
                      {
                        "error_x": {
                          "color": "#2a3f5f"
                        },
                        "error_y": {
                          "color": "#2a3f5f"
                        },
                        "marker": {
                          "line": {
                            "color": "#E5ECF6",
                            "width": 0.5
                          },
                          "pattern": {
                            "fillmode": "overlay",
                            "size": 10,
                            "solidity": 0.2
                          }
                        },
                        "type": "bar"
                      }
                    ],
                    "barpolar": [
                      {
                        "marker": {
                          "line": {
                            "color": "#E5ECF6",
                            "width": 0.5
                          },
                          "pattern": {
                            "fillmode": "overlay",
                            "size": 10,
                            "solidity": 0.2
                          }
                        },
                        "type": "barpolar"
                      }
                    ],
                    "carpet": [
                      {
                        "aaxis": {
                          "endlinecolor": "#2a3f5f",
                          "gridcolor": "white",
                          "linecolor": "white",
                          "minorgridcolor": "white",
                          "startlinecolor": "#2a3f5f"
                        },
                        "baxis": {
                          "endlinecolor": "#2a3f5f",
                          "gridcolor": "white",
                          "linecolor": "white",
                          "minorgridcolor": "white",
                          "startlinecolor": "#2a3f5f"
                        },
                        "type": "carpet"
                      }
                    ],
                    "choropleth": [
                      {
                        "colorbar": {
                          "outlinewidth": 0,
                          "ticks": ""
                        },
                        "type": "choropleth"
                      }
                    ],
                    "contour": [
                      {
                        "colorbar": {
                          "outlinewidth": 0,
                          "ticks": ""
                        },
                        "colorscale": [
                          [
                            0,
                            "#0d0887"
                          ],
                          [
                            0.1111111111111111,
                            "#46039f"
                          ],
                          [
                            0.2222222222222222,
                            "#7201a8"
                          ],
                          [
                            0.3333333333333333,
                            "#9c179e"
                          ],
                          [
                            0.4444444444444444,
                            "#bd3786"
                          ],
                          [
                            0.5555555555555556,
                            "#d8576b"
                          ],
                          [
                            0.6666666666666666,
                            "#ed7953"
                          ],
                          [
                            0.7777777777777778,
                            "#fb9f3a"
                          ],
                          [
                            0.8888888888888888,
                            "#fdca26"
                          ],
                          [
                            1,
                            "#f0f921"
                          ]
                        ],
                        "type": "contour"
                      }
                    ],
                    "contourcarpet": [
                      {
                        "colorbar": {
                          "outlinewidth": 0,
                          "ticks": ""
                        },
                        "type": "contourcarpet"
                      }
                    ],
                    "heatmap": [
                      {
                        "colorbar": {
                          "outlinewidth": 0,
                          "ticks": ""
                        },
                        "colorscale": [
                          [
                            0,
                            "#0d0887"
                          ],
                          [
                            0.1111111111111111,
                            "#46039f"
                          ],
                          [
                            0.2222222222222222,
                            "#7201a8"
                          ],
                          [
                            0.3333333333333333,
                            "#9c179e"
                          ],
                          [
                            0.4444444444444444,
                            "#bd3786"
                          ],
                          [
                            0.5555555555555556,
                            "#d8576b"
                          ],
                          [
                            0.6666666666666666,
                            "#ed7953"
                          ],
                          [
                            0.7777777777777778,
                            "#fb9f3a"
                          ],
                          [
                            0.8888888888888888,
                            "#fdca26"
                          ],
                          [
                            1,
                            "#f0f921"
                          ]
                        ],
                        "type": "heatmap"
                      }
                    ],
                    "heatmapgl": [
                      {
                        "colorbar": {
                          "outlinewidth": 0,
                          "ticks": ""
                        },
                        "colorscale": [
                          [
                            0,
                            "#0d0887"
                          ],
                          [
                            0.1111111111111111,
                            "#46039f"
                          ],
                          [
                            0.2222222222222222,
                            "#7201a8"
                          ],
                          [
                            0.3333333333333333,
                            "#9c179e"
                          ],
                          [
                            0.4444444444444444,
                            "#bd3786"
                          ],
                          [
                            0.5555555555555556,
                            "#d8576b"
                          ],
                          [
                            0.6666666666666666,
                            "#ed7953"
                          ],
                          [
                            0.7777777777777778,
                            "#fb9f3a"
                          ],
                          [
                            0.8888888888888888,
                            "#fdca26"
                          ],
                          [
                            1,
                            "#f0f921"
                          ]
                        ],
                        "type": "heatmapgl"
                      }
                    ],
                    "histogram": [
                      {
                        "marker": {
                          "pattern": {
                            "fillmode": "overlay",
                            "size": 10,
                            "solidity": 0.2
                          }
                        },
                        "type": "histogram"
                      }
                    ],
                    "histogram2d": [
                      {
                        "colorbar": {
                          "outlinewidth": 0,
                          "ticks": ""
                        },
                        "colorscale": [
                          [
                            0,
                            "#0d0887"
                          ],
                          [
                            0.1111111111111111,
                            "#46039f"
                          ],
                          [
                            0.2222222222222222,
                            "#7201a8"
                          ],
                          [
                            0.3333333333333333,
                            "#9c179e"
                          ],
                          [
                            0.4444444444444444,
                            "#bd3786"
                          ],
                          [
                            0.5555555555555556,
                            "#d8576b"
                          ],
                          [
                            0.6666666666666666,
                            "#ed7953"
                          ],
                          [
                            0.7777777777777778,
                            "#fb9f3a"
                          ],
                          [
                            0.8888888888888888,
                            "#fdca26"
                          ],
                          [
                            1,
                            "#f0f921"
                          ]
                        ],
                        "type": "histogram2d"
                      }
                    ],
                    "histogram2dcontour": [
                      {
                        "colorbar": {
                          "outlinewidth": 0,
                          "ticks": ""
                        },
                        "colorscale": [
                          [
                            0,
                            "#0d0887"
                          ],
                          [
                            0.1111111111111111,
                            "#46039f"
                          ],
                          [
                            0.2222222222222222,
                            "#7201a8"
                          ],
                          [
                            0.3333333333333333,
                            "#9c179e"
                          ],
                          [
                            0.4444444444444444,
                            "#bd3786"
                          ],
                          [
                            0.5555555555555556,
                            "#d8576b"
                          ],
                          [
                            0.6666666666666666,
                            "#ed7953"
                          ],
                          [
                            0.7777777777777778,
                            "#fb9f3a"
                          ],
                          [
                            0.8888888888888888,
                            "#fdca26"
                          ],
                          [
                            1,
                            "#f0f921"
                          ]
                        ],
                        "type": "histogram2dcontour"
                      }
                    ],
                    "mesh3d": [
                      {
                        "colorbar": {
                          "outlinewidth": 0,
                          "ticks": ""
                        },
                        "type": "mesh3d"
                      }
                    ],
                    "parcoords": [
                      {
                        "line": {
                          "colorbar": {
                            "outlinewidth": 0,
                            "ticks": ""
                          }
                        },
                        "type": "parcoords"
                      }
                    ],
                    "pie": [
                      {
                        "automargin": true,
                        "type": "pie"
                      }
                    ],
                    "scatter": [
                      {
                        "marker": {
                          "colorbar": {
                            "outlinewidth": 0,
                            "ticks": ""
                          }
                        },
                        "type": "scatter"
                      }
                    ],
                    "scatter3d": [
                      {
                        "line": {
                          "colorbar": {
                            "outlinewidth": 0,
                            "ticks": ""
                          }
                        },
                        "marker": {
                          "colorbar": {
                            "outlinewidth": 0,
                            "ticks": ""
                          }
                        },
                        "type": "scatter3d"
                      }
                    ],
                    "scattercarpet": [
                      {
                        "marker": {
                          "colorbar": {
                            "outlinewidth": 0,
                            "ticks": ""
                          }
                        },
                        "type": "scattercarpet"
                      }
                    ],
                    "scattergeo": [
                      {
                        "marker": {
                          "colorbar": {
                            "outlinewidth": 0,
                            "ticks": ""
                          }
                        },
                        "type": "scattergeo"
                      }
                    ],
                    "scattergl": [
                      {
                        "marker": {
                          "colorbar": {
                            "outlinewidth": 0,
                            "ticks": ""
                          }
                        },
                        "type": "scattergl"
                      }
                    ],
                    "scattermapbox": [
                      {
                        "marker": {
                          "colorbar": {
                            "outlinewidth": 0,
                            "ticks": ""
                          }
                        },
                        "type": "scattermapbox"
                      }
                    ],
                    "scatterpolar": [
                      {
                        "marker": {
                          "colorbar": {
                            "outlinewidth": 0,
                            "ticks": ""
                          }
                        },
                        "type": "scatterpolar"
                      }
                    ],
                    "scatterpolargl": [
                      {
                        "marker": {
                          "colorbar": {
                            "outlinewidth": 0,
                            "ticks": ""
                          }
                        },
                        "type": "scatterpolargl"
                      }
                    ],
                    "scatterternary": [
                      {
                        "marker": {
                          "colorbar": {
                            "outlinewidth": 0,
                            "ticks": ""
                          }
                        },
                        "type": "scatterternary"
                      }
                    ],
                    "surface": [
                      {
                        "colorbar": {
                          "outlinewidth": 0,
                          "ticks": ""
                        },
                        "colorscale": [
                          [
                            0,
                            "#0d0887"
                          ],
                          [
                            0.1111111111111111,
                            "#46039f"
                          ],
                          [
                            0.2222222222222222,
                            "#7201a8"
                          ],
                          [
                            0.3333333333333333,
                            "#9c179e"
                          ],
                          [
                            0.4444444444444444,
                            "#bd3786"
                          ],
                          [
                            0.5555555555555556,
                            "#d8576b"
                          ],
                          [
                            0.6666666666666666,
                            "#ed7953"
                          ],
                          [
                            0.7777777777777778,
                            "#fb9f3a"
                          ],
                          [
                            0.8888888888888888,
                            "#fdca26"
                          ],
                          [
                            1,
                            "#f0f921"
                          ]
                        ],
                        "type": "surface"
                      }
                    ],
                    "table": [
                      {
                        "cells": {
                          "fill": {
                            "color": "#EBF0F8"
                          },
                          "line": {
                            "color": "white"
                          }
                        },
                        "header": {
                          "fill": {
                            "color": "#C8D4E3"
                          },
                          "line": {
                            "color": "white"
                          }
                        },
                        "type": "table"
                      }
                    ]
                  },
                  "layout": {
                    "annotationdefaults": {
                      "arrowcolor": "#2a3f5f",
                      "arrowhead": 0,
                      "arrowwidth": 1
                    },
                    "autotypenumbers": "strict",
                    "coloraxis": {
                      "colorbar": {
                        "outlinewidth": 0,
                        "ticks": ""
                      }
                    },
                    "colorscale": {
                      "diverging": [
                        [
                          0,
                          "#8e0152"
                        ],
                        [
                          0.1,
                          "#c51b7d"
                        ],
                        [
                          0.2,
                          "#de77ae"
                        ],
                        [
                          0.3,
                          "#f1b6da"
                        ],
                        [
                          0.4,
                          "#fde0ef"
                        ],
                        [
                          0.5,
                          "#f7f7f7"
                        ],
                        [
                          0.6,
                          "#e6f5d0"
                        ],
                        [
                          0.7,
                          "#b8e186"
                        ],
                        [
                          0.8,
                          "#7fbc41"
                        ],
                        [
                          0.9,
                          "#4d9221"
                        ],
                        [
                          1,
                          "#276419"
                        ]
                      ],
                      "sequential": [
                        [
                          0,
                          "#0d0887"
                        ],
                        [
                          0.1111111111111111,
                          "#46039f"
                        ],
                        [
                          0.2222222222222222,
                          "#7201a8"
                        ],
                        [
                          0.3333333333333333,
                          "#9c179e"
                        ],
                        [
                          0.4444444444444444,
                          "#bd3786"
                        ],
                        [
                          0.5555555555555556,
                          "#d8576b"
                        ],
                        [
                          0.6666666666666666,
                          "#ed7953"
                        ],
                        [
                          0.7777777777777778,
                          "#fb9f3a"
                        ],
                        [
                          0.8888888888888888,
                          "#fdca26"
                        ],
                        [
                          1,
                          "#f0f921"
                        ]
                      ],
                      "sequentialminus": [
                        [
                          0,
                          "#0d0887"
                        ],
                        [
                          0.1111111111111111,
                          "#46039f"
                        ],
                        [
                          0.2222222222222222,
                          "#7201a8"
                        ],
                        [
                          0.3333333333333333,
                          "#9c179e"
                        ],
                        [
                          0.4444444444444444,
                          "#bd3786"
                        ],
                        [
                          0.5555555555555556,
                          "#d8576b"
                        ],
                        [
                          0.6666666666666666,
                          "#ed7953"
                        ],
                        [
                          0.7777777777777778,
                          "#fb9f3a"
                        ],
                        [
                          0.8888888888888888,
                          "#fdca26"
                        ],
                        [
                          1,
                          "#f0f921"
                        ]
                      ]
                    },
                    "colorway": [
                      "#636efa",
                      "#EF553B",
                      "#00cc96",
                      "#ab63fa",
                      "#FFA15A",
                      "#19d3f3",
                      "#FF6692",
                      "#B6E880",
                      "#FF97FF",
                      "#FECB52"
                    ],
                    "font": {
                      "color": "#2a3f5f"
                    },
                    "geo": {
                      "bgcolor": "white",
                      "lakecolor": "white",
                      "landcolor": "#E5ECF6",
                      "showlakes": true,
                      "showland": true,
                      "subunitcolor": "white"
                    },
                    "hoverlabel": {
                      "align": "left"
                    },
                    "hovermode": "closest",
                    "mapbox": {
                      "style": "light"
                    },
                    "paper_bgcolor": "white",
                    "plot_bgcolor": "#E5ECF6",
                    "polar": {
                      "angularaxis": {
                        "gridcolor": "white",
                        "linecolor": "white",
                        "ticks": ""
                      },
                      "bgcolor": "#E5ECF6",
                      "radialaxis": {
                        "gridcolor": "white",
                        "linecolor": "white",
                        "ticks": ""
                      }
                    },
                    "scene": {
                      "xaxis": {
                        "backgroundcolor": "#E5ECF6",
                        "gridcolor": "white",
                        "gridwidth": 2,
                        "linecolor": "white",
                        "showbackground": true,
                        "ticks": "",
                        "zerolinecolor": "white"
                      },
                      "yaxis": {
                        "backgroundcolor": "#E5ECF6",
                        "gridcolor": "white",
                        "gridwidth": 2,
                        "linecolor": "white",
                        "showbackground": true,
                        "ticks": "",
                        "zerolinecolor": "white"
                      },
                      "zaxis": {
                        "backgroundcolor": "#E5ECF6",
                        "gridcolor": "white",
                        "gridwidth": 2,
                        "linecolor": "white",
                        "showbackground": true,
                        "ticks": "",
                        "zerolinecolor": "white"
                      }
                    },
                    "shapedefaults": {
                      "line": {
                        "color": "#2a3f5f"
                      }
                    },
                    "ternary": {
                      "aaxis": {
                        "gridcolor": "white",
                        "linecolor": "white",
                        "ticks": ""
                      },
                      "baxis": {
                        "gridcolor": "white",
                        "linecolor": "white",
                        "ticks": ""
                      },
                      "bgcolor": "#E5ECF6",
                      "caxis": {
                        "gridcolor": "white",
                        "linecolor": "white",
                        "ticks": ""
                      }
                    },
                    "title": {
                      "x": 0.05
                    },
                    "xaxis": {
                      "automargin": true,
                      "gridcolor": "white",
                      "linecolor": "white",
                      "ticks": "",
                      "title": {
                        "standoff": 15
                      },
                      "zerolinecolor": "white",
                      "zerolinewidth": 2
                    },
                    "yaxis": {
                      "automargin": true,
                      "gridcolor": "white",
                      "linecolor": "white",
                      "ticks": "",
                      "title": {
                        "standoff": 15
                      },
                      "zerolinecolor": "white",
                      "zerolinewidth": 2
                    }
                  }
                },
                "xaxis": {
                  "anchor": "y",
                  "domain": [
                    0,
                    1
                  ],
                  "title": {
                    "text": "gdppercap"
                  },
                  "type": "log"
                },
                "yaxis": {
                  "anchor": "x",
                  "domain": [
                    0,
                    1
                  ],
                  "title": {
                    "text": "alcocons"
                  }
                }
              }
            },
            "text/html": [
              "<div>                            <div id=\"8546b053-66de-4377-ada2-7402e57a672b\" class=\"plotly-graph-div\" style=\"height:525px; width:100%;\"></div>            <script type=\"text/javascript\">                require([\"plotly\"], function(Plotly) {                    window.PLOTLYENV=window.PLOTLYENV || {};                                    if (document.getElementById(\"8546b053-66de-4377-ada2-7402e57a672b\")) {                    Plotly.newPlot(                        \"8546b053-66de-4377-ada2-7402e57a672b\",                        [{\"hovertemplate\":\"<b>%{hovertext}</b><br><br>continent=Asia<br>gdppercap=%{x}<br>alcocons=%{y}<br>population=%{marker.size}<extra></extra>\",\"hovertext\":[\"Timor\",\"Tajikistan\",\"China\",\"Afghanistan\",\"Cyprus\",\"Vietnam\",\"Thailand\",\"Armenia\",\"Brunei\",\"Bhutan\",\"United Arab Emirates\",\"Turkmenistan\",\"Azerbaijan\",\"Cambodia\",\"Turkey\",\"Bangladesh\",\"Uzbekistan\",\"Lebanon\",\"Laos\",\"Kyrgyzstan\",\"Philippines\",\"Kuwait\",\"Kazakhstan\",\"Jordan\",\"Japan\",\"Qatar\",\"Israel\",\"Nepal\",\"Myanmar\",\"Mongolia\",\"Oman\",\"Malaysia\",\"Pakistan\",\"Iraq\",\"South Korea\",\"Sri Lanka\",\"Iran\",\"Indonesia\",\"India\",\"Saudi Arabia\",\"Georgia\"],\"legendgroup\":\"Asia\",\"marker\":{\"color\":\"#636efa\",\"size\":[1267975.0,9100847.0,1427647789.0,37171922.0,1189262.0,95545959.0,69428454.0,2951741.0,428960.0,754396.0,9630966.0,5850902.0,9949537.0,16249795.0,82340090.0,161376713.0,32476232.0,6859408.0,7061498.0,6304025.0,106651394.0,4137314.0,18319616.0,9965322.0,127202190.0,2781682.0,8381507.0,28095712.0,53708318.0,3170214.0,4829476.0,31528033.0,212228288.0,38433604.0,51171700.0,21228760.0,81800204.0,267670549.0,1352642283.0,33702757.0,4002946.0],\"sizemode\":\"area\",\"sizeref\":571059.1156,\"symbol\":\"circle\"},\"mode\":\"markers\",\"name\":\"Asia\",\"orientation\":\"v\",\"showlegend\":true,\"x\":[3051.66811727864,3415.32233593608,15242.9858575834,2033.80438893717,39559.4879646749,7585.94315504036,18095.7365704368,12715.1089539751,60389.1846472589,11348.4419521,66968.2211775042,14845.3446497287,14209.6494059309,4159.33819437034,28312.6834243604,4440.85547046826,6755.48097366685,15588.1528714896,7592.82947474583,5133.1519146081,8516.13654897274,50478.5875050676,25544.3447563035,10013.3976633388,41182.3802046593,90970.0609016321,39418.3453068224,3773.71591761441,5029.1880858737,11915.5567471637,28350.9435298546,27558.1369502408,4739.47271266276,10346.2129581855,41948.3460057222,12860.3208303539,13471.8606376875,11371.7255560847,6518.84505546914,47592.7671473292,14253.4089858441],\"xaxis\":\"x\",\"y\":[2.17,3.28,7.05,0.21,10.81,8.66,8.3,5.55,0.48,0.43,3.9,4.93,4.41,6.64,2.05,0.019,2.59,1.71,10.72,6.26,6.86,0.003,4.76,0.69,7.96,1.59,4.21,2.05,5.12,8.19,0.78,0.85,0.34,0.39,9.7,4.1,1.03,0.57,5.54,0.19,8.25],\"yaxis\":\"y\",\"type\":\"scatter\"},{\"hovertemplate\":\"<b>%{hovertext}</b><br><br>continent=South America<br>gdppercap=%{x}<br>alcocons=%{y}<br>population=%{marker.size}<extra></extra>\",\"hovertext\":[\"Argentina\",\"Colombia\",\"Brazil\",\"Bolivia\",\"Chile\",\"Uruguay\",\"Paraguay\",\"Peru\",\"Suriname\",\"Ecuador\",\"Guyana\"],\"legendgroup\":\"South America\",\"marker\":{\"color\":\"#EF553B\",\"size\":[44361150.0,49661056.0,209469320.0,11353140.0,18729166.0,3449290.0,6956069.0,31989265.0,575987.0,17084359.0,779007.0],\"sizemode\":\"area\",\"sizeref\":571059.1156,\"symbol\":\"circle\"},\"mode\":\"markers\",\"name\":\"South America\",\"orientation\":\"v\",\"showlegend\":true,\"x\":[22759.3985583341,14314.8555765268,14668.2561636292,8655.53149780443,25028.9099914542,23035.0833880454,12827.7080209236,12781.4164435302,19005.6543464151,11561.747853143,12477.5767111562],\"xaxis\":\"x\",\"y\":[9.65,5.74,7.42,4.43,9.07,6.92,7.58,6.38,5.33,4.2,6.89],\"yaxis\":\"y\",\"type\":\"scatter\"},{\"hovertemplate\":\"<b>%{hovertext}</b><br><br>continent=Europe<br>gdppercap=%{x}<br>alcocons=%{y}<br>population=%{marker.size}<extra></extra>\",\"hovertext\":[\"Czechia\",\"Albania\",\"Croatia\",\"Belarus\",\"Belgium\",\"Bosnia and Herzegovina\",\"Ukraine\",\"United Kingdom\",\"Bulgaria\",\"Austria\",\"France\",\"Denmark\",\"Latvia\",\"Poland\",\"Portugal\",\"Italy\",\"Lithuania\",\"Netherlands\",\"Montenegro\",\"North Macedonia\",\"Moldova\",\"Norway\",\"Luxembourg\",\"Switzerland\",\"Romania\",\"Finland\",\"Spain\",\"Estonia\",\"Sweden\",\"Ireland\",\"Germany\",\"Russia\",\"Iceland\",\"Hungary\",\"Serbia\",\"Slovakia\",\"Greece\",\"Slovenia\"],\"legendgroup\":\"Europe\",\"marker\":{\"color\":\"#00cc96\",\"size\":[10665679.0,2882735.0,4156407.0,9452615.0,11482180.0,3323929.0,44246158.0,67141678.0,7051610.0,8891383.0,64990512.0,5752131.0,1928461.0,37921585.0,10256192.0,60627291.0,2801270.0,17059560.0,627803.0,2082956.0,4051950.0,5337960.0,604244.0,8525614.0,19506110.0,5522585.0,46692863.0,1322913.0,9971630.0,4818694.0,83124413.0,145734034.0,336712.0,9707502.0,8802741.0,5453017.0,10522244.0,2077835.0],\"sizemode\":\"area\",\"sizeref\":571059.1156,\"symbol\":\"circle\"},\"mode\":\"markers\",\"name\":\"Europe\",\"orientation\":\"v\",\"showlegend\":true,\"x\":[39932.992193117,13323.7533559132,27799.8433225132,18885.2354999668,51110.9584679336,14386.7318547663,12338.0024454764,46037.9005384222,22208.4522754771,55297.6182880367,45251.9054105957,56281.2888680368,30036.0865499334,31674.1316243417,34040.7255617749,42052.5563822519,35427.4618636641,56060.9136269404,20686.5759142606,16093.3104230501,12363.1468378401,64341.2589026158,113589.670473448,70663.4875973954,28523.4731832065,48130.2923921114,40312.5475864011,35208.0239637019,52349.2924275599,84303.3408922937,53463.4014817389,26656.4095416865,56722.1193741156,31095.557503677,17452.7958990327,31132.5729674338,29150.6944922443,37968.3520620285],\"xaxis\":\"x\",\"y\":[14.45,7.17,9.23,11.45,11.08,7.15,8.32,11.45,12.65,11.96,12.33,10.26,12.77,11.71,12.03,7.84,13.22,9.61,11.47,6.16,11.43,7.41,12.94,11.53,11.74,10.78,12.72,9.23,8.93,12.88,12.91,11.19,9.12,11.35,8.75,11.14,10.18,11.9],\"yaxis\":\"y\",\"type\":\"scatter\"},{\"hovertemplate\":\"<b>%{hovertext}</b><br><br>continent=Africa<br>gdppercap=%{x}<br>alcocons=%{y}<br>population=%{marker.size}<extra></extra>\",\"hovertext\":[\"Zambia\",\"Congo\",\"Angola\",\"Algeria\",\"Tanzania\",\"Cote d'Ivoire\",\"Benin\",\"Uganda\",\"Democratic Republic of Congo\",\"Botswana\",\"Burkina Faso\",\"Togo\",\"Chad\",\"Central African Republic\",\"Cameroon\",\"Tunisia\",\"Burundi\",\"Libya\",\"Liberia\",\"Lesotho\",\"Kenya\",\"Madagascar\",\"Namibia\",\"Niger\",\"Mozambique\",\"Morocco\",\"Nigeria\",\"Mauritania\",\"Mali\",\"Malawi\",\"Gambia\",\"Gabon\",\"South Africa\",\"Ethiopia\",\"Eswatini\",\"Equatorial Guinea\",\"Sudan\",\"Egypt\",\"Djibouti\",\"Somalia\",\"Rwanda\",\"Senegal\",\"Guinea-Bissau\",\"Sierra Leone\",\"Guinea\",\"Ghana\",\"Zimbabwe\"],\"legendgroup\":\"Africa\",\"marker\":{\"color\":\"#ab63fa\",\"size\":[17351714.0,5244363.0,30809787.0,42228415.0,56313444.0,25069226.0,11485035.0,42729032.0,84068092.0,2254067.0,19751466.0,7889095.0,15477727.0,4666375.0,25216261.0,11565203.0,11175379.0,6678565.0,4818976.0,2108327.0,51392570.0,26262313.0,2448300.0,22442831.0,29496009.0,36029089.0,195874685.0,4403312.0,19077755.0,18143215.0,2280092.0,2119275.0,57792520.0,109224410.0,1136274.0,1308966.0,41801532.0,98423602.0,958923.0,15008225.0,12301969.0,15854324.0,1874304.0,7650149.0,12414292.0,29767108.0,14438812.0],\"sizemode\":\"area\",\"sizeref\":571059.1156,\"symbol\":\"circle\"},\"mode\":\"markers\",\"name\":\"Africa\",\"orientation\":\"v\",\"showlegend\":true,\"x\":[3521.5420629895,3933.425550952,6933.49993413352,11642.1983450506,2590.20113826159,5033.47882607719,3160.7806702321,2121.96781993514,1085.89368770943,17634.6561910867,2120.33026783506,2061.33417572853,1576.32111465904,933.10995060419,3603.54827506808,10763.7297838206,761.524125241416,15017.9935741811,1497.00478720289,2614.65884916972,4203.83827267811,1592.05355843859,10092.258820242,1200.97246385835,1289.73594800556,7446.93622037578,5155.07599367409,5042.43119844404,2283.70241285673,1471.03724879602,2158.07755816639,14744.4343267491,12627.9285840445,2103.51585836696,8520.59238619335,20386.0138677131,4344.52988671066,11366.3355206681,5214.07218666426,866.765302072035,2088.74922433298,3309.48617330672,1901.93173857674,1663.29348036377,2499.70726640711,5177.88398862782,3341.66541766316],\"xaxis\":\"x\",\"y\":[6.54,9.27,6.94,0.95,11.27,2.71,2.81,15.09,2.0,6.59,12.03,2.46,1.37,2.38,5.65,2.12,7.19,0.019,6.12,4.59,2.78,1.97,5.43,0.67,2.3,0.69,10.84,0.036,1.28,3.63,3.55,8.74,9.52,2.36,10.04,7.23,0.51,0.36,0.43,0.009,8.95,0.76,5.38,5.7,1.11,2.75,4.67],\"yaxis\":\"y\",\"type\":\"scatter\"},{\"hovertemplate\":\"<b>%{hovertext}</b><br><br>continent=North America<br>gdppercap=%{x}<br>alcocons=%{y}<br>population=%{marker.size}<extra></extra>\",\"hovertext\":[\"Costa Rica\",\"United States\",\"Belize\",\"Trinidad and Tobago\",\"Canada\",\"Bahamas\",\"Jamaica\",\"Panama\",\"Nicaragua\",\"Mexico\",\"El Salvador\",\"Dominican Republic\",\"Honduras\",\"Haiti\",\"Guatemala\"],\"legendgroup\":\"North America\",\"marker\":{\"color\":\"#FFA15A\",\"size\":[4999443.0,327096263.0,383071.0,1389841.0,37074558.0,385635.0,2934853.0,4176868.0,6465502.0,126190782.0,6420740.0,10627147.0,9587523.0,11123183.0,17247855.0],\"sizemode\":\"area\",\"sizeref\":571059.1156,\"symbol\":\"circle\"},\"mode\":\"markers\",\"name\":\"North America\",\"orientation\":\"v\",\"showlegend\":true,\"x\":[20559.8604252658,61585.7560382102,7261.87028738671,26250.3722429394,48796.8137814007,37019.9950489508,9734.86228780542,31012.9461549459,5729.68822390273,19928.3956618582,8614.01795915499,17711.7955337583,5680.36288396582,2992.31041114318,8462.17210684372],\"xaxis\":\"x\",\"y\":[4.87,9.87,6.22,6.72,8.94,4.78,4.22,7.98,5.18,5.0,3.89,6.68,3.76,2.73,2.45],\"yaxis\":\"y\",\"type\":\"scatter\"},{\"hovertemplate\":\"<b>%{hovertext}</b><br><br>continent=Oceania<br>gdppercap=%{x}<br>alcocons=%{y}<br>population=%{marker.size}<extra></extra>\",\"hovertext\":[\"Vanuatu\",\"Australia\",\"Papua New Guinea\",\"New Zealand\",\"Fiji\",\"Solomon Islands\"],\"legendgroup\":\"Oceania\",\"marker\":{\"color\":\"#19d3f3\",\"size\":[292675.0,24898153.0,8606324.0,4743131.0,883490.0,652856.0],\"sizemode\":\"area\",\"sizeref\":571059.1156,\"symbol\":\"circle\"},\"mode\":\"markers\",\"name\":\"Oceania\",\"orientation\":\"v\",\"showlegend\":true,\"x\":[3093.46154723291,49151.6887104846,4190.0948949613,42866.1272276586,13846.1588353285,2697.64643055486],\"xaxis\":\"x\",\"y\":[2.25,10.51,1.39,10.63,3.32,1.83],\"yaxis\":\"y\",\"type\":\"scatter\"}],                        {\"template\":{\"data\":{\"bar\":[{\"error_x\":{\"color\":\"#2a3f5f\"},\"error_y\":{\"color\":\"#2a3f5f\"},\"marker\":{\"line\":{\"color\":\"#E5ECF6\",\"width\":0.5},\"pattern\":{\"fillmode\":\"overlay\",\"size\":10,\"solidity\":0.2}},\"type\":\"bar\"}],\"barpolar\":[{\"marker\":{\"line\":{\"color\":\"#E5ECF6\",\"width\":0.5},\"pattern\":{\"fillmode\":\"overlay\",\"size\":10,\"solidity\":0.2}},\"type\":\"barpolar\"}],\"carpet\":[{\"aaxis\":{\"endlinecolor\":\"#2a3f5f\",\"gridcolor\":\"white\",\"linecolor\":\"white\",\"minorgridcolor\":\"white\",\"startlinecolor\":\"#2a3f5f\"},\"baxis\":{\"endlinecolor\":\"#2a3f5f\",\"gridcolor\":\"white\",\"linecolor\":\"white\",\"minorgridcolor\":\"white\",\"startlinecolor\":\"#2a3f5f\"},\"type\":\"carpet\"}],\"choropleth\":[{\"colorbar\":{\"outlinewidth\":0,\"ticks\":\"\"},\"type\":\"choropleth\"}],\"contour\":[{\"colorbar\":{\"outlinewidth\":0,\"ticks\":\"\"},\"colorscale\":[[0.0,\"#0d0887\"],[0.1111111111111111,\"#46039f\"],[0.2222222222222222,\"#7201a8\"],[0.3333333333333333,\"#9c179e\"],[0.4444444444444444,\"#bd3786\"],[0.5555555555555556,\"#d8576b\"],[0.6666666666666666,\"#ed7953\"],[0.7777777777777778,\"#fb9f3a\"],[0.8888888888888888,\"#fdca26\"],[1.0,\"#f0f921\"]],\"type\":\"contour\"}],\"contourcarpet\":[{\"colorbar\":{\"outlinewidth\":0,\"ticks\":\"\"},\"type\":\"contourcarpet\"}],\"heatmap\":[{\"colorbar\":{\"outlinewidth\":0,\"ticks\":\"\"},\"colorscale\":[[0.0,\"#0d0887\"],[0.1111111111111111,\"#46039f\"],[0.2222222222222222,\"#7201a8\"],[0.3333333333333333,\"#9c179e\"],[0.4444444444444444,\"#bd3786\"],[0.5555555555555556,\"#d8576b\"],[0.6666666666666666,\"#ed7953\"],[0.7777777777777778,\"#fb9f3a\"],[0.8888888888888888,\"#fdca26\"],[1.0,\"#f0f921\"]],\"type\":\"heatmap\"}],\"heatmapgl\":[{\"colorbar\":{\"outlinewidth\":0,\"ticks\":\"\"},\"colorscale\":[[0.0,\"#0d0887\"],[0.1111111111111111,\"#46039f\"],[0.2222222222222222,\"#7201a8\"],[0.3333333333333333,\"#9c179e\"],[0.4444444444444444,\"#bd3786\"],[0.5555555555555556,\"#d8576b\"],[0.6666666666666666,\"#ed7953\"],[0.7777777777777778,\"#fb9f3a\"],[0.8888888888888888,\"#fdca26\"],[1.0,\"#f0f921\"]],\"type\":\"heatmapgl\"}],\"histogram\":[{\"marker\":{\"pattern\":{\"fillmode\":\"overlay\",\"size\":10,\"solidity\":0.2}},\"type\":\"histogram\"}],\"histogram2d\":[{\"colorbar\":{\"outlinewidth\":0,\"ticks\":\"\"},\"colorscale\":[[0.0,\"#0d0887\"],[0.1111111111111111,\"#46039f\"],[0.2222222222222222,\"#7201a8\"],[0.3333333333333333,\"#9c179e\"],[0.4444444444444444,\"#bd3786\"],[0.5555555555555556,\"#d8576b\"],[0.6666666666666666,\"#ed7953\"],[0.7777777777777778,\"#fb9f3a\"],[0.8888888888888888,\"#fdca26\"],[1.0,\"#f0f921\"]],\"type\":\"histogram2d\"}],\"histogram2dcontour\":[{\"colorbar\":{\"outlinewidth\":0,\"ticks\":\"\"},\"colorscale\":[[0.0,\"#0d0887\"],[0.1111111111111111,\"#46039f\"],[0.2222222222222222,\"#7201a8\"],[0.3333333333333333,\"#9c179e\"],[0.4444444444444444,\"#bd3786\"],[0.5555555555555556,\"#d8576b\"],[0.6666666666666666,\"#ed7953\"],[0.7777777777777778,\"#fb9f3a\"],[0.8888888888888888,\"#fdca26\"],[1.0,\"#f0f921\"]],\"type\":\"histogram2dcontour\"}],\"mesh3d\":[{\"colorbar\":{\"outlinewidth\":0,\"ticks\":\"\"},\"type\":\"mesh3d\"}],\"parcoords\":[{\"line\":{\"colorbar\":{\"outlinewidth\":0,\"ticks\":\"\"}},\"type\":\"parcoords\"}],\"pie\":[{\"automargin\":true,\"type\":\"pie\"}],\"scatter\":[{\"marker\":{\"colorbar\":{\"outlinewidth\":0,\"ticks\":\"\"}},\"type\":\"scatter\"}],\"scatter3d\":[{\"line\":{\"colorbar\":{\"outlinewidth\":0,\"ticks\":\"\"}},\"marker\":{\"colorbar\":{\"outlinewidth\":0,\"ticks\":\"\"}},\"type\":\"scatter3d\"}],\"scattercarpet\":[{\"marker\":{\"colorbar\":{\"outlinewidth\":0,\"ticks\":\"\"}},\"type\":\"scattercarpet\"}],\"scattergeo\":[{\"marker\":{\"colorbar\":{\"outlinewidth\":0,\"ticks\":\"\"}},\"type\":\"scattergeo\"}],\"scattergl\":[{\"marker\":{\"colorbar\":{\"outlinewidth\":0,\"ticks\":\"\"}},\"type\":\"scattergl\"}],\"scattermapbox\":[{\"marker\":{\"colorbar\":{\"outlinewidth\":0,\"ticks\":\"\"}},\"type\":\"scattermapbox\"}],\"scatterpolar\":[{\"marker\":{\"colorbar\":{\"outlinewidth\":0,\"ticks\":\"\"}},\"type\":\"scatterpolar\"}],\"scatterpolargl\":[{\"marker\":{\"colorbar\":{\"outlinewidth\":0,\"ticks\":\"\"}},\"type\":\"scatterpolargl\"}],\"scatterternary\":[{\"marker\":{\"colorbar\":{\"outlinewidth\":0,\"ticks\":\"\"}},\"type\":\"scatterternary\"}],\"surface\":[{\"colorbar\":{\"outlinewidth\":0,\"ticks\":\"\"},\"colorscale\":[[0.0,\"#0d0887\"],[0.1111111111111111,\"#46039f\"],[0.2222222222222222,\"#7201a8\"],[0.3333333333333333,\"#9c179e\"],[0.4444444444444444,\"#bd3786\"],[0.5555555555555556,\"#d8576b\"],[0.6666666666666666,\"#ed7953\"],[0.7777777777777778,\"#fb9f3a\"],[0.8888888888888888,\"#fdca26\"],[1.0,\"#f0f921\"]],\"type\":\"surface\"}],\"table\":[{\"cells\":{\"fill\":{\"color\":\"#EBF0F8\"},\"line\":{\"color\":\"white\"}},\"header\":{\"fill\":{\"color\":\"#C8D4E3\"},\"line\":{\"color\":\"white\"}},\"type\":\"table\"}]},\"layout\":{\"annotationdefaults\":{\"arrowcolor\":\"#2a3f5f\",\"arrowhead\":0,\"arrowwidth\":1},\"autotypenumbers\":\"strict\",\"coloraxis\":{\"colorbar\":{\"outlinewidth\":0,\"ticks\":\"\"}},\"colorscale\":{\"diverging\":[[0,\"#8e0152\"],[0.1,\"#c51b7d\"],[0.2,\"#de77ae\"],[0.3,\"#f1b6da\"],[0.4,\"#fde0ef\"],[0.5,\"#f7f7f7\"],[0.6,\"#e6f5d0\"],[0.7,\"#b8e186\"],[0.8,\"#7fbc41\"],[0.9,\"#4d9221\"],[1,\"#276419\"]],\"sequential\":[[0.0,\"#0d0887\"],[0.1111111111111111,\"#46039f\"],[0.2222222222222222,\"#7201a8\"],[0.3333333333333333,\"#9c179e\"],[0.4444444444444444,\"#bd3786\"],[0.5555555555555556,\"#d8576b\"],[0.6666666666666666,\"#ed7953\"],[0.7777777777777778,\"#fb9f3a\"],[0.8888888888888888,\"#fdca26\"],[1.0,\"#f0f921\"]],\"sequentialminus\":[[0.0,\"#0d0887\"],[0.1111111111111111,\"#46039f\"],[0.2222222222222222,\"#7201a8\"],[0.3333333333333333,\"#9c179e\"],[0.4444444444444444,\"#bd3786\"],[0.5555555555555556,\"#d8576b\"],[0.6666666666666666,\"#ed7953\"],[0.7777777777777778,\"#fb9f3a\"],[0.8888888888888888,\"#fdca26\"],[1.0,\"#f0f921\"]]},\"colorway\":[\"#636efa\",\"#EF553B\",\"#00cc96\",\"#ab63fa\",\"#FFA15A\",\"#19d3f3\",\"#FF6692\",\"#B6E880\",\"#FF97FF\",\"#FECB52\"],\"font\":{\"color\":\"#2a3f5f\"},\"geo\":{\"bgcolor\":\"white\",\"lakecolor\":\"white\",\"landcolor\":\"#E5ECF6\",\"showlakes\":true,\"showland\":true,\"subunitcolor\":\"white\"},\"hoverlabel\":{\"align\":\"left\"},\"hovermode\":\"closest\",\"mapbox\":{\"style\":\"light\"},\"paper_bgcolor\":\"white\",\"plot_bgcolor\":\"#E5ECF6\",\"polar\":{\"angularaxis\":{\"gridcolor\":\"white\",\"linecolor\":\"white\",\"ticks\":\"\"},\"bgcolor\":\"#E5ECF6\",\"radialaxis\":{\"gridcolor\":\"white\",\"linecolor\":\"white\",\"ticks\":\"\"}},\"scene\":{\"xaxis\":{\"backgroundcolor\":\"#E5ECF6\",\"gridcolor\":\"white\",\"gridwidth\":2,\"linecolor\":\"white\",\"showbackground\":true,\"ticks\":\"\",\"zerolinecolor\":\"white\"},\"yaxis\":{\"backgroundcolor\":\"#E5ECF6\",\"gridcolor\":\"white\",\"gridwidth\":2,\"linecolor\":\"white\",\"showbackground\":true,\"ticks\":\"\",\"zerolinecolor\":\"white\"},\"zaxis\":{\"backgroundcolor\":\"#E5ECF6\",\"gridcolor\":\"white\",\"gridwidth\":2,\"linecolor\":\"white\",\"showbackground\":true,\"ticks\":\"\",\"zerolinecolor\":\"white\"}},\"shapedefaults\":{\"line\":{\"color\":\"#2a3f5f\"}},\"ternary\":{\"aaxis\":{\"gridcolor\":\"white\",\"linecolor\":\"white\",\"ticks\":\"\"},\"baxis\":{\"gridcolor\":\"white\",\"linecolor\":\"white\",\"ticks\":\"\"},\"bgcolor\":\"#E5ECF6\",\"caxis\":{\"gridcolor\":\"white\",\"linecolor\":\"white\",\"ticks\":\"\"}},\"title\":{\"x\":0.05},\"xaxis\":{\"automargin\":true,\"gridcolor\":\"white\",\"linecolor\":\"white\",\"ticks\":\"\",\"title\":{\"standoff\":15},\"zerolinecolor\":\"white\",\"zerolinewidth\":2},\"yaxis\":{\"automargin\":true,\"gridcolor\":\"white\",\"linecolor\":\"white\",\"ticks\":\"\",\"title\":{\"standoff\":15},\"zerolinecolor\":\"white\",\"zerolinewidth\":2}}},\"xaxis\":{\"anchor\":\"y\",\"domain\":[0.0,1.0],\"title\":{\"text\":\"gdppercap\"},\"type\":\"log\"},\"yaxis\":{\"anchor\":\"x\",\"domain\":[0.0,1.0],\"title\":{\"text\":\"alcocons\"}},\"legend\":{\"title\":{\"text\":\"continent\"},\"tracegroupgap\":0,\"itemsizing\":\"constant\"},\"margin\":{\"t\":60}},                        {\"responsive\": true}                    ).then(function(){\n",
              "                            \n",
              "var gd = document.getElementById('8546b053-66de-4377-ada2-7402e57a672b');\n",
              "var x = new MutationObserver(function (mutations, observer) {{\n",
              "        var display = window.getComputedStyle(gd).display;\n",
              "        if (!display || display === 'none') {{\n",
              "            console.log([gd, 'removed!']);\n",
              "            Plotly.purge(gd);\n",
              "            observer.disconnect();\n",
              "        }}\n",
              "}});\n",
              "\n",
              "// Listen for the removal of the full notebook cells\n",
              "var notebookContainer = gd.closest('#notebook-container');\n",
              "if (notebookContainer) {{\n",
              "    x.observe(notebookContainer, {childList: true});\n",
              "}}\n",
              "\n",
              "// Listen for the clearing of the current output cell\n",
              "var outputEl = gd.closest('.output');\n",
              "if (outputEl) {{\n",
              "    x.observe(outputEl, {childList: true});\n",
              "}}\n",
              "\n",
              "                        })                };                });            </script>        </div>"
            ]
          },
          "metadata": {},
          "output_type": "display_data"
        }
      ],
      "source": [
        "# This is a preliminary plot without the interactive controls for one year only\n",
        "\n",
        "fig_2 = px.scatter(alc20XX_continent.query('year==2018'), x='gdppercap', y='alcocons', \n",
        "                   size='population', color='continent', hover_name='country', log_x=True, size_max=50)\n",
        "fig_2.show()"
      ]
    },
    {
      "cell_type": "code",
      "execution_count": null,
      "id": "9174ce3a",
      "metadata": {
        "id": "9174ce3a",
        "outputId": "ea32816b-c122-4a29-e37f-ce2e4cb506b5"
      },
      "outputs": [
        {
          "name": "stdout",
          "output_type": "stream",
          "text": [
            "630.701613637085 113589.670473448\n"
          ]
        }
      ],
      "source": [
        "# We estimate the minimum and maximum values for GDP per Capita to make this plot visually comparable \n",
        "\n",
        "min_gdppercap = alc20XX['gdppercap'].min()\n",
        "max_gdppercap = alc20XX['gdppercap'].max()\n",
        "print(min_gdppercap, max_gdppercap)"
      ]
    },
    {
      "cell_type": "code",
      "execution_count": null,
      "id": "1c337313",
      "metadata": {
        "id": "1c337313",
        "outputId": "0adca7d7-e946-4f01-b1a7-810330d7e1af"
      },
      "outputs": [
        {
          "name": "stdout",
          "output_type": "stream",
          "text": [
            "0.003 20.5\n"
          ]
        }
      ],
      "source": [
        "# We estimate the minimum and maximum values for alcohol consumption to make the plots visually comparable \n",
        "\n",
        "min_alcocons = alc20XX['alcocons'].min()\n",
        "max_alcocons = alc20XX['alcocons'].max()\n",
        "print(min_alcocons, max_alcocons)"
      ]
    },
    {
      "cell_type": "code",
      "execution_count": null,
      "id": "7c2cf63b",
      "metadata": {
        "scrolled": false,
        "id": "7c2cf63b",
        "outputId": "cae2f4eb-7d95-44b4-ac53-d042c86bab3c"
      },
      "outputs": [
        {
          "data": {
            "application/vnd.plotly.v1+json": {
              "config": {
                "plotlyServerURL": "https://plot.ly"
              },
              "data": [
                {
                  "hovertemplate": "<b>%{hovertext}</b><br><br>continent=North America<br>year=2000<br>GDP per capita, $=%{x}<br>Alcohol consumption, litres per capita=%{y}<br>population=%{marker.size}<extra></extra>",
                  "hovertext": [
                    "Nicaragua",
                    "Trinidad and Tobago",
                    "Jamaica",
                    "Costa Rica",
                    "El Salvador",
                    "Dominican Republic",
                    "Honduras",
                    "Haiti",
                    "Guatemala",
                    "Panama",
                    "Belize",
                    "Mexico",
                    "Bahamas",
                    "United States"
                  ],
                  "ids": [
                    "Nicaragua",
                    "Trinidad and Tobago",
                    "Jamaica",
                    "Costa Rica",
                    "El Salvador",
                    "Dominican Republic",
                    "Honduras",
                    "Haiti",
                    "Guatemala",
                    "Panama",
                    "Belize",
                    "Mexico",
                    "Bahamas",
                    "United States"
                  ],
                  "legendgroup": "North America",
                  "marker": {
                    "color": "#636efa",
                    "size": [
                      5069310,
                      1267159,
                      2654698,
                      3962369,
                      5887930,
                      8471317,
                      6574510,
                      8463802,
                      11650744,
                      3030333,
                      247310,
                      98899845,
                      298045,
                      281710914
                    ],
                    "sizemode": "area",
                    "sizeref": 571059.1156,
                    "symbol": "circle"
                  },
                  "mode": "markers",
                  "name": "North America",
                  "orientation": "v",
                  "showlegend": true,
                  "type": "scatter",
                  "x": [
                    3968.89293294194,
                    16939.5254674584,
                    9344.53464265286,
                    12624.0705682992,
                    6548.6313703709,
                    9322.13919573249,
                    4108.77497718928,
                    2684.55192559431,
                    6499.88328602091,
                    14507.7959728498,
                    6599.3393519209,
                    17756.5664680698,
                    40518.1795069369,
                    50124.8911771197
                  ],
                  "xaxis": "x",
                  "y": [
                    5.05,
                    5.27,
                    4.91,
                    5.55,
                    3.86,
                    7.19,
                    3.5,
                    3.97,
                    4.4,
                    5.48,
                    5.55,
                    6.43,
                    5.58,
                    9.19
                  ],
                  "yaxis": "y"
                },
                {
                  "hovertemplate": "<b>%{hovertext}</b><br><br>continent=Africa<br>year=2000<br>GDP per capita, $=%{x}<br>Alcohol consumption, litres per capita=%{y}<br>population=%{marker.size}<extra></extra>",
                  "hovertext": [
                    "Central African Republic",
                    "Tunisia",
                    "Chad",
                    "Rwanda",
                    "Togo",
                    "Congo",
                    "Senegal",
                    "Uganda",
                    "Burkina Faso",
                    "Kenya",
                    "Burundi",
                    "Ethiopia",
                    "Cameroon",
                    "South Africa",
                    "Egypt",
                    "Gambia",
                    "Gabon",
                    "Equatorial Guinea",
                    "Eswatini",
                    "Ghana",
                    "Cote d'Ivoire",
                    "Sierra Leone",
                    "Guinea-Bissau",
                    "Tanzania",
                    "Democratic Republic of Congo",
                    "Guinea",
                    "Mali",
                    "Nigeria",
                    "Zambia",
                    "Madagascar",
                    "Malawi",
                    "Mozambique",
                    "Morocco",
                    "Mauritania",
                    "Namibia",
                    "Liberia",
                    "Zimbabwe",
                    "Libya",
                    "Lesotho",
                    "Algeria",
                    "Botswana",
                    "Benin",
                    "Niger",
                    "Angola"
                  ],
                  "ids": [
                    "Central African Republic",
                    "Tunisia",
                    "Chad",
                    "Rwanda",
                    "Togo",
                    "Congo",
                    "Senegal",
                    "Uganda",
                    "Burkina Faso",
                    "Kenya",
                    "Burundi",
                    "Ethiopia",
                    "Cameroon",
                    "South Africa",
                    "Egypt",
                    "Gambia",
                    "Gabon",
                    "Equatorial Guinea",
                    "Eswatini",
                    "Ghana",
                    "Cote d'Ivoire",
                    "Sierra Leone",
                    "Guinea-Bissau",
                    "Tanzania",
                    "Democratic Republic of Congo",
                    "Guinea",
                    "Mali",
                    "Nigeria",
                    "Zambia",
                    "Madagascar",
                    "Malawi",
                    "Mozambique",
                    "Morocco",
                    "Mauritania",
                    "Namibia",
                    "Liberia",
                    "Zimbabwe",
                    "Libya",
                    "Lesotho",
                    "Algeria",
                    "Botswana",
                    "Benin",
                    "Niger",
                    "Angola"
                  ],
                  "legendgroup": "Africa",
                  "marker": {
                    "color": "#EF553B",
                    "size": [
                      3640421,
                      9708347,
                      8355654,
                      7933688,
                      4924406,
                      3127420,
                      9797731,
                      23650159,
                      11607951,
                      31964557,
                      6378871,
                      66224808,
                      15513944,
                      44967713,
                      68831561,
                      1317708,
                      1228359,
                      606180,
                      1005432,
                      19278850,
                      16454660,
                      4584570,
                      1201305,
                      33499177,
                      47105830,
                      8240735,
                      10946448,
                      122283853,
                      10415942,
                      15766806,
                      11148751,
                      17711925,
                      28793672,
                      2630217,
                      1794583,
                      2848447,
                      11881482,
                      5357893,
                      2032805,
                      31042238,
                      1643333,
                      6865946,
                      11331561,
                      16395476
                    ],
                    "sizemode": "area",
                    "sizeref": 571059.1156,
                    "symbol": "circle"
                  },
                  "mode": "markers",
                  "name": "Africa",
                  "orientation": "v",
                  "showlegend": true,
                  "type": "scatter",
                  "x": [
                    1040.10383462572,
                    7329.34512574055,
                    897.34703736949,
                    867.61519073836,
                    1700.44139725969,
                    4402.90145480416,
                    2595.10928846112,
                    1252.75213083501,
                    1296.74796014307,
                    2867.74670834945,
                    828.000459963366,
                    727.766684744805,
                    2750.51116534277,
                    10088.8522469794,
                    7744.71523809311,
                    2270.48649520816,
                    16567.2456051163,
                    11176.5189594963,
                    5579.13655947274,
                    2734.80676341488,
                    4093.87478193688,
                    1063.29719794631,
                    1722.75748109366,
                    1409.45396400343,
                    751.557756784938,
                    1704.9563781541,
                    1627.73231771183,
                    2977.04147454063,
                    1990.85899129325,
                    1614.38228216052,
                    1107.53789395445,
                    630.701613637085,
                    4370.7994905291,
                    4361.21351253339,
                    6804.86674286238,
                    1699.02083585982,
                    3756.13948282406,
                    16746.2738707408,
                    1685.36701365512,
                    8710.45514928455,
                    11439.908400073,
                    2478.21823775079,
                    933.346375903928,
                    4727.96631394756
                  ],
                  "xaxis": "x",
                  "y": [
                    3.68,
                    1.36,
                    4.34,
                    13.73,
                    1.79,
                    3.45,
                    0.96,
                    13.61,
                    8.4,
                    3.83,
                    9.82,
                    1.76,
                    6.69,
                    10.02,
                    0.25,
                    4.14,
                    10.59,
                    7.45,
                    7.46,
                    5.3,
                    7.25,
                    5.8,
                    4.15,
                    8.63,
                    0.95,
                    0.67,
                    1.15,
                    12.5,
                    4.05,
                    2.11,
                    2.42,
                    2.33,
                    1.01,
                    0.2,
                    3.26,
                    6.38,
                    2.46,
                    0.064,
                    7.31,
                    0.58,
                    9.05,
                    2.46,
                    0.23,
                    2.76
                  ],
                  "yaxis": "y"
                },
                {
                  "hovertemplate": "<b>%{hovertext}</b><br><br>continent=Europe<br>year=2000<br>GDP per capita, $=%{x}<br>Alcohol consumption, litres per capita=%{y}<br>population=%{marker.size}<extra></extra>",
                  "hovertext": [
                    "Italy",
                    "Russia",
                    "Ireland",
                    "Latvia",
                    "Ukraine",
                    "Poland",
                    "Bulgaria",
                    "Portugal",
                    "Romania",
                    "Switzerland",
                    "Germany",
                    "Sweden",
                    "France",
                    "Finland",
                    "Estonia",
                    "Spain",
                    "Iceland",
                    "Greece",
                    "Hungary",
                    "Croatia",
                    "Slovakia",
                    "Czechia",
                    "Slovenia",
                    "Denmark",
                    "Belarus",
                    "Belgium",
                    "Norway",
                    "Moldova",
                    "North Macedonia",
                    "Austria",
                    "Albania",
                    "Netherlands",
                    "United Kingdom",
                    "Bosnia and Herzegovina",
                    "Lithuania",
                    "Luxembourg"
                  ],
                  "ids": [
                    "Italy",
                    "Russia",
                    "Ireland",
                    "Latvia",
                    "Ukraine",
                    "Poland",
                    "Bulgaria",
                    "Portugal",
                    "Romania",
                    "Switzerland",
                    "Germany",
                    "Sweden",
                    "France",
                    "Finland",
                    "Estonia",
                    "Spain",
                    "Iceland",
                    "Greece",
                    "Hungary",
                    "Croatia",
                    "Slovakia",
                    "Czechia",
                    "Slovenia",
                    "Denmark",
                    "Belarus",
                    "Belgium",
                    "Norway",
                    "Moldova",
                    "North Macedonia",
                    "Austria",
                    "Albania",
                    "Netherlands",
                    "United Kingdom",
                    "Bosnia and Herzegovina",
                    "Lithuania",
                    "Luxembourg"
                  ],
                  "legendgroup": "Europe",
                  "marker": {
                    "color": "#00cc96",
                    "size": [
                      56692178,
                      146404890,
                      3783095,
                      2384150,
                      48838058,
                      38556699,
                      7997951,
                      10297117,
                      22137423,
                      7143764,
                      81400883,
                      8881642,
                      59015092,
                      5187953,
                      1399111,
                      40824745,
                      280439,
                      11082103,
                      10220509,
                      4428075,
                      5399207,
                      10289374,
                      1987710,
                      5341192,
                      9871635,
                      10282046,
                      4499375,
                      4202659,
                      2034823,
                      8069276,
                      3129246,
                      15926188,
                      58923305,
                      3751176,
                      3501842,
                      436106
                    ],
                    "sizemode": "area",
                    "sizeref": 571059.1156,
                    "symbol": "circle"
                  },
                  "mode": "markers",
                  "name": "Europe",
                  "orientation": "v",
                  "showlegend": true,
                  "type": "scatter",
                  "x": [
                    43053.93306429,
                    14569.9365828201,
                    48628.4511384221,
                    12863.3093474278,
                    7221.46560780007,
                    16257.6458763574,
                    10201.2781187994,
                    30383.1378175177,
                    12109.5523994815,
                    59389.4240602209,
                    42864.9328892862,
                    40625.3620520538,
                    39732.2824515749,
                    39894.1944569685,
                    17778.9655754809,
                    34757.615021513,
                    41530.5173238278,
                    29186.324547399,
                    19406.5213432499,
                    18183.5881144119,
                    15660.6438507381,
                    24976.5063182959,
                    26281.0684547863,
                    48907.0114021027,
                    8053.17363808324,
                    43023.30716339,
                    57127.3997508609,
                    5074.37706419218,
                    10182.126070975,
                    46403.2776992589,
                    5893.13623256329,
                    47422.2034047837,
                    38280.8002708435,
                    7114.5527648191,
                    13846.6832884609,
                    95901.0204047436
                  ],
                  "xaxis": "x",
                  "y": [
                    10.37,
                    15.73,
                    15.13,
                    8.76,
                    12.46,
                    9.17,
                    11.8,
                    14.08,
                    17.45,
                    12.49,
                    14.16,
                    8.53,
                    14.08,
                    11.69,
                    9.57,
                    12.43,
                    7.03,
                    10.18,
                    14.27,
                    12.45,
                    12.47,
                    15,
                    12.6,
                    12.67,
                    15.17,
                    12.49,
                    7.95,
                    13.89,
                    7.31,
                    13.12,
                    6.57,
                    11.08,
                    13.73,
                    6.37,
                    13.36,
                    14.32
                  ],
                  "yaxis": "y"
                },
                {
                  "hovertemplate": "<b>%{hovertext}</b><br><br>continent=Asia<br>year=2000<br>GDP per capita, $=%{x}<br>Alcohol consumption, litres per capita=%{y}<br>population=%{marker.size}<extra></extra>",
                  "hovertext": [
                    "Israel",
                    "Iraq",
                    "China",
                    "Iran",
                    "Saudi Arabia",
                    "Indonesia",
                    "India",
                    "Turkey",
                    "Japan",
                    "Brunei",
                    "Laos",
                    "Kyrgyzstan",
                    "Kuwait",
                    "Turkmenistan",
                    "Qatar",
                    "Cambodia",
                    "Jordan",
                    "Timor",
                    "Georgia",
                    "South Korea",
                    "Thailand",
                    "Cyprus",
                    "Tajikistan",
                    "Philippines",
                    "Kazakhstan",
                    "Sri Lanka",
                    "Myanmar",
                    "Malaysia",
                    "Mongolia",
                    "Armenia",
                    "Pakistan",
                    "Azerbaijan",
                    "Oman",
                    "Vietnam",
                    "Lebanon",
                    "Uzbekistan",
                    "Bangladesh",
                    "United Arab Emirates",
                    "Nepal",
                    "Bhutan"
                  ],
                  "ids": [
                    "Israel",
                    "Iraq",
                    "China",
                    "Iran",
                    "Saudi Arabia",
                    "Indonesia",
                    "India",
                    "Turkey",
                    "Japan",
                    "Brunei",
                    "Laos",
                    "Kyrgyzstan",
                    "Kuwait",
                    "Turkmenistan",
                    "Qatar",
                    "Cambodia",
                    "Jordan",
                    "Timor",
                    "Georgia",
                    "South Korea",
                    "Thailand",
                    "Cyprus",
                    "Tajikistan",
                    "Philippines",
                    "Kazakhstan",
                    "Sri Lanka",
                    "Myanmar",
                    "Malaysia",
                    "Mongolia",
                    "Armenia",
                    "Pakistan",
                    "Azerbaijan",
                    "Oman",
                    "Vietnam",
                    "Lebanon",
                    "Uzbekistan",
                    "Bangladesh",
                    "United Arab Emirates",
                    "Nepal",
                    "Bhutan"
                  ],
                  "legendgroup": "Asia",
                  "marker": {
                    "color": "#ab63fa",
                    "size": [
                      5945949,
                      23497589,
                      1290550767,
                      65623397,
                      20663840,
                      211513822,
                      1056575548,
                      63240196,
                      127524168,
                      333166,
                      5323701,
                      4920712,
                      2045123,
                      4516128,
                      592467,
                      12155241,
                      5122495,
                      884366,
                      4362184,
                      47379237,
                      62952639,
                      943288,
                      6216329,
                      77991757,
                      14922724,
                      18777606,
                      46719698,
                      23194252,
                      2397417,
                      3069597,
                      142343583,
                      8122743,
                      2267973,
                      79910411,
                      3842774,
                      24769955,
                      127657862,
                      3134067,
                      23941099,
                      591014
                    ],
                    "sizemode": "area",
                    "sizeref": 571059.1156,
                    "symbol": "circle"
                  },
                  "mode": "markers",
                  "name": "Asia",
                  "orientation": "v",
                  "showlegend": true,
                  "type": "scatter",
                  "x": [
                    31416.9385084502,
                    9364.59670507821,
                    3451.67923092858,
                    10066.8027843828,
                    41955.2077907276,
                    5689.26022293799,
                    2578.59152976754,
                    15433.5871175503,
                    35611.8039052511,
                    69022.8801555068,
                    2861.27183966636,
                    3078.90925165177,
                    54984.9523488311,
                    4622.07875656117,
                    86566.3028502583,
                    1481.65682787052,
                    8741.7274099193,
                    2328.30466726771,
                    4919.23187995616,
                    22963.638542808,
                    9809.62237014961,
                    33013.9825138552,
                    1324.90986011034,
                    4453.75667171085,
                    10275.7618712984,
                    5949.97002912315,
                    1093.78820723887,
                    15917.0571666512,
                    4528.95594640011,
                    4048.24990407114,
                    3245.37834188783,
                    4063.47164104466,
                    33839.520542694,
                    2954.98290492635,
                    14361.6830243491,
                    2786.43037415465,
                    1937.72919211467,
                    102494.714619638,
                    2077.65205573805,
                    4061.4990262661
                  ],
                  "xaxis": "x",
                  "y": [
                    3.08,
                    0.45,
                    3.81,
                    0.21,
                    0.18,
                    0.5,
                    2.28,
                    2.41,
                    8.23,
                    0.23,
                    4.66,
                    9.45,
                    0.038,
                    4.82,
                    1.15,
                    1.87,
                    0.62,
                    1.53,
                    4.41,
                    12.31,
                    6.49,
                    10.86,
                    2.97,
                    6.06,
                    8.18,
                    2.22,
                    0.38,
                    1.53,
                    3.11,
                    4.23,
                    0.085,
                    3.45,
                    6.56,
                    2.21,
                    2.96,
                    5.68,
                    0.23,
                    2.58,
                    1.12,
                    2.77
                  ],
                  "yaxis": "y"
                },
                {
                  "hovertemplate": "<b>%{hovertext}</b><br><br>continent=South America<br>year=2000<br>GDP per capita, $=%{x}<br>Alcohol consumption, litres per capita=%{y}<br>population=%{marker.size}<extra></extra>",
                  "hovertext": [
                    "Chile",
                    "Colombia",
                    "Brazil",
                    "Ecuador",
                    "Suriname",
                    "Guyana",
                    "Uruguay",
                    "Argentina",
                    "Bolivia",
                    "Paraguay",
                    "Peru"
                  ],
                  "ids": [
                    "Chile",
                    "Colombia",
                    "Brazil",
                    "Ecuador",
                    "Suriname",
                    "Guyana",
                    "Uruguay",
                    "Argentina",
                    "Bolivia",
                    "Paraguay",
                    "Peru"
                  ],
                  "legendgroup": "South America",
                  "marker": {
                    "color": "#FFA15A",
                    "size": [
                      15342350,
                      39629965,
                      174790339,
                      12681123,
                      470944,
                      746718,
                      3319734,
                      36870796,
                      8418270,
                      5323202,
                      26459944
                    ],
                    "sizemode": "area",
                    "sizeref": 571059.1156,
                    "symbol": "circle"
                  },
                  "mode": "markers",
                  "name": "South America",
                  "orientation": "v",
                  "showlegend": true,
                  "type": "scatter",
                  "x": [
                    15638.0009435542,
                    9042.66279139813,
                    11600.9484568395,
                    8176.34444775576,
                    13068.206154071,
                    7776.30855726493,
                    14482.7545481357,
                    18625.2835537811,
                    5415.52605950999,
                    8530.20798959163,
                    6422.4805683104
                  ],
                  "xaxis": "x",
                  "y": [
                    7.74,
                    5.58,
                    8.78,
                    5.96,
                    5.29,
                    8.98,
                    8.09,
                    8.75,
                    3.44,
                    6.38,
                    6.54
                  ],
                  "yaxis": "y"
                },
                {
                  "hovertemplate": "<b>%{hovertext}</b><br><br>continent=Oceania<br>year=2000<br>GDP per capita, $=%{x}<br>Alcohol consumption, litres per capita=%{y}<br>population=%{marker.size}<extra></extra>",
                  "hovertext": [
                    "Fiji",
                    "Solomon Islands",
                    "Papua New Guinea",
                    "Vanuatu",
                    "Australia",
                    "New Zealand"
                  ],
                  "ids": [
                    "Fiji",
                    "Solomon Islands",
                    "Papua New Guinea",
                    "Vanuatu",
                    "Australia",
                    "New Zealand"
                  ],
                  "legendgroup": "Oceania",
                  "marker": {
                    "color": "#19d3f3",
                    "size": [
                      811011,
                      412665,
                      5847590,
                      184964,
                      18991434,
                      3858992
                    ],
                    "sizemode": "area",
                    "sizeref": 571059.1156,
                    "symbol": "circle"
                  },
                  "mode": "markers",
                  "name": "Oceania",
                  "orientation": "v",
                  "showlegend": true,
                  "type": "scatter",
                  "x": [
                    9575.8788393934,
                    2253.61086190761,
                    2871.41637699376,
                    3068.09586636035,
                    38343.002147534,
                    32837.0978861822
                  ],
                  "xaxis": "x",
                  "y": [
                    3.24,
                    1.2,
                    1.79,
                    1.17,
                    11.72,
                    10.42
                  ],
                  "yaxis": "y"
                }
              ],
              "frames": [
                {
                  "data": [
                    {
                      "hovertemplate": "<b>%{hovertext}</b><br><br>continent=North America<br>year=2000<br>GDP per capita, $=%{x}<br>Alcohol consumption, litres per capita=%{y}<br>population=%{marker.size}<extra></extra>",
                      "hovertext": [
                        "Nicaragua",
                        "Trinidad and Tobago",
                        "Jamaica",
                        "Costa Rica",
                        "El Salvador",
                        "Dominican Republic",
                        "Honduras",
                        "Haiti",
                        "Guatemala",
                        "Panama",
                        "Belize",
                        "Mexico",
                        "Bahamas",
                        "United States"
                      ],
                      "ids": [
                        "Nicaragua",
                        "Trinidad and Tobago",
                        "Jamaica",
                        "Costa Rica",
                        "El Salvador",
                        "Dominican Republic",
                        "Honduras",
                        "Haiti",
                        "Guatemala",
                        "Panama",
                        "Belize",
                        "Mexico",
                        "Bahamas",
                        "United States"
                      ],
                      "legendgroup": "North America",
                      "marker": {
                        "color": "#636efa",
                        "size": [
                          5069310,
                          1267159,
                          2654698,
                          3962369,
                          5887930,
                          8471317,
                          6574510,
                          8463802,
                          11650744,
                          3030333,
                          247310,
                          98899845,
                          298045,
                          281710914
                        ],
                        "sizemode": "area",
                        "sizeref": 571059.1156,
                        "symbol": "circle"
                      },
                      "mode": "markers",
                      "name": "North America",
                      "orientation": "v",
                      "showlegend": true,
                      "type": "scatter",
                      "x": [
                        3968.89293294194,
                        16939.5254674584,
                        9344.53464265286,
                        12624.0705682992,
                        6548.6313703709,
                        9322.13919573249,
                        4108.77497718928,
                        2684.55192559431,
                        6499.88328602091,
                        14507.7959728498,
                        6599.3393519209,
                        17756.5664680698,
                        40518.1795069369,
                        50124.8911771197
                      ],
                      "xaxis": "x",
                      "y": [
                        5.05,
                        5.27,
                        4.91,
                        5.55,
                        3.86,
                        7.19,
                        3.5,
                        3.97,
                        4.4,
                        5.48,
                        5.55,
                        6.43,
                        5.58,
                        9.19
                      ],
                      "yaxis": "y"
                    },
                    {
                      "hovertemplate": "<b>%{hovertext}</b><br><br>continent=Africa<br>year=2000<br>GDP per capita, $=%{x}<br>Alcohol consumption, litres per capita=%{y}<br>population=%{marker.size}<extra></extra>",
                      "hovertext": [
                        "Central African Republic",
                        "Tunisia",
                        "Chad",
                        "Rwanda",
                        "Togo",
                        "Congo",
                        "Senegal",
                        "Uganda",
                        "Burkina Faso",
                        "Kenya",
                        "Burundi",
                        "Ethiopia",
                        "Cameroon",
                        "South Africa",
                        "Egypt",
                        "Gambia",
                        "Gabon",
                        "Equatorial Guinea",
                        "Eswatini",
                        "Ghana",
                        "Cote d'Ivoire",
                        "Sierra Leone",
                        "Guinea-Bissau",
                        "Tanzania",
                        "Democratic Republic of Congo",
                        "Guinea",
                        "Mali",
                        "Nigeria",
                        "Zambia",
                        "Madagascar",
                        "Malawi",
                        "Mozambique",
                        "Morocco",
                        "Mauritania",
                        "Namibia",
                        "Liberia",
                        "Zimbabwe",
                        "Libya",
                        "Lesotho",
                        "Algeria",
                        "Botswana",
                        "Benin",
                        "Niger",
                        "Angola"
                      ],
                      "ids": [
                        "Central African Republic",
                        "Tunisia",
                        "Chad",
                        "Rwanda",
                        "Togo",
                        "Congo",
                        "Senegal",
                        "Uganda",
                        "Burkina Faso",
                        "Kenya",
                        "Burundi",
                        "Ethiopia",
                        "Cameroon",
                        "South Africa",
                        "Egypt",
                        "Gambia",
                        "Gabon",
                        "Equatorial Guinea",
                        "Eswatini",
                        "Ghana",
                        "Cote d'Ivoire",
                        "Sierra Leone",
                        "Guinea-Bissau",
                        "Tanzania",
                        "Democratic Republic of Congo",
                        "Guinea",
                        "Mali",
                        "Nigeria",
                        "Zambia",
                        "Madagascar",
                        "Malawi",
                        "Mozambique",
                        "Morocco",
                        "Mauritania",
                        "Namibia",
                        "Liberia",
                        "Zimbabwe",
                        "Libya",
                        "Lesotho",
                        "Algeria",
                        "Botswana",
                        "Benin",
                        "Niger",
                        "Angola"
                      ],
                      "legendgroup": "Africa",
                      "marker": {
                        "color": "#EF553B",
                        "size": [
                          3640421,
                          9708347,
                          8355654,
                          7933688,
                          4924406,
                          3127420,
                          9797731,
                          23650159,
                          11607951,
                          31964557,
                          6378871,
                          66224808,
                          15513944,
                          44967713,
                          68831561,
                          1317708,
                          1228359,
                          606180,
                          1005432,
                          19278850,
                          16454660,
                          4584570,
                          1201305,
                          33499177,
                          47105830,
                          8240735,
                          10946448,
                          122283853,
                          10415942,
                          15766806,
                          11148751,
                          17711925,
                          28793672,
                          2630217,
                          1794583,
                          2848447,
                          11881482,
                          5357893,
                          2032805,
                          31042238,
                          1643333,
                          6865946,
                          11331561,
                          16395476
                        ],
                        "sizemode": "area",
                        "sizeref": 571059.1156,
                        "symbol": "circle"
                      },
                      "mode": "markers",
                      "name": "Africa",
                      "orientation": "v",
                      "showlegend": true,
                      "type": "scatter",
                      "x": [
                        1040.10383462572,
                        7329.34512574055,
                        897.34703736949,
                        867.61519073836,
                        1700.44139725969,
                        4402.90145480416,
                        2595.10928846112,
                        1252.75213083501,
                        1296.74796014307,
                        2867.74670834945,
                        828.000459963366,
                        727.766684744805,
                        2750.51116534277,
                        10088.8522469794,
                        7744.71523809311,
                        2270.48649520816,
                        16567.2456051163,
                        11176.5189594963,
                        5579.13655947274,
                        2734.80676341488,
                        4093.87478193688,
                        1063.29719794631,
                        1722.75748109366,
                        1409.45396400343,
                        751.557756784938,
                        1704.9563781541,
                        1627.73231771183,
                        2977.04147454063,
                        1990.85899129325,
                        1614.38228216052,
                        1107.53789395445,
                        630.701613637085,
                        4370.7994905291,
                        4361.21351253339,
                        6804.86674286238,
                        1699.02083585982,
                        3756.13948282406,
                        16746.2738707408,
                        1685.36701365512,
                        8710.45514928455,
                        11439.908400073,
                        2478.21823775079,
                        933.346375903928,
                        4727.96631394756
                      ],
                      "xaxis": "x",
                      "y": [
                        3.68,
                        1.36,
                        4.34,
                        13.73,
                        1.79,
                        3.45,
                        0.96,
                        13.61,
                        8.4,
                        3.83,
                        9.82,
                        1.76,
                        6.69,
                        10.02,
                        0.25,
                        4.14,
                        10.59,
                        7.45,
                        7.46,
                        5.3,
                        7.25,
                        5.8,
                        4.15,
                        8.63,
                        0.95,
                        0.67,
                        1.15,
                        12.5,
                        4.05,
                        2.11,
                        2.42,
                        2.33,
                        1.01,
                        0.2,
                        3.26,
                        6.38,
                        2.46,
                        0.064,
                        7.31,
                        0.58,
                        9.05,
                        2.46,
                        0.23,
                        2.76
                      ],
                      "yaxis": "y"
                    },
                    {
                      "hovertemplate": "<b>%{hovertext}</b><br><br>continent=Europe<br>year=2000<br>GDP per capita, $=%{x}<br>Alcohol consumption, litres per capita=%{y}<br>population=%{marker.size}<extra></extra>",
                      "hovertext": [
                        "Italy",
                        "Russia",
                        "Ireland",
                        "Latvia",
                        "Ukraine",
                        "Poland",
                        "Bulgaria",
                        "Portugal",
                        "Romania",
                        "Switzerland",
                        "Germany",
                        "Sweden",
                        "France",
                        "Finland",
                        "Estonia",
                        "Spain",
                        "Iceland",
                        "Greece",
                        "Hungary",
                        "Croatia",
                        "Slovakia",
                        "Czechia",
                        "Slovenia",
                        "Denmark",
                        "Belarus",
                        "Belgium",
                        "Norway",
                        "Moldova",
                        "North Macedonia",
                        "Austria",
                        "Albania",
                        "Netherlands",
                        "United Kingdom",
                        "Bosnia and Herzegovina",
                        "Lithuania",
                        "Luxembourg"
                      ],
                      "ids": [
                        "Italy",
                        "Russia",
                        "Ireland",
                        "Latvia",
                        "Ukraine",
                        "Poland",
                        "Bulgaria",
                        "Portugal",
                        "Romania",
                        "Switzerland",
                        "Germany",
                        "Sweden",
                        "France",
                        "Finland",
                        "Estonia",
                        "Spain",
                        "Iceland",
                        "Greece",
                        "Hungary",
                        "Croatia",
                        "Slovakia",
                        "Czechia",
                        "Slovenia",
                        "Denmark",
                        "Belarus",
                        "Belgium",
                        "Norway",
                        "Moldova",
                        "North Macedonia",
                        "Austria",
                        "Albania",
                        "Netherlands",
                        "United Kingdom",
                        "Bosnia and Herzegovina",
                        "Lithuania",
                        "Luxembourg"
                      ],
                      "legendgroup": "Europe",
                      "marker": {
                        "color": "#00cc96",
                        "size": [
                          56692178,
                          146404890,
                          3783095,
                          2384150,
                          48838058,
                          38556699,
                          7997951,
                          10297117,
                          22137423,
                          7143764,
                          81400883,
                          8881642,
                          59015092,
                          5187953,
                          1399111,
                          40824745,
                          280439,
                          11082103,
                          10220509,
                          4428075,
                          5399207,
                          10289374,
                          1987710,
                          5341192,
                          9871635,
                          10282046,
                          4499375,
                          4202659,
                          2034823,
                          8069276,
                          3129246,
                          15926188,
                          58923305,
                          3751176,
                          3501842,
                          436106
                        ],
                        "sizemode": "area",
                        "sizeref": 571059.1156,
                        "symbol": "circle"
                      },
                      "mode": "markers",
                      "name": "Europe",
                      "orientation": "v",
                      "showlegend": true,
                      "type": "scatter",
                      "x": [
                        43053.93306429,
                        14569.9365828201,
                        48628.4511384221,
                        12863.3093474278,
                        7221.46560780007,
                        16257.6458763574,
                        10201.2781187994,
                        30383.1378175177,
                        12109.5523994815,
                        59389.4240602209,
                        42864.9328892862,
                        40625.3620520538,
                        39732.2824515749,
                        39894.1944569685,
                        17778.9655754809,
                        34757.615021513,
                        41530.5173238278,
                        29186.324547399,
                        19406.5213432499,
                        18183.5881144119,
                        15660.6438507381,
                        24976.5063182959,
                        26281.0684547863,
                        48907.0114021027,
                        8053.17363808324,
                        43023.30716339,
                        57127.3997508609,
                        5074.37706419218,
                        10182.126070975,
                        46403.2776992589,
                        5893.13623256329,
                        47422.2034047837,
                        38280.8002708435,
                        7114.5527648191,
                        13846.6832884609,
                        95901.0204047436
                      ],
                      "xaxis": "x",
                      "y": [
                        10.37,
                        15.73,
                        15.13,
                        8.76,
                        12.46,
                        9.17,
                        11.8,
                        14.08,
                        17.45,
                        12.49,
                        14.16,
                        8.53,
                        14.08,
                        11.69,
                        9.57,
                        12.43,
                        7.03,
                        10.18,
                        14.27,
                        12.45,
                        12.47,
                        15,
                        12.6,
                        12.67,
                        15.17,
                        12.49,
                        7.95,
                        13.89,
                        7.31,
                        13.12,
                        6.57,
                        11.08,
                        13.73,
                        6.37,
                        13.36,
                        14.32
                      ],
                      "yaxis": "y"
                    },
                    {
                      "hovertemplate": "<b>%{hovertext}</b><br><br>continent=Asia<br>year=2000<br>GDP per capita, $=%{x}<br>Alcohol consumption, litres per capita=%{y}<br>population=%{marker.size}<extra></extra>",
                      "hovertext": [
                        "Israel",
                        "Iraq",
                        "China",
                        "Iran",
                        "Saudi Arabia",
                        "Indonesia",
                        "India",
                        "Turkey",
                        "Japan",
                        "Brunei",
                        "Laos",
                        "Kyrgyzstan",
                        "Kuwait",
                        "Turkmenistan",
                        "Qatar",
                        "Cambodia",
                        "Jordan",
                        "Timor",
                        "Georgia",
                        "South Korea",
                        "Thailand",
                        "Cyprus",
                        "Tajikistan",
                        "Philippines",
                        "Kazakhstan",
                        "Sri Lanka",
                        "Myanmar",
                        "Malaysia",
                        "Mongolia",
                        "Armenia",
                        "Pakistan",
                        "Azerbaijan",
                        "Oman",
                        "Vietnam",
                        "Lebanon",
                        "Uzbekistan",
                        "Bangladesh",
                        "United Arab Emirates",
                        "Nepal",
                        "Bhutan"
                      ],
                      "ids": [
                        "Israel",
                        "Iraq",
                        "China",
                        "Iran",
                        "Saudi Arabia",
                        "Indonesia",
                        "India",
                        "Turkey",
                        "Japan",
                        "Brunei",
                        "Laos",
                        "Kyrgyzstan",
                        "Kuwait",
                        "Turkmenistan",
                        "Qatar",
                        "Cambodia",
                        "Jordan",
                        "Timor",
                        "Georgia",
                        "South Korea",
                        "Thailand",
                        "Cyprus",
                        "Tajikistan",
                        "Philippines",
                        "Kazakhstan",
                        "Sri Lanka",
                        "Myanmar",
                        "Malaysia",
                        "Mongolia",
                        "Armenia",
                        "Pakistan",
                        "Azerbaijan",
                        "Oman",
                        "Vietnam",
                        "Lebanon",
                        "Uzbekistan",
                        "Bangladesh",
                        "United Arab Emirates",
                        "Nepal",
                        "Bhutan"
                      ],
                      "legendgroup": "Asia",
                      "marker": {
                        "color": "#ab63fa",
                        "size": [
                          5945949,
                          23497589,
                          1290550767,
                          65623397,
                          20663840,
                          211513822,
                          1056575548,
                          63240196,
                          127524168,
                          333166,
                          5323701,
                          4920712,
                          2045123,
                          4516128,
                          592467,
                          12155241,
                          5122495,
                          884366,
                          4362184,
                          47379237,
                          62952639,
                          943288,
                          6216329,
                          77991757,
                          14922724,
                          18777606,
                          46719698,
                          23194252,
                          2397417,
                          3069597,
                          142343583,
                          8122743,
                          2267973,
                          79910411,
                          3842774,
                          24769955,
                          127657862,
                          3134067,
                          23941099,
                          591014
                        ],
                        "sizemode": "area",
                        "sizeref": 571059.1156,
                        "symbol": "circle"
                      },
                      "mode": "markers",
                      "name": "Asia",
                      "orientation": "v",
                      "showlegend": true,
                      "type": "scatter",
                      "x": [
                        31416.9385084502,
                        9364.59670507821,
                        3451.67923092858,
                        10066.8027843828,
                        41955.2077907276,
                        5689.26022293799,
                        2578.59152976754,
                        15433.5871175503,
                        35611.8039052511,
                        69022.8801555068,
                        2861.27183966636,
                        3078.90925165177,
                        54984.9523488311,
                        4622.07875656117,
                        86566.3028502583,
                        1481.65682787052,
                        8741.7274099193,
                        2328.30466726771,
                        4919.23187995616,
                        22963.638542808,
                        9809.62237014961,
                        33013.9825138552,
                        1324.90986011034,
                        4453.75667171085,
                        10275.7618712984,
                        5949.97002912315,
                        1093.78820723887,
                        15917.0571666512,
                        4528.95594640011,
                        4048.24990407114,
                        3245.37834188783,
                        4063.47164104466,
                        33839.520542694,
                        2954.98290492635,
                        14361.6830243491,
                        2786.43037415465,
                        1937.72919211467,
                        102494.714619638,
                        2077.65205573805,
                        4061.4990262661
                      ],
                      "xaxis": "x",
                      "y": [
                        3.08,
                        0.45,
                        3.81,
                        0.21,
                        0.18,
                        0.5,
                        2.28,
                        2.41,
                        8.23,
                        0.23,
                        4.66,
                        9.45,
                        0.038,
                        4.82,
                        1.15,
                        1.87,
                        0.62,
                        1.53,
                        4.41,
                        12.31,
                        6.49,
                        10.86,
                        2.97,
                        6.06,
                        8.18,
                        2.22,
                        0.38,
                        1.53,
                        3.11,
                        4.23,
                        0.085,
                        3.45,
                        6.56,
                        2.21,
                        2.96,
                        5.68,
                        0.23,
                        2.58,
                        1.12,
                        2.77
                      ],
                      "yaxis": "y"
                    },
                    {
                      "hovertemplate": "<b>%{hovertext}</b><br><br>continent=South America<br>year=2000<br>GDP per capita, $=%{x}<br>Alcohol consumption, litres per capita=%{y}<br>population=%{marker.size}<extra></extra>",
                      "hovertext": [
                        "Chile",
                        "Colombia",
                        "Brazil",
                        "Ecuador",
                        "Suriname",
                        "Guyana",
                        "Uruguay",
                        "Argentina",
                        "Bolivia",
                        "Paraguay",
                        "Peru"
                      ],
                      "ids": [
                        "Chile",
                        "Colombia",
                        "Brazil",
                        "Ecuador",
                        "Suriname",
                        "Guyana",
                        "Uruguay",
                        "Argentina",
                        "Bolivia",
                        "Paraguay",
                        "Peru"
                      ],
                      "legendgroup": "South America",
                      "marker": {
                        "color": "#FFA15A",
                        "size": [
                          15342350,
                          39629965,
                          174790339,
                          12681123,
                          470944,
                          746718,
                          3319734,
                          36870796,
                          8418270,
                          5323202,
                          26459944
                        ],
                        "sizemode": "area",
                        "sizeref": 571059.1156,
                        "symbol": "circle"
                      },
                      "mode": "markers",
                      "name": "South America",
                      "orientation": "v",
                      "showlegend": true,
                      "type": "scatter",
                      "x": [
                        15638.0009435542,
                        9042.66279139813,
                        11600.9484568395,
                        8176.34444775576,
                        13068.206154071,
                        7776.30855726493,
                        14482.7545481357,
                        18625.2835537811,
                        5415.52605950999,
                        8530.20798959163,
                        6422.4805683104
                      ],
                      "xaxis": "x",
                      "y": [
                        7.74,
                        5.58,
                        8.78,
                        5.96,
                        5.29,
                        8.98,
                        8.09,
                        8.75,
                        3.44,
                        6.38,
                        6.54
                      ],
                      "yaxis": "y"
                    },
                    {
                      "hovertemplate": "<b>%{hovertext}</b><br><br>continent=Oceania<br>year=2000<br>GDP per capita, $=%{x}<br>Alcohol consumption, litres per capita=%{y}<br>population=%{marker.size}<extra></extra>",
                      "hovertext": [
                        "Fiji",
                        "Solomon Islands",
                        "Papua New Guinea",
                        "Vanuatu",
                        "Australia",
                        "New Zealand"
                      ],
                      "ids": [
                        "Fiji",
                        "Solomon Islands",
                        "Papua New Guinea",
                        "Vanuatu",
                        "Australia",
                        "New Zealand"
                      ],
                      "legendgroup": "Oceania",
                      "marker": {
                        "color": "#19d3f3",
                        "size": [
                          811011,
                          412665,
                          5847590,
                          184964,
                          18991434,
                          3858992
                        ],
                        "sizemode": "area",
                        "sizeref": 571059.1156,
                        "symbol": "circle"
                      },
                      "mode": "markers",
                      "name": "Oceania",
                      "orientation": "v",
                      "showlegend": true,
                      "type": "scatter",
                      "x": [
                        9575.8788393934,
                        2253.61086190761,
                        2871.41637699376,
                        3068.09586636035,
                        38343.002147534,
                        32837.0978861822
                      ],
                      "xaxis": "x",
                      "y": [
                        3.24,
                        1.2,
                        1.79,
                        1.17,
                        11.72,
                        10.42
                      ],
                      "yaxis": "y"
                    }
                  ],
                  "name": "2000"
                },
                {
                  "data": [
                    {
                      "hovertemplate": "<b>%{hovertext}</b><br><br>continent=North America<br>year=2005<br>GDP per capita, $=%{x}<br>Alcohol consumption, litres per capita=%{y}<br>population=%{marker.size}<extra></extra>",
                      "hovertext": [
                        "Guatemala",
                        "Nicaragua",
                        "Jamaica",
                        "Panama",
                        "Haiti",
                        "Honduras",
                        "Mexico",
                        "Costa Rica",
                        "Belize",
                        "United States",
                        "Bahamas",
                        "Trinidad and Tobago",
                        "El Salvador",
                        "Dominican Republic"
                      ],
                      "ids": [
                        "Guatemala",
                        "Nicaragua",
                        "Jamaica",
                        "Panama",
                        "Haiti",
                        "Honduras",
                        "Mexico",
                        "Costa Rica",
                        "Belize",
                        "United States",
                        "Bahamas",
                        "Trinidad and Tobago",
                        "El Salvador",
                        "Dominican Republic"
                      ],
                      "legendgroup": "North America",
                      "marker": {
                        "color": "#636efa",
                        "size": [
                          13096028,
                          5438692,
                          2740000,
                          3330222,
                          9195289,
                          7458982,
                          106005199,
                          4285504,
                          283798,
                          294993509,
                          324848,
                          1296497,
                          6052124,
                          9097262
                        ],
                        "sizemode": "area",
                        "sizeref": 571059.1156,
                        "symbol": "circle"
                      },
                      "mode": "markers",
                      "name": "North America",
                      "orientation": "v",
                      "showlegend": true,
                      "type": "scatter",
                      "x": [
                        6753.68253599957,
                        4320.75032069298,
                        9918.04765635067,
                        16301.5159296249,
                        2629.11126147756,
                        4546.24063500184,
                        17788.5891204455,
                        14149.5192435305,
                        7363.87063594467,
                        54353.0685764315,
                        40353.9751920068,
                        24424.857914511,
                        6870.62983910769,
                        10291.303222851
                      ],
                      "xaxis": "x",
                      "y": [
                        4.29,
                        5.3,
                        4.43,
                        5.49,
                        3.86,
                        3.88,
                        6.48,
                        5.42,
                        7.16,
                        9.49,
                        4.28,
                        6.17,
                        3.8,
                        6.15
                      ],
                      "yaxis": "y"
                    },
                    {
                      "hovertemplate": "<b>%{hovertext}</b><br><br>continent=Africa<br>year=2005<br>GDP per capita, $=%{x}<br>Alcohol consumption, litres per capita=%{y}<br>population=%{marker.size}<extra></extra>",
                      "hovertext": [
                        "Guinea",
                        "Morocco",
                        "Ethiopia",
                        "Namibia",
                        "Gambia",
                        "Niger",
                        "Nigeria",
                        "Ghana",
                        "Mozambique",
                        "South Africa",
                        "Libya",
                        "Liberia",
                        "Lesotho",
                        "Kenya",
                        "Guinea-Bissau",
                        "Madagascar",
                        "Sierra Leone",
                        "Senegal",
                        "Mali",
                        "Rwanda",
                        "Malawi",
                        "Mauritania",
                        "Gabon",
                        "Congo",
                        "Benin",
                        "Cote d'Ivoire",
                        "Burundi",
                        "Tanzania",
                        "Democratic Republic of Congo",
                        "Burkina Faso",
                        "Cameroon",
                        "Uganda",
                        "Tunisia",
                        "Central African Republic",
                        "Chad",
                        "Botswana",
                        "Togo",
                        "Zambia",
                        "Egypt",
                        "Algeria",
                        "Equatorial Guinea",
                        "Zimbabwe",
                        "Angola",
                        "Eswatini"
                      ],
                      "ids": [
                        "Guinea",
                        "Morocco",
                        "Ethiopia",
                        "Namibia",
                        "Gambia",
                        "Niger",
                        "Nigeria",
                        "Ghana",
                        "Mozambique",
                        "South Africa",
                        "Libya",
                        "Liberia",
                        "Lesotho",
                        "Kenya",
                        "Guinea-Bissau",
                        "Madagascar",
                        "Sierra Leone",
                        "Senegal",
                        "Mali",
                        "Rwanda",
                        "Malawi",
                        "Mauritania",
                        "Gabon",
                        "Congo",
                        "Benin",
                        "Cote d'Ivoire",
                        "Burundi",
                        "Tanzania",
                        "Democratic Republic of Congo",
                        "Burkina Faso",
                        "Cameroon",
                        "Uganda",
                        "Tunisia",
                        "Central African Republic",
                        "Chad",
                        "Botswana",
                        "Togo",
                        "Zambia",
                        "Egypt",
                        "Algeria",
                        "Equatorial Guinea",
                        "Zimbabwe",
                        "Angola",
                        "Eswatini"
                      ],
                      "legendgroup": "Africa",
                      "marker": {
                        "color": "#EF553B",
                        "size": [
                          9109585,
                          30455563,
                          76346310,
                          1938316,
                          1543745,
                          13624474,
                          138865014,
                          21814648,
                          20493927,
                          47880595,
                          5798615,
                          3218114,
                          1996115,
                          36624897,
                          1344931,
                          18336722,
                          5645629,
                          11090123,
                          12775509,
                          8840220,
                          12625950,
                          3024198,
                          1390550,
                          3622775,
                          7982223,
                          18354513,
                          7364857,
                          38450323,
                          54785894,
                          13421935,
                          17733408,
                          27684590,
                          10106778,
                          4038380,
                          10096630,
                          1799077,
                          5611643,
                          11856244,
                          75523576,
                          33149720,
                          749527,
                          12076697,
                          19433604,
                          1030575
                        ],
                        "sizemode": "area",
                        "sizeref": 571059.1156,
                        "symbol": "circle"
                      },
                      "mode": "markers",
                      "name": "Africa",
                      "orientation": "v",
                      "showlegend": true,
                      "type": "scatter",
                      "x": [
                        1794.38316206248,
                        5227.56263149928,
                        862.35534188426,
                        8014.97385784405,
                        2216.18606202049,
                        961.539888157597,
                        3997.43975061575,
                        3090.18743847289,
                        821.345814204148,
                        11434.9152380948,
                        19883.4829147438,
                        1212.07045001597,
                        1969.63971986002,
                        2992.34077880203,
                        1677.70868916866,
                        1559.87472086079,
                        1244.90141432555,
                        2758.35344646235,
                        1958.8187312822,
                        1148.44637245018,
                        1087.6064639196,
                        4638.00598024501,
                        15761.1484780064,
                        4638.19394755187,
                        2581.64225152969,
                        3670.1809218819,
                        798.704826964119,
                        1719.7277571198,
                        778.96804364136,
                        1527.02215854176,
                        2982.02508108574,
                        1480.0521561082,
                        8523.08877705473,
                        1026.91390767575,
                        1618.13661604613,
                        12484.2304348309,
                        1573.68375172638,
                        2362.9022262854,
                        8397.03244402289,
                        10504.8584676293,
                        32390.2074360136,
                        2517.67270711744,
                        6210.2221878264,
                        6551.01015339516
                      ],
                      "xaxis": "x",
                      "y": [
                        0.77,
                        0.96,
                        2.05,
                        2.7,
                        4.27,
                        0.25,
                        12.51,
                        3.77,
                        1.3,
                        9.58,
                        0.083,
                        6.05,
                        5.37,
                        3.01,
                        5.31,
                        1.53,
                        5.57,
                        0.85,
                        1.05,
                        13,
                        2.87,
                        0.13,
                        9.36,
                        3.75,
                        2.23,
                        3.3,
                        8.44,
                        8.71,
                        0.86,
                        9.19,
                        7.62,
                        12.92,
                        1.46,
                        3.62,
                        4.62,
                        9.61,
                        3.26,
                        3.9,
                        0.29,
                        0.81,
                        8.91,
                        2.77,
                        4.89,
                        6.71
                      ],
                      "yaxis": "y"
                    },
                    {
                      "hovertemplate": "<b>%{hovertext}</b><br><br>continent=Europe<br>year=2005<br>GDP per capita, $=%{x}<br>Alcohol consumption, litres per capita=%{y}<br>population=%{marker.size}<extra></extra>",
                      "hovertext": [
                        "Slovakia",
                        "North Macedonia",
                        "Spain",
                        "Finland",
                        "Netherlands",
                        "Germany",
                        "Greece",
                        "Slovenia",
                        "France",
                        "Latvia",
                        "Romania",
                        "Luxembourg",
                        "Lithuania",
                        "Italy",
                        "Portugal",
                        "Poland",
                        "Norway",
                        "Moldova",
                        "Hungary",
                        "Iceland",
                        "Ireland",
                        "Russia",
                        "Croatia",
                        "Belgium",
                        "United Kingdom",
                        "Czechia",
                        "Belarus",
                        "Denmark",
                        "Bulgaria",
                        "Ukraine",
                        "Bosnia and Herzegovina",
                        "Estonia",
                        "Sweden",
                        "Albania",
                        "Switzerland",
                        "Austria"
                      ],
                      "ids": [
                        "Slovakia",
                        "North Macedonia",
                        "Spain",
                        "Finland",
                        "Netherlands",
                        "Germany",
                        "Greece",
                        "Slovenia",
                        "France",
                        "Latvia",
                        "Romania",
                        "Luxembourg",
                        "Lithuania",
                        "Italy",
                        "Portugal",
                        "Poland",
                        "Norway",
                        "Moldova",
                        "Hungary",
                        "Iceland",
                        "Ireland",
                        "Russia",
                        "Croatia",
                        "Belgium",
                        "United Kingdom",
                        "Czechia",
                        "Belarus",
                        "Denmark",
                        "Bulgaria",
                        "Ukraine",
                        "Bosnia and Herzegovina",
                        "Estonia",
                        "Sweden",
                        "Albania",
                        "Switzerland",
                        "Austria"
                      ],
                      "legendgroup": "Europe",
                      "marker": {
                        "color": "#00cc96",
                        "size": [
                          5398962,
                          2060280,
                          44019118,
                          5258933,
                          16367153,
                          81602739,
                          11224800,
                          1994979,
                          61120128,
                          2251996,
                          21417287,
                          457848,
                          3344259,
                          58281209,
                          10508494,
                          38368957,
                          4632359,
                          4159296,
                          10085942,
                          294976,
                          4141218,
                          143672125,
                          4378066,
                          10546885,
                          60287953,
                          10258165,
                          9562083,
                          5421701,
                          7686964,
                          46890775,
                          3765332,
                          1355650,
                          9038627,
                          3086810,
                          7386818,
                          8253656
                        ],
                        "sizemode": "area",
                        "sizeref": 571059.1156,
                        "symbol": "circle"
                      },
                      "mode": "markers",
                      "name": "Europe",
                      "orientation": "v",
                      "showlegend": true,
                      "type": "scatter",
                      "x": [
                        20072.3500036399,
                        11086.1567452985,
                        37963.3658355296,
                        44786.9096643071,
                        49467.4354267059,
                        43884.5352789987,
                        34732.6440722251,
                        31133.7151910898,
                        41643.9888864457,
                        20175.8162019511,
                        16770.6544964025,
                        104025.415860951,
                        21053.1846048184,
                        44260.8274173515,
                        31076.6441205289,
                        18937.4751533604,
                        61870.3837851071,
                        7231.32842221528,
                        24355.7819172586,
                        48104.6518132004,
                        57691.5616452959,
                        20042.8135032629,
                        23538.7544252511,
                        46341.2896407062,
                        42629.9482187521,
                        30384.4466487841,
                        11940.1865961058,
                        51483.273786293,
                        14356.019677453,
                        10957.5582756783,
                        9350.94404211336,
                        26093.1591109829,
                        45440.2967492535,
                        8040.87871678112,
                        61613.3910520748,
                        49316.2647023136
                      ],
                      "xaxis": "x",
                      "y": [
                        12.06,
                        7.03,
                        12.83,
                        13.11,
                        10.71,
                        13.28,
                        10.73,
                        12.3,
                        13.09,
                        11.96,
                        15.84,
                        13.58,
                        16.1,
                        9.41,
                        13.37,
                        10.6,
                        8.87,
                        19.95,
                        14.56,
                        7.74,
                        14.2,
                        17.36,
                        10.31,
                        13.13,
                        13.89,
                        14.76,
                        15.3,
                        12.29,
                        11.42,
                        12.01,
                        7.2,
                        15.65,
                        8.64,
                        7.65,
                        11.64,
                        12.79
                      ],
                      "yaxis": "y"
                    },
                    {
                      "hovertemplate": "<b>%{hovertext}</b><br><br>continent=Asia<br>year=2005<br>GDP per capita, $=%{x}<br>Alcohol consumption, litres per capita=%{y}<br>population=%{marker.size}<extra></extra>",
                      "hovertext": [
                        "Mongolia",
                        "Nepal",
                        "Myanmar",
                        "South Korea",
                        "Georgia",
                        "Japan",
                        "Qatar",
                        "Jordan",
                        "Kazakhstan",
                        "Kuwait",
                        "Kyrgyzstan",
                        "Laos",
                        "Philippines",
                        "Lebanon",
                        "Oman",
                        "Israel",
                        "India",
                        "Indonesia",
                        "Pakistan",
                        "Iran",
                        "Malaysia",
                        "Iraq",
                        "Saudi Arabia",
                        "Timor",
                        "Thailand",
                        "Cyprus",
                        "Bangladesh",
                        "Uzbekistan",
                        "Tajikistan",
                        "Bhutan",
                        "Sri Lanka",
                        "Cambodia",
                        "Turkey",
                        "Brunei",
                        "China",
                        "United Arab Emirates",
                        "Azerbaijan",
                        "Turkmenistan",
                        "Vietnam",
                        "Armenia"
                      ],
                      "ids": [
                        "Mongolia",
                        "Nepal",
                        "Myanmar",
                        "South Korea",
                        "Georgia",
                        "Japan",
                        "Qatar",
                        "Jordan",
                        "Kazakhstan",
                        "Kuwait",
                        "Kyrgyzstan",
                        "Laos",
                        "Philippines",
                        "Lebanon",
                        "Oman",
                        "Israel",
                        "India",
                        "Indonesia",
                        "Pakistan",
                        "Iran",
                        "Malaysia",
                        "Iraq",
                        "Saudi Arabia",
                        "Timor",
                        "Thailand",
                        "Cyprus",
                        "Bangladesh",
                        "Uzbekistan",
                        "Tajikistan",
                        "Bhutan",
                        "Sri Lanka",
                        "Cambodia",
                        "Turkey",
                        "Brunei",
                        "China",
                        "United Arab Emirates",
                        "Azerbaijan",
                        "Turkmenistan",
                        "Vietnam",
                        "Armenia"
                      ],
                      "legendgroup": "Asia",
                      "marker": {
                        "color": "#ab63fa",
                        "size": [
                          2526429,
                          25744500,
                          48949931,
                          48701069,
                          4210158,
                          128326115,
                          865410,
                          5765639,
                          15402803,
                          2270196,
                          5075340,
                          5751675,
                          86326251,
                          4698761,
                          2511254,
                          6529470,
                          1147609924,
                          226289468,
                          160304007,
                          69762345,
                          25690615,
                          26922279,
                          23816175,
                          995130,
                          65416189,
                          1027656,
                          139035505,
                          26427785,
                          6789318,
                          648744,
                          19544988,
                          13273355,
                          67903461,
                          365112,
                          1330776380,
                          4588222,
                          8538610,
                          4754652,
                          83832662,
                          2981262
                        ],
                        "sizemode": "area",
                        "sizeref": 571059.1156,
                        "symbol": "circle"
                      },
                      "mode": "markers",
                      "name": "Asia",
                      "orientation": "v",
                      "showlegend": true,
                      "type": "scatter",
                      "x": [
                        5883.36005710786,
                        2282.68505366778,
                        1911.95597037831,
                        28640.7062360909,
                        7315.19848048057,
                        37489.8533695016,
                        87721.9494076292,
                        10577.2913861175,
                        16536.0154072377,
                        73155.7122110388,
                        3517.72050884889,
                        3584.32029137671,
                        5054.23893301697,
                        14263.7149426343,
                        31909.5027436973,
                        31239.0068599514,
                        3245.29988504732,
                        6699.27209089739,
                        3706.82402332879,
                        11998.2148575374,
                        18114.1441085608,
                        7542.22233395798,
                        44309.5346045295,
                        2272.4450564684,
                        12304.4020760731,
                        37803.5755253568,
                        2279.53127370224,
                        3405.21630793091,
                        1924.11690363046,
                        5456.70774972036,
                        6944.22676755822,
                        2120.55171733923,
                        18251.6691007312,
                        69787.8222042953,
                        5334.6466393818,
                        90894.8988067777,
                        7222.03607503781,
                        5629.0698391954,
                        3931.76536810297,
                        7419.87119017403
                      ],
                      "xaxis": "x",
                      "y": [
                        5.28,
                        1.95,
                        1.65,
                        10.58,
                        6.39,
                        7.99,
                        1.67,
                        0.66,
                        9.33,
                        0.019,
                        11.19,
                        4.37,
                        5.67,
                        2.31,
                        1.56,
                        2.7,
                        2.33,
                        0.48,
                        0.16,
                        0.58,
                        1.28,
                        0.44,
                        0.17,
                        0.83,
                        6.81,
                        12.43,
                        0.16,
                        4.15,
                        2.51,
                        1.6,
                        2.59,
                        2.69,
                        2.12,
                        0.21,
                        4.02,
                        3.64,
                        1.81,
                        4.88,
                        2.63,
                        5.79
                      ],
                      "yaxis": "y"
                    },
                    {
                      "hovertemplate": "<b>%{hovertext}</b><br><br>continent=South America<br>year=2005<br>GDP per capita, $=%{x}<br>Alcohol consumption, litres per capita=%{y}<br>population=%{marker.size}<extra></extra>",
                      "hovertext": [
                        "Guyana",
                        "Paraguay",
                        "Peru",
                        "Uruguay",
                        "Bolivia",
                        "Colombia",
                        "Chile",
                        "Brazil",
                        "Ecuador",
                        "Suriname",
                        "Argentina"
                      ],
                      "ids": [
                        "Guyana",
                        "Paraguay",
                        "Peru",
                        "Uruguay",
                        "Bolivia",
                        "Colombia",
                        "Chile",
                        "Brazil",
                        "Ecuador",
                        "Suriname",
                        "Argentina"
                      ],
                      "legendgroup": "South America",
                      "marker": {
                        "color": "#FFA15A",
                        "size": [
                          746156,
                          5824095,
                          27866140,
                          3321799,
                          9232301,
                          42647731,
                          16182713,
                          186127108,
                          13825839,
                          499461,
                          38892924
                        ],
                        "sizemode": "area",
                        "sizeref": 571059.1156,
                        "symbol": "circle"
                      },
                      "mode": "markers",
                      "name": "South America",
                      "orientation": "v",
                      "showlegend": true,
                      "type": "scatter",
                      "x": [
                        7965.37804381727,
                        8570.09446530592,
                        7519.02906932011,
                        14606.4661146239,
                        5749.5316491022,
                        10049.1261807666,
                        18634.626435638,
                        12565.9413936417,
                        9503.69468951352,
                        15908.3007840511,
                        19426.4401434847
                      ],
                      "xaxis": "x",
                      "y": [
                        7.98,
                        6.66,
                        6.99,
                        7.46,
                        4.37,
                        5.41,
                        8.93,
                        8.32,
                        5.81,
                        5.41,
                        8.66
                      ],
                      "yaxis": "y"
                    },
                    {
                      "hovertemplate": "<b>%{hovertext}</b><br><br>continent=Oceania<br>year=2005<br>GDP per capita, $=%{x}<br>Alcohol consumption, litres per capita=%{y}<br>population=%{marker.size}<extra></extra>",
                      "hovertext": [
                        "Fiji",
                        "New Zealand",
                        "Solomon Islands",
                        "Papua New Guinea",
                        "Australia",
                        "Vanuatu"
                      ],
                      "ids": [
                        "Fiji",
                        "New Zealand",
                        "Solomon Islands",
                        "Papua New Guinea",
                        "Australia",
                        "Vanuatu"
                      ],
                      "legendgroup": "Oceania",
                      "marker": {
                        "color": "#19d3f3",
                        "size": [
                          821606,
                          4135353,
                          469918,
                          6494902,
                          20178543,
                          209282
                        ],
                        "sizemode": "area",
                        "sizeref": 571059.1156,
                        "symbol": "circle"
                      },
                      "mode": "markers",
                      "name": "Oceania",
                      "orientation": "v",
                      "showlegend": true,
                      "type": "scatter",
                      "x": [
                        10656.1632257559,
                        37293.2137650567,
                        2122.96352695466,
                        2877.11564572546,
                        42217.136349705,
                        2835.92704585306
                      ],
                      "xaxis": "x",
                      "y": [
                        2.78,
                        10.92,
                        1.6,
                        1.6,
                        12.08,
                        1.2
                      ],
                      "yaxis": "y"
                    }
                  ],
                  "name": "2005"
                },
                {
                  "data": [
                    {
                      "hovertemplate": "<b>%{hovertext}</b><br><br>continent=North America<br>year=2010<br>GDP per capita, $=%{x}<br>Alcohol consumption, litres per capita=%{y}<br>population=%{marker.size}<extra></extra>",
                      "hovertext": [
                        "Nicaragua",
                        "Bahamas",
                        "Mexico",
                        "Belize",
                        "Panama",
                        "United States",
                        "Guatemala",
                        "Haiti",
                        "Honduras",
                        "Costa Rica",
                        "Dominican Republic",
                        "El Salvador",
                        "Jamaica",
                        "Trinidad and Tobago",
                        "Canada"
                      ],
                      "ids": [
                        "Nicaragua",
                        "Bahamas",
                        "Mexico",
                        "Belize",
                        "Panama",
                        "United States",
                        "Guatemala",
                        "Haiti",
                        "Honduras",
                        "Costa Rica",
                        "Dominican Republic",
                        "El Salvador",
                        "Jamaica",
                        "Trinidad and Tobago",
                        "Canada"
                      ],
                      "legendgroup": "North America",
                      "marker": {
                        "color": "#636efa",
                        "size": [
                          5824058,
                          354936,
                          114092961,
                          322465,
                          3642691,
                          309011469,
                          14630420,
                          9949318,
                          8317467,
                          4577371,
                          9695117,
                          6183877,
                          2810464,
                          1328144,
                          34147566
                        ],
                        "sizemode": "area",
                        "sizeref": 571059.1156,
                        "symbol": "circle"
                      },
                      "mode": "markers",
                      "name": "North America",
                      "orientation": "v",
                      "showlegend": true,
                      "type": "scatter",
                      "x": [
                        4611.78569153692,
                        36504.4070465871,
                        17790.0119218899,
                        7294.68414297853,
                        21343.3049948781,
                        54315.9124805391,
                        7335.98897429945,
                        2735.28361704383,
                        4866.97393107266,
                        16830.4361782214,
                        12782.4571724153,
                        7328.71990965521,
                        9435.76084179983,
                        28879.2873679678,
                        44861.5239641879
                      ],
                      "xaxis": "x",
                      "y": [
                        4.79,
                        4.12,
                        5.21,
                        7.08,
                        6.84,
                        9.36,
                        3.51,
                        2.99,
                        3.59,
                        4.8,
                        6.11,
                        3.31,
                        4.38,
                        6.21,
                        10.1
                      ],
                      "yaxis": "y"
                    },
                    {
                      "hovertemplate": "<b>%{hovertext}</b><br><br>continent=Africa<br>year=2010<br>GDP per capita, $=%{x}<br>Alcohol consumption, litres per capita=%{y}<br>population=%{marker.size}<extra></extra>",
                      "hovertext": [
                        "Angola",
                        "Namibia",
                        "Niger",
                        "Lesotho",
                        "Botswana",
                        "Algeria",
                        "Burkina Faso",
                        "Kenya",
                        "Zimbabwe",
                        "Zambia",
                        "Uganda",
                        "Mali",
                        "Mauritania",
                        "Liberia",
                        "Malawi",
                        "Libya",
                        "Nigeria",
                        "Benin",
                        "Mozambique",
                        "Madagascar",
                        "Morocco",
                        "Eswatini",
                        "Democratic Republic of Congo",
                        "Guinea",
                        "Guinea-Bissau",
                        "Tanzania",
                        "Sierra Leone",
                        "Cote d'Ivoire",
                        "Senegal",
                        "Ethiopia",
                        "Equatorial Guinea",
                        "Gabon",
                        "South Africa",
                        "Egypt",
                        "Gambia",
                        "Ghana",
                        "Chad",
                        "Rwanda",
                        "Cameroon",
                        "Tunisia",
                        "Central African Republic",
                        "Congo",
                        "Burundi",
                        "Togo"
                      ],
                      "ids": [
                        "Angola",
                        "Namibia",
                        "Niger",
                        "Lesotho",
                        "Botswana",
                        "Algeria",
                        "Burkina Faso",
                        "Kenya",
                        "Zimbabwe",
                        "Zambia",
                        "Uganda",
                        "Mali",
                        "Mauritania",
                        "Liberia",
                        "Malawi",
                        "Libya",
                        "Nigeria",
                        "Benin",
                        "Mozambique",
                        "Madagascar",
                        "Morocco",
                        "Eswatini",
                        "Democratic Republic of Congo",
                        "Guinea",
                        "Guinea-Bissau",
                        "Tanzania",
                        "Sierra Leone",
                        "Cote d'Ivoire",
                        "Senegal",
                        "Ethiopia",
                        "Equatorial Guinea",
                        "Gabon",
                        "South Africa",
                        "Egypt",
                        "Gambia",
                        "Ghana",
                        "Chad",
                        "Rwanda",
                        "Cameroon",
                        "Tunisia",
                        "Central African Republic",
                        "Congo",
                        "Burundi",
                        "Togo"
                      ],
                      "legendgroup": "Africa",
                      "marker": {
                        "color": "#EF553B",
                        "size": [
                          23356247,
                          2118877,
                          16464025,
                          1995575,
                          1987106,
                          35977451,
                          15605211,
                          42030684,
                          12697728,
                          13605986,
                          32428164,
                          15049352,
                          3494200,
                          3891357,
                          14539609,
                          6197667,
                          158503203,
                          9199254,
                          23531567,
                          21151640,
                          32343384,
                          1064841,
                          64563853,
                          10192168,
                          1522603,
                          44346532,
                          6415636,
                          20532944,
                          12678143,
                          87639962,
                          943640,
                          1624146,
                          51216967,
                          82761244,
                          1793199,
                          24779614,
                          11952134,
                          10039338,
                          20341236,
                          10635245,
                          4386765,
                          4273738,
                          8675606,
                          6421674
                        ],
                        "sizemode": "area",
                        "sizeref": 571059.1156,
                        "symbol": "circle"
                      },
                      "mode": "markers",
                      "name": "Africa",
                      "orientation": "v",
                      "showlegend": true,
                      "type": "scatter",
                      "x": [
                        7692.43428623311,
                        9031.16059358875,
                        1036.90430530082,
                        2346.71329671032,
                        14126.382270078,
                        10970.7063686682,
                        1716.35832279765,
                        3329.85375197704,
                        2458.22062578173,
                        3125.52884870272,
                        1861.2824578388,
                        2082.96193463428,
                        4767.37736625119,
                        1420.04624575477,
                        1350.59916998263,
                        22539.8927593081,
                        4932.33479996173,
                        2704.7054840378,
                        1027.20887652935,
                        1553.40472203739,
                        6281.46419122613,
                        7459.22797562412,
                        865.684040221023,
                        1870.80005065288,
                        1747.23748547332,
                        2006.97132607023,
                        1413.56373614617,
                        3660.90384745152,
                        2797.11016032924,
                        1259.02258051063,
                        34732.2191497036,
                        14415.4459113912,
                        12452.3375290857,
                        10340.0732290684,
                        2346.72047883159,
                        3729.47590321705,
                        1732.69158409284,
                        1507.16501035777,
                        3086.2214744681,
                        10113.3703487395,
                        1201.35219681679,
                        5172.76090245052,
                        846.169136789899,
                        1625.54544570615
                      ],
                      "xaxis": "x",
                      "y": [
                        8.16,
                        1.99,
                        0.31,
                        6.5,
                        8.62,
                        0.65,
                        8.58,
                        3.29,
                        3.93,
                        5.43,
                        13.5,
                        1.09,
                        0.086,
                        5.37,
                        3.21,
                        0.098,
                        11.72,
                        2.47,
                        1.63,
                        1.87,
                        0.9,
                        6.82,
                        1.75,
                        0.7,
                        4.47,
                        9.74,
                        5.83,
                        2.53,
                        0.6,
                        2.5,
                        9.2,
                        9.89,
                        10.04,
                        0.36,
                        3.81,
                        4.26,
                        6.58,
                        10.27,
                        8.43,
                        1.4,
                        3.98,
                        6.17,
                        7.66,
                        2.11
                      ],
                      "yaxis": "y"
                    },
                    {
                      "hovertemplate": "<b>%{hovertext}</b><br><br>continent=Europe<br>year=2010<br>GDP per capita, $=%{x}<br>Alcohol consumption, litres per capita=%{y}<br>population=%{marker.size}<extra></extra>",
                      "hovertext": [
                        "Ukraine",
                        "Bosnia and Herzegovina",
                        "Latvia",
                        "Bulgaria",
                        "Poland",
                        "Netherlands",
                        "Albania",
                        "Belarus",
                        "North Macedonia",
                        "Montenegro",
                        "Austria",
                        "Norway",
                        "Belgium",
                        "Moldova",
                        "United Kingdom",
                        "Lithuania",
                        "Luxembourg",
                        "Greece",
                        "Slovenia",
                        "Slovakia",
                        "Czechia",
                        "Portugal",
                        "Serbia",
                        "Hungary",
                        "Denmark",
                        "Switzerland",
                        "Spain",
                        "Estonia",
                        "Finland",
                        "France",
                        "Sweden",
                        "Germany",
                        "Iceland",
                        "Croatia",
                        "Italy",
                        "Russia",
                        "Romania",
                        "Ireland"
                      ],
                      "ids": [
                        "Ukraine",
                        "Bosnia and Herzegovina",
                        "Latvia",
                        "Bulgaria",
                        "Poland",
                        "Netherlands",
                        "Albania",
                        "Belarus",
                        "North Macedonia",
                        "Montenegro",
                        "Austria",
                        "Norway",
                        "Belgium",
                        "Moldova",
                        "United Kingdom",
                        "Lithuania",
                        "Luxembourg",
                        "Greece",
                        "Slovenia",
                        "Slovakia",
                        "Czechia",
                        "Portugal",
                        "Serbia",
                        "Hungary",
                        "Denmark",
                        "Switzerland",
                        "Spain",
                        "Estonia",
                        "Finland",
                        "France",
                        "Sweden",
                        "Germany",
                        "Iceland",
                        "Croatia",
                        "Italy",
                        "Russia",
                        "Romania",
                        "Ireland"
                      ],
                      "legendgroup": "Europe",
                      "marker": {
                        "color": "#00cc96",
                        "size": [
                          45792086,
                          3705478,
                          2118855,
                          7425011,
                          38329784,
                          16682927,
                          2948029,
                          9420576,
                          2070737,
                          624279,
                          8409945,
                          4885878,
                          10938735,
                          4086090,
                          63459801,
                          3123825,
                          507890,
                          10887640,
                          2043336,
                          5404293,
                          10536514,
                          10596055,
                          8991258,
                          9927380,
                          5554849,
                          7808674,
                          46931011,
                          1332103,
                          5365784,
                          62879535,
                          9390157,
                          80827001,
                          320342,
                          4328163,
                          59325232,
                          143479273,
                          20471860,
                          4554330
                        ],
                        "sizemode": "area",
                        "sizeref": 571059.1156,
                        "symbol": "circle"
                      },
                      "mode": "markers",
                      "name": "Europe",
                      "orientation": "v",
                      "showlegend": true,
                      "type": "scatter",
                      "x": [
                        11778.3136960259,
                        10938.2850480476,
                        21023.9013349872,
                        17440.671883099,
                        23996.1397804791,
                        52032.9865022429,
                        10749.4874481658,
                        17288.4043493433,
                        13412.3128319948,
                        16764.3623723454,
                        51769.1455641151,
                        61353.4963937525,
                        47971.6303134944,
                        8550.170639047,
                        42089.0136357977,
                        23942.7603567557,
                        107703.453907485,
                        33753.6177475922,
                        33355.8476287757,
                        25417.8123610242,
                        33483.137594809,
                        31798.1538079411,
                        14510.9633040097,
                        24427.6287331225,
                        50825.4122929358,
                        65819.7372527487,
                        37319.4762230353,
                        26133.3818108942,
                        45874.6613021399,
                        42147.6716766942,
                        47791.3715245947,
                        46929.9934093156,
                        47457.6229185836,
                        24280.6026929712,
                        42664.3552727925,
                        23961.2202930302,
                        20303.1627966692,
                        53725.033597612
                      ],
                      "xaxis": "x",
                      "y": [
                        13.57,
                        7.32,
                        11.63,
                        11.32,
                        11.21,
                        10.21,
                        7.69,
                        17.43,
                        5.93,
                        15.07,
                        12.2,
                        8.94,
                        11.4,
                        15.54,
                        12.06,
                        15.25,
                        12.98,
                        9.67,
                        11.54,
                        12,
                        14.06,
                        12.51,
                        11.69,
                        12.09,
                        11,
                        11.41,
                        10.03,
                        12.39,
                        12.59,
                        12.4,
                        9.49,
                        12.64,
                        7.5,
                        10.08,
                        7.34,
                        15.87,
                        13.97,
                        12.07
                      ],
                      "yaxis": "y"
                    },
                    {
                      "hovertemplate": "<b>%{hovertext}</b><br><br>continent=Asia<br>year=2010<br>GDP per capita, $=%{x}<br>Alcohol consumption, litres per capita=%{y}<br>population=%{marker.size}<extra></extra>",
                      "hovertext": [
                        "Lebanon",
                        "Azerbaijan",
                        "Turkmenistan",
                        "Kuwait",
                        "Kyrgyzstan",
                        "Brunei",
                        "Laos",
                        "Philippines",
                        "United Arab Emirates",
                        "Nepal",
                        "Bhutan",
                        "Malaysia",
                        "Pakistan",
                        "Bangladesh",
                        "Mongolia",
                        "Oman",
                        "Uzbekistan",
                        "Myanmar",
                        "Vietnam",
                        "Armenia",
                        "Afghanistan",
                        "Kazakhstan",
                        "Tajikistan",
                        "Cyprus",
                        "Thailand",
                        "Sri Lanka",
                        "South Korea",
                        "Georgia",
                        "Qatar",
                        "Iraq",
                        "Iran",
                        "Timor",
                        "Israel",
                        "China",
                        "Japan",
                        "Turkey",
                        "India",
                        "Jordan",
                        "Cambodia",
                        "Saudi Arabia",
                        "Indonesia"
                      ],
                      "ids": [
                        "Lebanon",
                        "Azerbaijan",
                        "Turkmenistan",
                        "Kuwait",
                        "Kyrgyzstan",
                        "Brunei",
                        "Laos",
                        "Philippines",
                        "United Arab Emirates",
                        "Nepal",
                        "Bhutan",
                        "Malaysia",
                        "Pakistan",
                        "Bangladesh",
                        "Mongolia",
                        "Oman",
                        "Uzbekistan",
                        "Myanmar",
                        "Vietnam",
                        "Armenia",
                        "Afghanistan",
                        "Kazakhstan",
                        "Tajikistan",
                        "Cyprus",
                        "Thailand",
                        "Sri Lanka",
                        "South Korea",
                        "Georgia",
                        "Qatar",
                        "Iraq",
                        "Iran",
                        "Timor",
                        "Israel",
                        "China",
                        "Japan",
                        "Turkey",
                        "India",
                        "Jordan",
                        "Cambodia",
                        "Saudi Arabia",
                        "Indonesia"
                      ],
                      "legendgroup": "Asia",
                      "marker": {
                        "color": "#ab63fa",
                        "size": [
                          4953064,
                          9032465,
                          5087211,
                          2991884,
                          5422298,
                          388634,
                          6249168,
                          93966784,
                          8549998,
                          27013207,
                          685502,
                          28208028,
                          179424643,
                          147575433,
                          2719902,
                          3041435,
                          28515908,
                          50600827,
                          87967655,
                          2877314,
                          29185511,
                          16252273,
                          7527397,
                          1112617,
                          67195032,
                          20261738,
                          49545638,
                          4099095,
                          1856329,
                          29741977,
                          73762519,
                          1093517,
                          7346446,
                          1368810604,
                          128542349,
                          72326992,
                          1234281163,
                          7261541,
                          14312205,
                          27421468,
                          241834226
                        ],
                        "sizemode": "area",
                        "sizeref": 571059.1156,
                        "symbol": "circle"
                      },
                      "mode": "markers",
                      "name": "Asia",
                      "orientation": "v",
                      "showlegend": true,
                      "type": "scatter",
                      "x": [
                        19499.1728019089,
                        14312.7561158751,
                        8616.88953254413,
                        58810.4048692567,
                        4141.07720559948,
                        67753.4217667143,
                        4850.17506683389,
                        5918.37322881976,
                        54921.7755754851,
                        2703.41491670115,
                        8190.57622279014,
                        20536.372513472,
                        3906.87397085543,
                        2883.46679391309,
                        7479.78090233711,
                        33864.9837422885,
                        4651.52296182589,
                        3129.92025489038,
                        5089.41101647328,
                        9286.19732701296,
                        1957.02906990812,
                        20751.2572399462,
                        2390.02217412609,
                        38379.0903965443,
                        14399.0445142977,
                        9126.86561223093,
                        34394.4904890551,
                        9736.73209374292,
                        95908.3128170241,
                        8748.50877615095,
                        13805.7038219488,
                        2930.05449067477,
                        34800.2474731642,
                        8884.58803122605,
                        37586.1671466567,
                        20027.6668282982,
                        4234.97957334961,
                        11315.5027028063,
                        2716.69973756029,
                        44036.7673465341,
                        8286.7328696642
                      ],
                      "xaxis": "x",
                      "y": [
                        1.94,
                        2.97,
                        4.82,
                        0.032,
                        10.08,
                        0.51,
                        7.1,
                        6.98,
                        3.15,
                        1.94,
                        0.92,
                        1.32,
                        0.19,
                        0.16,
                        9.65,
                        0.73,
                        3.01,
                        2.9,
                        4.9,
                        5.69,
                        0.21,
                        4.97,
                        2.4,
                        11.35,
                        7.71,
                        3.92,
                        9.97,
                        9.67,
                        1.69,
                        0.49,
                        1.01,
                        0.7,
                        3.12,
                        7.07,
                        7.2,
                        2.32,
                        4.35,
                        0.64,
                        4.91,
                        0.17,
                        0.59
                      ],
                      "yaxis": "y"
                    },
                    {
                      "hovertemplate": "<b>%{hovertext}</b><br><br>continent=South America<br>year=2010<br>GDP per capita, $=%{x}<br>Alcohol consumption, litres per capita=%{y}<br>population=%{marker.size}<extra></extra>",
                      "hovertext": [
                        "Peru",
                        "Brazil",
                        "Bolivia",
                        "Paraguay",
                        "Uruguay",
                        "Argentina",
                        "Guyana",
                        "Suriname",
                        "Ecuador",
                        "Chile",
                        "Colombia"
                      ],
                      "ids": [
                        "Peru",
                        "Brazil",
                        "Bolivia",
                        "Paraguay",
                        "Uruguay",
                        "Argentina",
                        "Guyana",
                        "Suriname",
                        "Ecuador",
                        "Chile",
                        "Colombia"
                      ],
                      "legendgroup": "South America",
                      "marker": {
                        "color": "#FFA15A",
                        "size": [
                          29027680,
                          195713637,
                          10048597,
                          6248017,
                          3359273,
                          40895751,
                          749430,
                          529126,
                          15011114,
                          17062531,
                          45222699
                        ],
                        "sizemode": "area",
                        "sizeref": 571059.1156,
                        "symbol": "circle"
                      },
                      "mode": "markers",
                      "name": "South America",
                      "orientation": "v",
                      "showlegend": true,
                      "type": "scatter",
                      "x": [
                        10066.4675664813,
                        14873.2083173363,
                        6612.80335711566,
                        10415.6564362312,
                        19293.7407978576,
                        23521.2701750961,
                        9789.01670024955,
                        18840.3689668707,
                        10340.9702972165,
                        21262.4669863019,
                        11783.2999142858
                      ],
                      "xaxis": "x",
                      "y": [
                        7.69,
                        8.49,
                        5.56,
                        7.58,
                        7.1,
                        9.09,
                        6.78,
                        6.22,
                        6.16,
                        9.31,
                        5.04
                      ],
                      "yaxis": "y"
                    },
                    {
                      "hovertemplate": "<b>%{hovertext}</b><br><br>continent=Oceania<br>year=2010<br>GDP per capita, $=%{x}<br>Alcohol consumption, litres per capita=%{y}<br>population=%{marker.size}<extra></extra>",
                      "hovertext": [
                        "Vanuatu",
                        "Australia",
                        "Papua New Guinea",
                        "Fiji",
                        "New Zealand",
                        "Solomon Islands"
                      ],
                      "ids": [
                        "Vanuatu",
                        "Australia",
                        "Papua New Guinea",
                        "Fiji",
                        "New Zealand",
                        "Solomon Islands"
                      ],
                      "legendgroup": "Oceania",
                      "marker": {
                        "color": "#19d3f3",
                        "size": [
                          236216,
                          22154687,
                          7310512,
                          859816,
                          4370060,
                          527861
                        ],
                        "sizemode": "area",
                        "sizeref": 571059.1156,
                        "symbol": "circle"
                      },
                      "mode": "markers",
                      "name": "Oceania",
                      "orientation": "v",
                      "showlegend": true,
                      "type": "scatter",
                      "x": [
                        3088.97887864833,
                        44991.7837148741,
                        3406.64403989259,
                        10547.9303978854,
                        37657.1432046716,
                        2439.86232530792
                      ],
                      "xaxis": "x",
                      "y": [
                        1.7,
                        12.39,
                        1.67,
                        3,
                        11.32,
                        1.6
                      ],
                      "yaxis": "y"
                    }
                  ],
                  "name": "2010"
                },
                {
                  "data": [
                    {
                      "hovertemplate": "<b>%{hovertext}</b><br><br>continent=North America<br>year=2015<br>GDP per capita, $=%{x}<br>Alcohol consumption, litres per capita=%{y}<br>population=%{marker.size}<extra></extra>",
                      "hovertext": [
                        "Nicaragua",
                        "Panama",
                        "United States",
                        "Trinidad and Tobago",
                        "Canada",
                        "Haiti",
                        "Honduras",
                        "Jamaica",
                        "Guatemala",
                        "Dominican Republic",
                        "El Salvador",
                        "Costa Rica",
                        "Bahamas",
                        "Mexico",
                        "Belize"
                      ],
                      "ids": [
                        "Nicaragua",
                        "Panama",
                        "United States",
                        "Trinidad and Tobago",
                        "Canada",
                        "Haiti",
                        "Honduras",
                        "Jamaica",
                        "Guatemala",
                        "Dominican Republic",
                        "El Salvador",
                        "Costa Rica",
                        "Bahamas",
                        "Mexico",
                        "Belize"
                      ],
                      "legendgroup": "North America",
                      "marker": {
                        "color": "#636efa",
                        "size": [
                          6223234,
                          3968490,
                          320878312,
                          1370332,
                          36026668,
                          10695540,
                          9112904,
                          2891024,
                          16252425,
                          10281675,
                          6325121,
                          4847805,
                          374200,
                          121858251,
                          360926
                        ],
                        "sizemode": "area",
                        "sizeref": 571059.1156,
                        "symbol": "circle"
                      },
                      "mode": "markers",
                      "name": "North America",
                      "orientation": "v",
                      "showlegend": true,
                      "type": "scatter",
                      "x": [
                        5630.40573760444,
                        28431.0824221868,
                        58540.2960929977,
                        29053.3347831462,
                        47522.1406673151,
                        2941.81608076667,
                        5283.41691357908,
                        9473.10619523862,
                        8125.65553391647,
                        15328.3595089817,
                        8143.22444194766,
                        19141.6830724515,
                        35400.6494660106,
                        19268.9143963283,
                        7358.58229184617
                      ],
                      "xaxis": "x",
                      "y": [
                        5.03,
                        7.71,
                        9.82,
                        6.88,
                        8.88,
                        2.69,
                        3.49,
                        4.19,
                        2.55,
                        6.61,
                        3.59,
                        4.76,
                        4.55,
                        4.92,
                        6.74
                      ],
                      "yaxis": "y"
                    },
                    {
                      "hovertemplate": "<b>%{hovertext}</b><br><br>continent=Africa<br>year=2015<br>GDP per capita, $=%{x}<br>Alcohol consumption, litres per capita=%{y}<br>population=%{marker.size}<extra></extra>",
                      "hovertext": [
                        "Niger",
                        "Nigeria",
                        "Sudan",
                        "Uganda",
                        "South Africa",
                        "Tunisia",
                        "Zambia",
                        "Senegal",
                        "Rwanda",
                        "Tanzania",
                        "Sierra Leone",
                        "Somalia",
                        "Togo",
                        "Guinea-Bissau",
                        "Cameroon",
                        "Burundi",
                        "Burkina Faso",
                        "Botswana",
                        "Guinea",
                        "Central African Republic",
                        "Djibouti",
                        "Democratic Republic of Congo",
                        "Egypt",
                        "Equatorial Guinea",
                        "Cote d'Ivoire",
                        "Eswatini",
                        "Kenya",
                        "Ethiopia",
                        "Congo",
                        "Gabon",
                        "Gambia",
                        "Ghana",
                        "Chad",
                        "Mozambique",
                        "Angola",
                        "Morocco",
                        "Madagascar",
                        "Malawi",
                        "Zimbabwe",
                        "Mali",
                        "Mauritania",
                        "Libya",
                        "Liberia",
                        "Namibia",
                        "Benin",
                        "Lesotho",
                        "Algeria"
                      ],
                      "ids": [
                        "Niger",
                        "Nigeria",
                        "Sudan",
                        "Uganda",
                        "South Africa",
                        "Tunisia",
                        "Zambia",
                        "Senegal",
                        "Rwanda",
                        "Tanzania",
                        "Sierra Leone",
                        "Somalia",
                        "Togo",
                        "Guinea-Bissau",
                        "Cameroon",
                        "Burundi",
                        "Burkina Faso",
                        "Botswana",
                        "Guinea",
                        "Central African Republic",
                        "Djibouti",
                        "Democratic Republic of Congo",
                        "Egypt",
                        "Equatorial Guinea",
                        "Cote d'Ivoire",
                        "Eswatini",
                        "Kenya",
                        "Ethiopia",
                        "Congo",
                        "Gabon",
                        "Gambia",
                        "Ghana",
                        "Chad",
                        "Mozambique",
                        "Angola",
                        "Morocco",
                        "Madagascar",
                        "Malawi",
                        "Zimbabwe",
                        "Mali",
                        "Mauritania",
                        "Libya",
                        "Liberia",
                        "Namibia",
                        "Benin",
                        "Lesotho",
                        "Algeria"
                      ],
                      "legendgroup": "Africa",
                      "marker": {
                        "color": "#EF553B",
                        "size": [
                          20001663,
                          181137454,
                          38902948,
                          38225447,
                          55386369,
                          11179951,
                          15879370,
                          14578450,
                          11369066,
                          51482638,
                          7171909,
                          13797204,
                          7323162,
                          1737207,
                          23298376,
                          10160034,
                          18110616,
                          2120716,
                          11432096,
                          4493171,
                          913998,
                          76244532,
                          92442549,
                          1168575,
                          23226148,
                          1104038,
                          47878339,
                          100835453,
                          4856093,
                          1947690,
                          2085860,
                          27849203,
                          14110971,
                          27042001,
                          27884380,
                          34663608,
                          24234080,
                          16745305,
                          13814642,
                          17438772,
                          4046304,
                          6418315,
                          4472229,
                          2314901,
                          10575962,
                          2059011,
                          39728020
                        ],
                        "sizemode": "area",
                        "sizeref": 571059.1156,
                        "symbol": "circle"
                      },
                      "mode": "markers",
                      "name": "Africa",
                      "orientation": "v",
                      "showlegend": true,
                      "type": "scatter",
                      "x": [
                        1132.33120491778,
                        5514.77027265177,
                        4187.86272224264,
                        2054.09044873783,
                        12840.0354033768,
                        10510.3303060416,
                        3443.55325404862,
                        2966.45534736483,
                        1889.15810576486,
                        2354.13898543629,
                        1551.82309051333,
                        879.276531935612,
                        1920.46930701736,
                        1800.06338150248,
                        3458.69271277942,
                        825.20566069269,
                        1925.33207544524,
                        16714.3978216526,
                        2087.93502637033,
                        852.749236638592,
                        4488.80265798112,
                        1065.24257721582,
                        10570.4452319757,
                        28313.4331590396,
                        4417.15021465621,
                        8304.65845837116,
                        3824.75930317654,
                        1779.0841114169,
                        5227.93427667066,
                        15510.0389513624,
                        2058.65814621739,
                        4662.30319092518,
                        1857.10786365964,
                        1262.61312778202,
                        8036.41089824639,
                        7126.67058575575,
                        1546.76704618335,
                        1432.08525892858,
                        3198.982128793,
                        2139.73629713506,
                        5127.43228246614,
                        11022.4292135086,
                        1580.47922766632,
                        10662.8299304666,
                        2945.97022066349,
                        2701.42185521194,
                        11696.9652290603
                      ],
                      "xaxis": "x",
                      "y": [
                        0.55,
                        10.81,
                        0.52,
                        15.14,
                        9.61,
                        1.99,
                        6.89,
                        0.73,
                        9.26,
                        11.05,
                        5.63,
                        0.013,
                        2.37,
                        5.05,
                        6.17,
                        7.03,
                        11.83,
                        6.86,
                        1.07,
                        2.43,
                        0.49,
                        2.05,
                        0.4,
                        9.08,
                        2.61,
                        9.84,
                        2.77,
                        2.19,
                        7.9,
                        9.57,
                        3.67,
                        3.12,
                        1.45,
                        2.19,
                        7.96,
                        0.7,
                        1.88,
                        3.62,
                        4.92,
                        1.25,
                        0.033,
                        0.029,
                        5.7,
                        5.23,
                        2.97,
                        4.8,
                        0.93
                      ],
                      "yaxis": "y"
                    },
                    {
                      "hovertemplate": "<b>%{hovertext}</b><br><br>continent=Europe<br>year=2015<br>GDP per capita, $=%{x}<br>Alcohol consumption, litres per capita=%{y}<br>population=%{marker.size}<extra></extra>",
                      "hovertext": [
                        "Spain",
                        "Portugal",
                        "Poland",
                        "United Kingdom",
                        "Serbia",
                        "Slovakia",
                        "Ukraine",
                        "Russia",
                        "Norway",
                        "Switzerland",
                        "Slovenia",
                        "North Macedonia",
                        "Romania",
                        "Sweden",
                        "Hungary",
                        "Iceland",
                        "Bulgaria",
                        "Ireland",
                        "Italy",
                        "Bosnia and Herzegovina",
                        "Greece",
                        "Czechia",
                        "Croatia",
                        "Estonia",
                        "Finland",
                        "France",
                        "Germany",
                        "Denmark",
                        "Moldova",
                        "Lithuania",
                        "Luxembourg",
                        "Montenegro",
                        "Austria",
                        "Belarus",
                        "Belgium",
                        "Albania",
                        "Latvia",
                        "Netherlands"
                      ],
                      "ids": [
                        "Spain",
                        "Portugal",
                        "Poland",
                        "United Kingdom",
                        "Serbia",
                        "Slovakia",
                        "Ukraine",
                        "Russia",
                        "Norway",
                        "Switzerland",
                        "Slovenia",
                        "North Macedonia",
                        "Romania",
                        "Sweden",
                        "Hungary",
                        "Iceland",
                        "Bulgaria",
                        "Ireland",
                        "Italy",
                        "Bosnia and Herzegovina",
                        "Greece",
                        "Czechia",
                        "Croatia",
                        "Estonia",
                        "Finland",
                        "France",
                        "Germany",
                        "Denmark",
                        "Moldova",
                        "Lithuania",
                        "Luxembourg",
                        "Montenegro",
                        "Austria",
                        "Belarus",
                        "Belgium",
                        "Albania",
                        "Latvia",
                        "Netherlands"
                      ],
                      "legendgroup": "Europe",
                      "marker": {
                        "color": "#00cc96",
                        "size": [
                          46671919,
                          10368346,
                          38034076,
                          65860149,
                          8876777,
                          5435614,
                          44921636,
                          144985059,
                          5199827,
                          8296775,
                          2071199,
                          2079335,
                          19925182,
                          9764949,
                          9777925,
                          330237,
                          7199739,
                          4652420,
                          60578489,
                          3429362,
                          10659737,
                          10601390,
                          4232874,
                          1315330,
                          5481128,
                          64453194,
                          81787411,
                          5688695,
                          4070705,
                          2931872,
                          566741,
                          626957,
                          8678667,
                          9439424,
                          11287931,
                          2890524,
                          1997675,
                          16938492
                        ],
                        "sizemode": "area",
                        "sizeref": 571059.1156,
                        "symbol": "circle"
                      },
                      "mode": "markers",
                      "name": "Europe",
                      "orientation": "v",
                      "showlegend": true,
                      "type": "scatter",
                      "x": [
                        37377.068016704,
                        31118.7906703279,
                        27797.0584233597,
                        44840.7826443684,
                        15578.2028500791,
                        28676.2656111842,
                        11237.0744571217,
                        25488.0961196394,
                        62987.5358625454,
                        68025.9200383988,
                        33805.030045384,
                        15072.9475418471,
                        23878.1885373067,
                        50928.962975552,
                        27499.3244662857,
                        52142.9328074888,
                        19620.1539761978,
                        72251.1535363159,
                        40247.8290437942,
                        12630.6623426277,
                        28248.1259561464,
                        36168.4185553861,
                        24562.453617545,
                        31146.7545222679,
                        45072.5902146238,
                        43345.7864281559,
                        51083.9216615196,
                        52892.6460290247,
                        10360.8295911083,
                        30748.1963109529,
                        110446.086101647,
                        18263.6006034136,
                        52798.0994607541,
                        18307.5196678406,
                        49455.4413365318,
                        11878.4880933446,
                        26621.2722286526,
                        52974.1162200949
                      ],
                      "xaxis": "x",
                      "y": [
                        11.32,
                        11.88,
                        11.63,
                        11.21,
                        8.7,
                        11.53,
                        10.16,
                        12.47,
                        7.52,
                        11.58,
                        12.74,
                        5.93,
                        11.64,
                        9.13,
                        11.6,
                        8.74,
                        12.34,
                        12.47,
                        7.59,
                        6.92,
                        10.49,
                        14.25,
                        9.07,
                        12.39,
                        11.18,
                        12.64,
                        13.06,
                        10.36,
                        11.87,
                        15.38,
                        13.18,
                        10.92,
                        12.07,
                        12,
                        11.82,
                        6.74,
                        12.64,
                        9.55
                      ],
                      "yaxis": "y"
                    },
                    {
                      "hovertemplate": "<b>%{hovertext}</b><br><br>continent=Asia<br>year=2015<br>GDP per capita, $=%{x}<br>Alcohol consumption, litres per capita=%{y}<br>population=%{marker.size}<extra></extra>",
                      "hovertext": [
                        "South Korea",
                        "Turkmenistan",
                        "Philippines",
                        "Sri Lanka",
                        "Qatar",
                        "Vietnam",
                        "Saudi Arabia",
                        "Thailand",
                        "Timor",
                        "United Arab Emirates",
                        "Pakistan",
                        "Tajikistan",
                        "Uzbekistan",
                        "Oman",
                        "Turkey",
                        "Kuwait",
                        "Cambodia",
                        "India",
                        "Indonesia",
                        "Iran",
                        "Iraq",
                        "Brunei",
                        "Japan",
                        "Jordan",
                        "Kazakhstan",
                        "Cyprus",
                        "China",
                        "Georgia",
                        "Bhutan",
                        "Israel",
                        "Azerbaijan",
                        "Malaysia",
                        "Mongolia",
                        "Armenia",
                        "Bangladesh",
                        "Myanmar",
                        "Nepal",
                        "Lebanon",
                        "Laos",
                        "Kyrgyzstan",
                        "Afghanistan"
                      ],
                      "ids": [
                        "South Korea",
                        "Turkmenistan",
                        "Philippines",
                        "Sri Lanka",
                        "Qatar",
                        "Vietnam",
                        "Saudi Arabia",
                        "Thailand",
                        "Timor",
                        "United Arab Emirates",
                        "Pakistan",
                        "Tajikistan",
                        "Uzbekistan",
                        "Oman",
                        "Turkey",
                        "Kuwait",
                        "Cambodia",
                        "India",
                        "Indonesia",
                        "Iran",
                        "Iraq",
                        "Brunei",
                        "Japan",
                        "Jordan",
                        "Kazakhstan",
                        "Cyprus",
                        "China",
                        "Georgia",
                        "Bhutan",
                        "Israel",
                        "Azerbaijan",
                        "Malaysia",
                        "Mongolia",
                        "Armenia",
                        "Bangladesh",
                        "Myanmar",
                        "Nepal",
                        "Lebanon",
                        "Laos",
                        "Kyrgyzstan",
                        "Afghanistan"
                      ],
                      "legendgroup": "Asia",
                      "marker": {
                        "color": "#ab63fa",
                        "size": [
                          50823087,
                          5565283,
                          102113206,
                          20908024,
                          2565708,
                          92677082,
                          31717676,
                          68714519,
                          1196294,
                          9262896,
                          199426953,
                          8454019,
                          30929556,
                          4267341,
                          78529413,
                          3835588,
                          15521435,
                          1310152392,
                          258383257,
                          78492208,
                          35572269,
                          414914,
                          127985139,
                          9266573,
                          17572010,
                          1160987,
                          1406847868,
                          4024180,
                          727885,
                          7978496,
                          9622741,
                          30270965,
                          2998433,
                          2925559,
                          156256287,
                          52680724,
                          27015033,
                          6532681,
                          6741160,
                          5959126,
                          34413603
                        ],
                        "sizemode": "area",
                        "sizeref": 571059.1156,
                        "symbol": "circle"
                      },
                      "mode": "markers",
                      "name": "Asia",
                      "orientation": "v",
                      "showlegend": true,
                      "type": "scatter",
                      "x": [
                        38828.7409976118,
                        12993.5318096291,
                        7300.13621040525,
                        11890.5165276211,
                        95965.2512366176,
                        6438.25985369358,
                        48921.2152517247,
                        16285.3865749723,
                        3297.88916309166,
                        65218.8204340815,
                        4278.34666284049,
                        2984.49491330069,
                        6086.71574219326,
                        30146.9560518823,
                        25958.6407622392,
                        54834.3916726177,
                        3546.33938731031,
                        5464.39405731664,
                        10149.6038700252,
                        12698.1091975659,
                        10122.2007755733,
                        63147.4834900843,
                        39777.5310167672,
                        10145.8366996846,
                        24290.4176339265,
                        34472.2985065115,
                        12691.8215526921,
                        12605.1400698178,
                        10086.0727954667,
                        37554.5986562961,
                        14853.9105525729,
                        24787.8237457166,
                        11022.9785342491,
                        11321.3325403745,
                        3700.11082057504,
                        4268.5006767951,
                        3331.87176945857,
                        16299.2077629854,
                        6543.67068865935,
                        4805.14109238388,
                        2068.26590413364
                      ],
                      "xaxis": "x",
                      "y": [
                        10.04,
                        5.3,
                        6.7,
                        4.1,
                        1.62,
                        7.86,
                        0.2,
                        8.36,
                        2.01,
                        3.79,
                        0.29,
                        3.11,
                        2.59,
                        0.77,
                        2.12,
                        0.003,
                        6.37,
                        5.54,
                        0.6,
                        1.01,
                        0.37,
                        0.46,
                        7.87,
                        0.69,
                        4.66,
                        10.76,
                        7.15,
                        9.61,
                        0.42,
                        3.86,
                        4.58,
                        0.85,
                        10.97,
                        5.84,
                        0.021,
                        4.41,
                        2.05,
                        1.65,
                        10.05,
                        7.59,
                        0.21
                      ],
                      "yaxis": "y"
                    },
                    {
                      "hovertemplate": "<b>%{hovertext}</b><br><br>continent=South America<br>year=2015<br>GDP per capita, $=%{x}<br>Alcohol consumption, litres per capita=%{y}<br>population=%{marker.size}<extra></extra>",
                      "hovertext": [
                        "Suriname",
                        "Paraguay",
                        "Uruguay",
                        "Peru",
                        "Guyana",
                        "Brazil",
                        "Bolivia",
                        "Ecuador",
                        "Colombia",
                        "Chile",
                        "Argentina"
                      ],
                      "ids": [
                        "Suriname",
                        "Paraguay",
                        "Uruguay",
                        "Peru",
                        "Guyana",
                        "Brazil",
                        "Bolivia",
                        "Ecuador",
                        "Colombia",
                        "Chile",
                        "Argentina"
                      ],
                      "legendgroup": "South America",
                      "marker": {
                        "color": "#FFA15A",
                        "size": [
                          559136,
                          6688746,
                          3412013,
                          30470739,
                          767433,
                          204471759,
                          10869732,
                          16212022,
                          47520667,
                          17969356,
                          43075416
                        ],
                        "sizemode": "area",
                        "sizeref": 571059.1156,
                        "symbol": "circle"
                      },
                      "mode": "markers",
                      "name": "South America",
                      "orientation": "v",
                      "showlegend": true,
                      "type": "scatter",
                      "x": [
                        19317.0545070113,
                        11828.1401290455,
                        22425.8300844671,
                        12110.2668971421,
                        11261.8137066367,
                        15064.1760689478,
                        7984.41198272424,
                        11896.3751614302,
                        14095.748356648,
                        24440.4152640857,
                        23933.8866120953
                      ],
                      "xaxis": "x",
                      "y": [
                        5.81,
                        7.26,
                        6.99,
                        6.63,
                        7.35,
                        7.86,
                        4.64,
                        4.98,
                        5.78,
                        9.26,
                        9.55
                      ],
                      "yaxis": "y"
                    },
                    {
                      "hovertemplate": "<b>%{hovertext}</b><br><br>continent=Oceania<br>year=2015<br>GDP per capita, $=%{x}<br>Alcohol consumption, litres per capita=%{y}<br>population=%{marker.size}<extra></extra>",
                      "hovertext": [
                        "Vanuatu",
                        "Solomon Islands",
                        "Papua New Guinea",
                        "New Zealand",
                        "Fiji",
                        "Australia"
                      ],
                      "ids": [
                        "Vanuatu",
                        "Solomon Islands",
                        "Papua New Guinea",
                        "New Zealand",
                        "Fiji",
                        "Australia"
                      ],
                      "legendgroup": "Oceania",
                      "marker": {
                        "color": "#19d3f3",
                        "size": [
                          271128,
                          603133,
                          8107772,
                          4614527,
                          868632,
                          23932499
                        ],
                        "sizemode": "area",
                        "sizeref": 571059.1156,
                        "symbol": "circle"
                      },
                      "mode": "markers",
                      "name": "Oceania",
                      "orientation": "v",
                      "showlegend": true,
                      "type": "scatter",
                      "x": [
                        2915.70045998521,
                        2518.64747830047,
                        4083.75243695251,
                        41086.1153021682,
                        12569.1431129142,
                        47636.319641906
                      ],
                      "xaxis": "x",
                      "y": [
                        2.14,
                        1.55,
                        1.39,
                        10.44,
                        3.33,
                        10.83
                      ],
                      "yaxis": "y"
                    }
                  ],
                  "name": "2015"
                },
                {
                  "data": [
                    {
                      "hovertemplate": "<b>%{hovertext}</b><br><br>continent=North America<br>year=2018<br>GDP per capita, $=%{x}<br>Alcohol consumption, litres per capita=%{y}<br>population=%{marker.size}<extra></extra>",
                      "hovertext": [
                        "Costa Rica",
                        "United States",
                        "Belize",
                        "Trinidad and Tobago",
                        "Canada",
                        "Bahamas",
                        "Jamaica",
                        "Panama",
                        "Nicaragua",
                        "Mexico",
                        "El Salvador",
                        "Dominican Republic",
                        "Honduras",
                        "Haiti",
                        "Guatemala"
                      ],
                      "ids": [
                        "Costa Rica",
                        "United States",
                        "Belize",
                        "Trinidad and Tobago",
                        "Canada",
                        "Bahamas",
                        "Jamaica",
                        "Panama",
                        "Nicaragua",
                        "Mexico",
                        "El Salvador",
                        "Dominican Republic",
                        "Honduras",
                        "Haiti",
                        "Guatemala"
                      ],
                      "legendgroup": "North America",
                      "marker": {
                        "color": "#636efa",
                        "size": [
                          4999443,
                          327096263,
                          383071,
                          1389841,
                          37074558,
                          385635,
                          2934853,
                          4176868,
                          6465502,
                          126190782,
                          6420740,
                          10627147,
                          9587523,
                          11123183,
                          17247855
                        ],
                        "sizemode": "area",
                        "sizeref": 571059.1156,
                        "symbol": "circle"
                      },
                      "mode": "markers",
                      "name": "North America",
                      "orientation": "v",
                      "showlegend": true,
                      "type": "scatter",
                      "x": [
                        20559.8604252658,
                        61585.7560382102,
                        7261.87028738671,
                        26250.3722429394,
                        48796.8137814007,
                        37019.9950489508,
                        9734.86228780542,
                        31012.9461549459,
                        5729.68822390273,
                        19928.3956618582,
                        8614.01795915499,
                        17711.7955337583,
                        5680.36288396582,
                        2992.31041114318,
                        8462.17210684372
                      ],
                      "xaxis": "x",
                      "y": [
                        4.87,
                        9.87,
                        6.22,
                        6.72,
                        8.94,
                        4.78,
                        4.22,
                        7.98,
                        5.18,
                        5,
                        3.89,
                        6.68,
                        3.76,
                        2.73,
                        2.45
                      ],
                      "yaxis": "y"
                    },
                    {
                      "hovertemplate": "<b>%{hovertext}</b><br><br>continent=Africa<br>year=2018<br>GDP per capita, $=%{x}<br>Alcohol consumption, litres per capita=%{y}<br>population=%{marker.size}<extra></extra>",
                      "hovertext": [
                        "Zambia",
                        "Congo",
                        "Angola",
                        "Algeria",
                        "Tanzania",
                        "Cote d'Ivoire",
                        "Benin",
                        "Uganda",
                        "Democratic Republic of Congo",
                        "Botswana",
                        "Burkina Faso",
                        "Togo",
                        "Chad",
                        "Central African Republic",
                        "Cameroon",
                        "Tunisia",
                        "Burundi",
                        "Libya",
                        "Liberia",
                        "Lesotho",
                        "Kenya",
                        "Madagascar",
                        "Namibia",
                        "Niger",
                        "Mozambique",
                        "Morocco",
                        "Nigeria",
                        "Mauritania",
                        "Mali",
                        "Malawi",
                        "Gambia",
                        "Gabon",
                        "South Africa",
                        "Ethiopia",
                        "Eswatini",
                        "Equatorial Guinea",
                        "Sudan",
                        "Egypt",
                        "Djibouti",
                        "Somalia",
                        "Rwanda",
                        "Senegal",
                        "Guinea-Bissau",
                        "Sierra Leone",
                        "Guinea",
                        "Ghana",
                        "Zimbabwe"
                      ],
                      "ids": [
                        "Zambia",
                        "Congo",
                        "Angola",
                        "Algeria",
                        "Tanzania",
                        "Cote d'Ivoire",
                        "Benin",
                        "Uganda",
                        "Democratic Republic of Congo",
                        "Botswana",
                        "Burkina Faso",
                        "Togo",
                        "Chad",
                        "Central African Republic",
                        "Cameroon",
                        "Tunisia",
                        "Burundi",
                        "Libya",
                        "Liberia",
                        "Lesotho",
                        "Kenya",
                        "Madagascar",
                        "Namibia",
                        "Niger",
                        "Mozambique",
                        "Morocco",
                        "Nigeria",
                        "Mauritania",
                        "Mali",
                        "Malawi",
                        "Gambia",
                        "Gabon",
                        "South Africa",
                        "Ethiopia",
                        "Eswatini",
                        "Equatorial Guinea",
                        "Sudan",
                        "Egypt",
                        "Djibouti",
                        "Somalia",
                        "Rwanda",
                        "Senegal",
                        "Guinea-Bissau",
                        "Sierra Leone",
                        "Guinea",
                        "Ghana",
                        "Zimbabwe"
                      ],
                      "legendgroup": "Africa",
                      "marker": {
                        "color": "#EF553B",
                        "size": [
                          17351714,
                          5244363,
                          30809787,
                          42228415,
                          56313444,
                          25069226,
                          11485035,
                          42729032,
                          84068092,
                          2254067,
                          19751466,
                          7889095,
                          15477727,
                          4666375,
                          25216261,
                          11565203,
                          11175379,
                          6678565,
                          4818976,
                          2108327,
                          51392570,
                          26262313,
                          2448300,
                          22442831,
                          29496009,
                          36029089,
                          195874685,
                          4403312,
                          19077755,
                          18143215,
                          2280092,
                          2119275,
                          57792520,
                          109224410,
                          1136274,
                          1308966,
                          41801532,
                          98423602,
                          958923,
                          15008225,
                          12301969,
                          15854324,
                          1874304,
                          7650149,
                          12414292,
                          29767108,
                          14438812
                        ],
                        "sizemode": "area",
                        "sizeref": 571059.1156,
                        "symbol": "circle"
                      },
                      "mode": "markers",
                      "name": "Africa",
                      "orientation": "v",
                      "showlegend": true,
                      "type": "scatter",
                      "x": [
                        3521.5420629895,
                        3933.425550952,
                        6933.49993413352,
                        11642.1983450506,
                        2590.20113826159,
                        5033.47882607719,
                        3160.7806702321,
                        2121.96781993514,
                        1085.89368770943,
                        17634.6561910867,
                        2120.33026783506,
                        2061.33417572853,
                        1576.32111465904,
                        933.10995060419,
                        3603.54827506808,
                        10763.7297838206,
                        761.524125241416,
                        15017.9935741811,
                        1497.00478720289,
                        2614.65884916972,
                        4203.83827267811,
                        1592.05355843859,
                        10092.258820242,
                        1200.97246385835,
                        1289.73594800556,
                        7446.93622037578,
                        5155.07599367409,
                        5042.43119844404,
                        2283.70241285673,
                        1471.03724879602,
                        2158.07755816639,
                        14744.4343267491,
                        12627.9285840445,
                        2103.51585836696,
                        8520.59238619335,
                        20386.0138677131,
                        4344.52988671066,
                        11366.3355206681,
                        5214.07218666426,
                        866.765302072035,
                        2088.74922433298,
                        3309.48617330672,
                        1901.93173857674,
                        1663.29348036377,
                        2499.70726640711,
                        5177.88398862782,
                        3341.66541766316
                      ],
                      "xaxis": "x",
                      "y": [
                        6.54,
                        9.27,
                        6.94,
                        0.95,
                        11.27,
                        2.71,
                        2.81,
                        15.09,
                        2,
                        6.59,
                        12.03,
                        2.46,
                        1.37,
                        2.38,
                        5.65,
                        2.12,
                        7.19,
                        0.019,
                        6.12,
                        4.59,
                        2.78,
                        1.97,
                        5.43,
                        0.67,
                        2.3,
                        0.69,
                        10.84,
                        0.036,
                        1.28,
                        3.63,
                        3.55,
                        8.74,
                        9.52,
                        2.36,
                        10.04,
                        7.23,
                        0.51,
                        0.36,
                        0.43,
                        0.009,
                        8.95,
                        0.76,
                        5.38,
                        5.7,
                        1.11,
                        2.75,
                        4.67
                      ],
                      "yaxis": "y"
                    },
                    {
                      "hovertemplate": "<b>%{hovertext}</b><br><br>continent=Europe<br>year=2018<br>GDP per capita, $=%{x}<br>Alcohol consumption, litres per capita=%{y}<br>population=%{marker.size}<extra></extra>",
                      "hovertext": [
                        "Czechia",
                        "Albania",
                        "Croatia",
                        "Belarus",
                        "Belgium",
                        "Bosnia and Herzegovina",
                        "Ukraine",
                        "United Kingdom",
                        "Bulgaria",
                        "Austria",
                        "France",
                        "Denmark",
                        "Latvia",
                        "Poland",
                        "Portugal",
                        "Italy",
                        "Lithuania",
                        "Netherlands",
                        "Montenegro",
                        "North Macedonia",
                        "Moldova",
                        "Norway",
                        "Luxembourg",
                        "Switzerland",
                        "Romania",
                        "Finland",
                        "Spain",
                        "Estonia",
                        "Sweden",
                        "Ireland",
                        "Germany",
                        "Russia",
                        "Iceland",
                        "Hungary",
                        "Serbia",
                        "Slovakia",
                        "Greece",
                        "Slovenia"
                      ],
                      "ids": [
                        "Czechia",
                        "Albania",
                        "Croatia",
                        "Belarus",
                        "Belgium",
                        "Bosnia and Herzegovina",
                        "Ukraine",
                        "United Kingdom",
                        "Bulgaria",
                        "Austria",
                        "France",
                        "Denmark",
                        "Latvia",
                        "Poland",
                        "Portugal",
                        "Italy",
                        "Lithuania",
                        "Netherlands",
                        "Montenegro",
                        "North Macedonia",
                        "Moldova",
                        "Norway",
                        "Luxembourg",
                        "Switzerland",
                        "Romania",
                        "Finland",
                        "Spain",
                        "Estonia",
                        "Sweden",
                        "Ireland",
                        "Germany",
                        "Russia",
                        "Iceland",
                        "Hungary",
                        "Serbia",
                        "Slovakia",
                        "Greece",
                        "Slovenia"
                      ],
                      "legendgroup": "Europe",
                      "marker": {
                        "color": "#00cc96",
                        "size": [
                          10665679,
                          2882735,
                          4156407,
                          9452615,
                          11482180,
                          3323929,
                          44246158,
                          67141678,
                          7051610,
                          8891383,
                          64990512,
                          5752131,
                          1928461,
                          37921585,
                          10256192,
                          60627291,
                          2801270,
                          17059560,
                          627803,
                          2082956,
                          4051950,
                          5337960,
                          604244,
                          8525614,
                          19506110,
                          5522585,
                          46692863,
                          1322913,
                          9971630,
                          4818694,
                          83124413,
                          145734034,
                          336712,
                          9707502,
                          8802741,
                          5453017,
                          10522244,
                          2077835
                        ],
                        "sizemode": "area",
                        "sizeref": 571059.1156,
                        "symbol": "circle"
                      },
                      "mode": "markers",
                      "name": "Europe",
                      "orientation": "v",
                      "showlegend": true,
                      "type": "scatter",
                      "x": [
                        39932.992193117,
                        13323.7533559132,
                        27799.8433225132,
                        18885.2354999668,
                        51110.9584679336,
                        14386.7318547663,
                        12338.0024454764,
                        46037.9005384222,
                        22208.4522754771,
                        55297.6182880367,
                        45251.9054105957,
                        56281.2888680368,
                        30036.0865499334,
                        31674.1316243417,
                        34040.7255617749,
                        42052.5563822519,
                        35427.4618636641,
                        56060.9136269404,
                        20686.5759142606,
                        16093.3104230501,
                        12363.1468378401,
                        64341.2589026158,
                        113589.670473448,
                        70663.4875973954,
                        28523.4731832065,
                        48130.2923921114,
                        40312.5475864011,
                        35208.0239637019,
                        52349.2924275599,
                        84303.3408922937,
                        53463.4014817389,
                        26656.4095416865,
                        56722.1193741156,
                        31095.557503677,
                        17452.7958990327,
                        31132.5729674338,
                        29150.6944922443,
                        37968.3520620285
                      ],
                      "xaxis": "x",
                      "y": [
                        14.45,
                        7.17,
                        9.23,
                        11.45,
                        11.08,
                        7.15,
                        8.32,
                        11.45,
                        12.65,
                        11.96,
                        12.33,
                        10.26,
                        12.77,
                        11.71,
                        12.03,
                        7.84,
                        13.22,
                        9.61,
                        11.47,
                        6.16,
                        11.43,
                        7.41,
                        12.94,
                        11.53,
                        11.74,
                        10.78,
                        12.72,
                        9.23,
                        8.93,
                        12.88,
                        12.91,
                        11.19,
                        9.12,
                        11.35,
                        8.75,
                        11.14,
                        10.18,
                        11.9
                      ],
                      "yaxis": "y"
                    },
                    {
                      "hovertemplate": "<b>%{hovertext}</b><br><br>continent=Asia<br>year=2018<br>GDP per capita, $=%{x}<br>Alcohol consumption, litres per capita=%{y}<br>population=%{marker.size}<extra></extra>",
                      "hovertext": [
                        "Timor",
                        "Tajikistan",
                        "China",
                        "Afghanistan",
                        "Cyprus",
                        "Vietnam",
                        "Thailand",
                        "Armenia",
                        "Brunei",
                        "Bhutan",
                        "United Arab Emirates",
                        "Turkmenistan",
                        "Azerbaijan",
                        "Cambodia",
                        "Turkey",
                        "Bangladesh",
                        "Uzbekistan",
                        "Lebanon",
                        "Laos",
                        "Kyrgyzstan",
                        "Philippines",
                        "Kuwait",
                        "Kazakhstan",
                        "Jordan",
                        "Japan",
                        "Qatar",
                        "Israel",
                        "Nepal",
                        "Myanmar",
                        "Mongolia",
                        "Oman",
                        "Malaysia",
                        "Pakistan",
                        "Iraq",
                        "South Korea",
                        "Sri Lanka",
                        "Iran",
                        "Indonesia",
                        "India",
                        "Saudi Arabia",
                        "Georgia"
                      ],
                      "ids": [
                        "Timor",
                        "Tajikistan",
                        "China",
                        "Afghanistan",
                        "Cyprus",
                        "Vietnam",
                        "Thailand",
                        "Armenia",
                        "Brunei",
                        "Bhutan",
                        "United Arab Emirates",
                        "Turkmenistan",
                        "Azerbaijan",
                        "Cambodia",
                        "Turkey",
                        "Bangladesh",
                        "Uzbekistan",
                        "Lebanon",
                        "Laos",
                        "Kyrgyzstan",
                        "Philippines",
                        "Kuwait",
                        "Kazakhstan",
                        "Jordan",
                        "Japan",
                        "Qatar",
                        "Israel",
                        "Nepal",
                        "Myanmar",
                        "Mongolia",
                        "Oman",
                        "Malaysia",
                        "Pakistan",
                        "Iraq",
                        "South Korea",
                        "Sri Lanka",
                        "Iran",
                        "Indonesia",
                        "India",
                        "Saudi Arabia",
                        "Georgia"
                      ],
                      "legendgroup": "Asia",
                      "marker": {
                        "color": "#ab63fa",
                        "size": [
                          1267975,
                          9100847,
                          1427647789,
                          37171922,
                          1189262,
                          95545959,
                          69428454,
                          2951741,
                          428960,
                          754396,
                          9630966,
                          5850902,
                          9949537,
                          16249795,
                          82340090,
                          161376713,
                          32476232,
                          6859408,
                          7061498,
                          6304025,
                          106651394,
                          4137314,
                          18319616,
                          9965322,
                          127202190,
                          2781682,
                          8381507,
                          28095712,
                          53708318,
                          3170214,
                          4829476,
                          31528033,
                          212228288,
                          38433604,
                          51171700,
                          21228760,
                          81800204,
                          267670549,
                          1352642283,
                          33702757,
                          4002946
                        ],
                        "sizemode": "area",
                        "sizeref": 571059.1156,
                        "symbol": "circle"
                      },
                      "mode": "markers",
                      "name": "Asia",
                      "orientation": "v",
                      "showlegend": true,
                      "type": "scatter",
                      "x": [
                        3051.66811727864,
                        3415.32233593608,
                        15242.9858575834,
                        2033.80438893717,
                        39559.4879646749,
                        7585.94315504036,
                        18095.7365704368,
                        12715.1089539751,
                        60389.1846472589,
                        11348.4419521,
                        66968.2211775042,
                        14845.3446497287,
                        14209.6494059309,
                        4159.33819437034,
                        28312.6834243604,
                        4440.85547046826,
                        6755.48097366685,
                        15588.1528714896,
                        7592.82947474583,
                        5133.1519146081,
                        8516.13654897274,
                        50478.5875050676,
                        25544.3447563035,
                        10013.3976633388,
                        41182.3802046593,
                        90970.0609016321,
                        39418.3453068224,
                        3773.71591761441,
                        5029.1880858737,
                        11915.5567471637,
                        28350.9435298546,
                        27558.1369502408,
                        4739.47271266276,
                        10346.2129581855,
                        41948.3460057222,
                        12860.3208303539,
                        13471.8606376875,
                        11371.7255560847,
                        6518.84505546914,
                        47592.7671473292,
                        14253.4089858441
                      ],
                      "xaxis": "x",
                      "y": [
                        2.17,
                        3.28,
                        7.05,
                        0.21,
                        10.81,
                        8.66,
                        8.3,
                        5.55,
                        0.48,
                        0.43,
                        3.9,
                        4.93,
                        4.41,
                        6.64,
                        2.05,
                        0.019,
                        2.59,
                        1.71,
                        10.72,
                        6.26,
                        6.86,
                        0.003,
                        4.76,
                        0.69,
                        7.96,
                        1.59,
                        4.21,
                        2.05,
                        5.12,
                        8.19,
                        0.78,
                        0.85,
                        0.34,
                        0.39,
                        9.7,
                        4.1,
                        1.03,
                        0.57,
                        5.54,
                        0.19,
                        8.25
                      ],
                      "yaxis": "y"
                    },
                    {
                      "hovertemplate": "<b>%{hovertext}</b><br><br>continent=South America<br>year=2018<br>GDP per capita, $=%{x}<br>Alcohol consumption, litres per capita=%{y}<br>population=%{marker.size}<extra></extra>",
                      "hovertext": [
                        "Argentina",
                        "Colombia",
                        "Brazil",
                        "Bolivia",
                        "Chile",
                        "Uruguay",
                        "Paraguay",
                        "Peru",
                        "Suriname",
                        "Ecuador",
                        "Guyana"
                      ],
                      "ids": [
                        "Argentina",
                        "Colombia",
                        "Brazil",
                        "Bolivia",
                        "Chile",
                        "Uruguay",
                        "Paraguay",
                        "Peru",
                        "Suriname",
                        "Ecuador",
                        "Guyana"
                      ],
                      "legendgroup": "South America",
                      "marker": {
                        "color": "#FFA15A",
                        "size": [
                          44361150,
                          49661056,
                          209469320,
                          11353140,
                          18729166,
                          3449290,
                          6956069,
                          31989265,
                          575987,
                          17084359,
                          779007
                        ],
                        "sizemode": "area",
                        "sizeref": 571059.1156,
                        "symbol": "circle"
                      },
                      "mode": "markers",
                      "name": "South America",
                      "orientation": "v",
                      "showlegend": true,
                      "type": "scatter",
                      "x": [
                        22759.3985583341,
                        14314.8555765268,
                        14668.2561636292,
                        8655.53149780443,
                        25028.9099914542,
                        23035.0833880454,
                        12827.7080209236,
                        12781.4164435302,
                        19005.6543464151,
                        11561.747853143,
                        12477.5767111562
                      ],
                      "xaxis": "x",
                      "y": [
                        9.65,
                        5.74,
                        7.42,
                        4.43,
                        9.07,
                        6.92,
                        7.58,
                        6.38,
                        5.33,
                        4.2,
                        6.89
                      ],
                      "yaxis": "y"
                    },
                    {
                      "hovertemplate": "<b>%{hovertext}</b><br><br>continent=Oceania<br>year=2018<br>GDP per capita, $=%{x}<br>Alcohol consumption, litres per capita=%{y}<br>population=%{marker.size}<extra></extra>",
                      "hovertext": [
                        "Vanuatu",
                        "Australia",
                        "Papua New Guinea",
                        "New Zealand",
                        "Fiji",
                        "Solomon Islands"
                      ],
                      "ids": [
                        "Vanuatu",
                        "Australia",
                        "Papua New Guinea",
                        "New Zealand",
                        "Fiji",
                        "Solomon Islands"
                      ],
                      "legendgroup": "Oceania",
                      "marker": {
                        "color": "#19d3f3",
                        "size": [
                          292675,
                          24898153,
                          8606324,
                          4743131,
                          883490,
                          652856
                        ],
                        "sizemode": "area",
                        "sizeref": 571059.1156,
                        "symbol": "circle"
                      },
                      "mode": "markers",
                      "name": "Oceania",
                      "orientation": "v",
                      "showlegend": true,
                      "type": "scatter",
                      "x": [
                        3093.46154723291,
                        49151.6887104846,
                        4190.0948949613,
                        42866.1272276586,
                        13846.1588353285,
                        2697.64643055486
                      ],
                      "xaxis": "x",
                      "y": [
                        2.25,
                        10.51,
                        1.39,
                        10.63,
                        3.32,
                        1.83
                      ],
                      "yaxis": "y"
                    }
                  ],
                  "name": "2018"
                }
              ],
              "layout": {
                "legend": {
                  "itemsizing": "constant",
                  "title": {
                    "text": "continent"
                  },
                  "tracegroupgap": 0
                },
                "margin": {
                  "t": 60
                },
                "sliders": [
                  {
                    "active": 0,
                    "currentvalue": {
                      "prefix": "year="
                    },
                    "len": 0.9,
                    "pad": {
                      "b": 10,
                      "t": 60
                    },
                    "steps": [
                      {
                        "args": [
                          [
                            "2000"
                          ],
                          {
                            "frame": {
                              "duration": 0,
                              "redraw": false
                            },
                            "fromcurrent": true,
                            "mode": "immediate",
                            "transition": {
                              "duration": 0,
                              "easing": "linear"
                            }
                          }
                        ],
                        "label": "2000",
                        "method": "animate"
                      },
                      {
                        "args": [
                          [
                            "2005"
                          ],
                          {
                            "frame": {
                              "duration": 0,
                              "redraw": false
                            },
                            "fromcurrent": true,
                            "mode": "immediate",
                            "transition": {
                              "duration": 0,
                              "easing": "linear"
                            }
                          }
                        ],
                        "label": "2005",
                        "method": "animate"
                      },
                      {
                        "args": [
                          [
                            "2010"
                          ],
                          {
                            "frame": {
                              "duration": 0,
                              "redraw": false
                            },
                            "fromcurrent": true,
                            "mode": "immediate",
                            "transition": {
                              "duration": 0,
                              "easing": "linear"
                            }
                          }
                        ],
                        "label": "2010",
                        "method": "animate"
                      },
                      {
                        "args": [
                          [
                            "2015"
                          ],
                          {
                            "frame": {
                              "duration": 0,
                              "redraw": false
                            },
                            "fromcurrent": true,
                            "mode": "immediate",
                            "transition": {
                              "duration": 0,
                              "easing": "linear"
                            }
                          }
                        ],
                        "label": "2015",
                        "method": "animate"
                      },
                      {
                        "args": [
                          [
                            "2018"
                          ],
                          {
                            "frame": {
                              "duration": 0,
                              "redraw": false
                            },
                            "fromcurrent": true,
                            "mode": "immediate",
                            "transition": {
                              "duration": 0,
                              "easing": "linear"
                            }
                          }
                        ],
                        "label": "2018",
                        "method": "animate"
                      }
                    ],
                    "x": 0.1,
                    "xanchor": "left",
                    "y": 0,
                    "yanchor": "top"
                  }
                ],
                "template": {
                  "data": {
                    "bar": [
                      {
                        "error_x": {
                          "color": "#2a3f5f"
                        },
                        "error_y": {
                          "color": "#2a3f5f"
                        },
                        "marker": {
                          "line": {
                            "color": "#E5ECF6",
                            "width": 0.5
                          },
                          "pattern": {
                            "fillmode": "overlay",
                            "size": 10,
                            "solidity": 0.2
                          }
                        },
                        "type": "bar"
                      }
                    ],
                    "barpolar": [
                      {
                        "marker": {
                          "line": {
                            "color": "#E5ECF6",
                            "width": 0.5
                          },
                          "pattern": {
                            "fillmode": "overlay",
                            "size": 10,
                            "solidity": 0.2
                          }
                        },
                        "type": "barpolar"
                      }
                    ],
                    "carpet": [
                      {
                        "aaxis": {
                          "endlinecolor": "#2a3f5f",
                          "gridcolor": "white",
                          "linecolor": "white",
                          "minorgridcolor": "white",
                          "startlinecolor": "#2a3f5f"
                        },
                        "baxis": {
                          "endlinecolor": "#2a3f5f",
                          "gridcolor": "white",
                          "linecolor": "white",
                          "minorgridcolor": "white",
                          "startlinecolor": "#2a3f5f"
                        },
                        "type": "carpet"
                      }
                    ],
                    "choropleth": [
                      {
                        "colorbar": {
                          "outlinewidth": 0,
                          "ticks": ""
                        },
                        "type": "choropleth"
                      }
                    ],
                    "contour": [
                      {
                        "colorbar": {
                          "outlinewidth": 0,
                          "ticks": ""
                        },
                        "colorscale": [
                          [
                            0,
                            "#0d0887"
                          ],
                          [
                            0.1111111111111111,
                            "#46039f"
                          ],
                          [
                            0.2222222222222222,
                            "#7201a8"
                          ],
                          [
                            0.3333333333333333,
                            "#9c179e"
                          ],
                          [
                            0.4444444444444444,
                            "#bd3786"
                          ],
                          [
                            0.5555555555555556,
                            "#d8576b"
                          ],
                          [
                            0.6666666666666666,
                            "#ed7953"
                          ],
                          [
                            0.7777777777777778,
                            "#fb9f3a"
                          ],
                          [
                            0.8888888888888888,
                            "#fdca26"
                          ],
                          [
                            1,
                            "#f0f921"
                          ]
                        ],
                        "type": "contour"
                      }
                    ],
                    "contourcarpet": [
                      {
                        "colorbar": {
                          "outlinewidth": 0,
                          "ticks": ""
                        },
                        "type": "contourcarpet"
                      }
                    ],
                    "heatmap": [
                      {
                        "colorbar": {
                          "outlinewidth": 0,
                          "ticks": ""
                        },
                        "colorscale": [
                          [
                            0,
                            "#0d0887"
                          ],
                          [
                            0.1111111111111111,
                            "#46039f"
                          ],
                          [
                            0.2222222222222222,
                            "#7201a8"
                          ],
                          [
                            0.3333333333333333,
                            "#9c179e"
                          ],
                          [
                            0.4444444444444444,
                            "#bd3786"
                          ],
                          [
                            0.5555555555555556,
                            "#d8576b"
                          ],
                          [
                            0.6666666666666666,
                            "#ed7953"
                          ],
                          [
                            0.7777777777777778,
                            "#fb9f3a"
                          ],
                          [
                            0.8888888888888888,
                            "#fdca26"
                          ],
                          [
                            1,
                            "#f0f921"
                          ]
                        ],
                        "type": "heatmap"
                      }
                    ],
                    "heatmapgl": [
                      {
                        "colorbar": {
                          "outlinewidth": 0,
                          "ticks": ""
                        },
                        "colorscale": [
                          [
                            0,
                            "#0d0887"
                          ],
                          [
                            0.1111111111111111,
                            "#46039f"
                          ],
                          [
                            0.2222222222222222,
                            "#7201a8"
                          ],
                          [
                            0.3333333333333333,
                            "#9c179e"
                          ],
                          [
                            0.4444444444444444,
                            "#bd3786"
                          ],
                          [
                            0.5555555555555556,
                            "#d8576b"
                          ],
                          [
                            0.6666666666666666,
                            "#ed7953"
                          ],
                          [
                            0.7777777777777778,
                            "#fb9f3a"
                          ],
                          [
                            0.8888888888888888,
                            "#fdca26"
                          ],
                          [
                            1,
                            "#f0f921"
                          ]
                        ],
                        "type": "heatmapgl"
                      }
                    ],
                    "histogram": [
                      {
                        "marker": {
                          "pattern": {
                            "fillmode": "overlay",
                            "size": 10,
                            "solidity": 0.2
                          }
                        },
                        "type": "histogram"
                      }
                    ],
                    "histogram2d": [
                      {
                        "colorbar": {
                          "outlinewidth": 0,
                          "ticks": ""
                        },
                        "colorscale": [
                          [
                            0,
                            "#0d0887"
                          ],
                          [
                            0.1111111111111111,
                            "#46039f"
                          ],
                          [
                            0.2222222222222222,
                            "#7201a8"
                          ],
                          [
                            0.3333333333333333,
                            "#9c179e"
                          ],
                          [
                            0.4444444444444444,
                            "#bd3786"
                          ],
                          [
                            0.5555555555555556,
                            "#d8576b"
                          ],
                          [
                            0.6666666666666666,
                            "#ed7953"
                          ],
                          [
                            0.7777777777777778,
                            "#fb9f3a"
                          ],
                          [
                            0.8888888888888888,
                            "#fdca26"
                          ],
                          [
                            1,
                            "#f0f921"
                          ]
                        ],
                        "type": "histogram2d"
                      }
                    ],
                    "histogram2dcontour": [
                      {
                        "colorbar": {
                          "outlinewidth": 0,
                          "ticks": ""
                        },
                        "colorscale": [
                          [
                            0,
                            "#0d0887"
                          ],
                          [
                            0.1111111111111111,
                            "#46039f"
                          ],
                          [
                            0.2222222222222222,
                            "#7201a8"
                          ],
                          [
                            0.3333333333333333,
                            "#9c179e"
                          ],
                          [
                            0.4444444444444444,
                            "#bd3786"
                          ],
                          [
                            0.5555555555555556,
                            "#d8576b"
                          ],
                          [
                            0.6666666666666666,
                            "#ed7953"
                          ],
                          [
                            0.7777777777777778,
                            "#fb9f3a"
                          ],
                          [
                            0.8888888888888888,
                            "#fdca26"
                          ],
                          [
                            1,
                            "#f0f921"
                          ]
                        ],
                        "type": "histogram2dcontour"
                      }
                    ],
                    "mesh3d": [
                      {
                        "colorbar": {
                          "outlinewidth": 0,
                          "ticks": ""
                        },
                        "type": "mesh3d"
                      }
                    ],
                    "parcoords": [
                      {
                        "line": {
                          "colorbar": {
                            "outlinewidth": 0,
                            "ticks": ""
                          }
                        },
                        "type": "parcoords"
                      }
                    ],
                    "pie": [
                      {
                        "automargin": true,
                        "type": "pie"
                      }
                    ],
                    "scatter": [
                      {
                        "marker": {
                          "colorbar": {
                            "outlinewidth": 0,
                            "ticks": ""
                          }
                        },
                        "type": "scatter"
                      }
                    ],
                    "scatter3d": [
                      {
                        "line": {
                          "colorbar": {
                            "outlinewidth": 0,
                            "ticks": ""
                          }
                        },
                        "marker": {
                          "colorbar": {
                            "outlinewidth": 0,
                            "ticks": ""
                          }
                        },
                        "type": "scatter3d"
                      }
                    ],
                    "scattercarpet": [
                      {
                        "marker": {
                          "colorbar": {
                            "outlinewidth": 0,
                            "ticks": ""
                          }
                        },
                        "type": "scattercarpet"
                      }
                    ],
                    "scattergeo": [
                      {
                        "marker": {
                          "colorbar": {
                            "outlinewidth": 0,
                            "ticks": ""
                          }
                        },
                        "type": "scattergeo"
                      }
                    ],
                    "scattergl": [
                      {
                        "marker": {
                          "colorbar": {
                            "outlinewidth": 0,
                            "ticks": ""
                          }
                        },
                        "type": "scattergl"
                      }
                    ],
                    "scattermapbox": [
                      {
                        "marker": {
                          "colorbar": {
                            "outlinewidth": 0,
                            "ticks": ""
                          }
                        },
                        "type": "scattermapbox"
                      }
                    ],
                    "scatterpolar": [
                      {
                        "marker": {
                          "colorbar": {
                            "outlinewidth": 0,
                            "ticks": ""
                          }
                        },
                        "type": "scatterpolar"
                      }
                    ],
                    "scatterpolargl": [
                      {
                        "marker": {
                          "colorbar": {
                            "outlinewidth": 0,
                            "ticks": ""
                          }
                        },
                        "type": "scatterpolargl"
                      }
                    ],
                    "scatterternary": [
                      {
                        "marker": {
                          "colorbar": {
                            "outlinewidth": 0,
                            "ticks": ""
                          }
                        },
                        "type": "scatterternary"
                      }
                    ],
                    "surface": [
                      {
                        "colorbar": {
                          "outlinewidth": 0,
                          "ticks": ""
                        },
                        "colorscale": [
                          [
                            0,
                            "#0d0887"
                          ],
                          [
                            0.1111111111111111,
                            "#46039f"
                          ],
                          [
                            0.2222222222222222,
                            "#7201a8"
                          ],
                          [
                            0.3333333333333333,
                            "#9c179e"
                          ],
                          [
                            0.4444444444444444,
                            "#bd3786"
                          ],
                          [
                            0.5555555555555556,
                            "#d8576b"
                          ],
                          [
                            0.6666666666666666,
                            "#ed7953"
                          ],
                          [
                            0.7777777777777778,
                            "#fb9f3a"
                          ],
                          [
                            0.8888888888888888,
                            "#fdca26"
                          ],
                          [
                            1,
                            "#f0f921"
                          ]
                        ],
                        "type": "surface"
                      }
                    ],
                    "table": [
                      {
                        "cells": {
                          "fill": {
                            "color": "#EBF0F8"
                          },
                          "line": {
                            "color": "white"
                          }
                        },
                        "header": {
                          "fill": {
                            "color": "#C8D4E3"
                          },
                          "line": {
                            "color": "white"
                          }
                        },
                        "type": "table"
                      }
                    ]
                  },
                  "layout": {
                    "annotationdefaults": {
                      "arrowcolor": "#2a3f5f",
                      "arrowhead": 0,
                      "arrowwidth": 1
                    },
                    "autotypenumbers": "strict",
                    "coloraxis": {
                      "colorbar": {
                        "outlinewidth": 0,
                        "ticks": ""
                      }
                    },
                    "colorscale": {
                      "diverging": [
                        [
                          0,
                          "#8e0152"
                        ],
                        [
                          0.1,
                          "#c51b7d"
                        ],
                        [
                          0.2,
                          "#de77ae"
                        ],
                        [
                          0.3,
                          "#f1b6da"
                        ],
                        [
                          0.4,
                          "#fde0ef"
                        ],
                        [
                          0.5,
                          "#f7f7f7"
                        ],
                        [
                          0.6,
                          "#e6f5d0"
                        ],
                        [
                          0.7,
                          "#b8e186"
                        ],
                        [
                          0.8,
                          "#7fbc41"
                        ],
                        [
                          0.9,
                          "#4d9221"
                        ],
                        [
                          1,
                          "#276419"
                        ]
                      ],
                      "sequential": [
                        [
                          0,
                          "#0d0887"
                        ],
                        [
                          0.1111111111111111,
                          "#46039f"
                        ],
                        [
                          0.2222222222222222,
                          "#7201a8"
                        ],
                        [
                          0.3333333333333333,
                          "#9c179e"
                        ],
                        [
                          0.4444444444444444,
                          "#bd3786"
                        ],
                        [
                          0.5555555555555556,
                          "#d8576b"
                        ],
                        [
                          0.6666666666666666,
                          "#ed7953"
                        ],
                        [
                          0.7777777777777778,
                          "#fb9f3a"
                        ],
                        [
                          0.8888888888888888,
                          "#fdca26"
                        ],
                        [
                          1,
                          "#f0f921"
                        ]
                      ],
                      "sequentialminus": [
                        [
                          0,
                          "#0d0887"
                        ],
                        [
                          0.1111111111111111,
                          "#46039f"
                        ],
                        [
                          0.2222222222222222,
                          "#7201a8"
                        ],
                        [
                          0.3333333333333333,
                          "#9c179e"
                        ],
                        [
                          0.4444444444444444,
                          "#bd3786"
                        ],
                        [
                          0.5555555555555556,
                          "#d8576b"
                        ],
                        [
                          0.6666666666666666,
                          "#ed7953"
                        ],
                        [
                          0.7777777777777778,
                          "#fb9f3a"
                        ],
                        [
                          0.8888888888888888,
                          "#fdca26"
                        ],
                        [
                          1,
                          "#f0f921"
                        ]
                      ]
                    },
                    "colorway": [
                      "#636efa",
                      "#EF553B",
                      "#00cc96",
                      "#ab63fa",
                      "#FFA15A",
                      "#19d3f3",
                      "#FF6692",
                      "#B6E880",
                      "#FF97FF",
                      "#FECB52"
                    ],
                    "font": {
                      "color": "#2a3f5f"
                    },
                    "geo": {
                      "bgcolor": "white",
                      "lakecolor": "white",
                      "landcolor": "#E5ECF6",
                      "showlakes": true,
                      "showland": true,
                      "subunitcolor": "white"
                    },
                    "hoverlabel": {
                      "align": "left"
                    },
                    "hovermode": "closest",
                    "mapbox": {
                      "style": "light"
                    },
                    "paper_bgcolor": "white",
                    "plot_bgcolor": "#E5ECF6",
                    "polar": {
                      "angularaxis": {
                        "gridcolor": "white",
                        "linecolor": "white",
                        "ticks": ""
                      },
                      "bgcolor": "#E5ECF6",
                      "radialaxis": {
                        "gridcolor": "white",
                        "linecolor": "white",
                        "ticks": ""
                      }
                    },
                    "scene": {
                      "xaxis": {
                        "backgroundcolor": "#E5ECF6",
                        "gridcolor": "white",
                        "gridwidth": 2,
                        "linecolor": "white",
                        "showbackground": true,
                        "ticks": "",
                        "zerolinecolor": "white"
                      },
                      "yaxis": {
                        "backgroundcolor": "#E5ECF6",
                        "gridcolor": "white",
                        "gridwidth": 2,
                        "linecolor": "white",
                        "showbackground": true,
                        "ticks": "",
                        "zerolinecolor": "white"
                      },
                      "zaxis": {
                        "backgroundcolor": "#E5ECF6",
                        "gridcolor": "white",
                        "gridwidth": 2,
                        "linecolor": "white",
                        "showbackground": true,
                        "ticks": "",
                        "zerolinecolor": "white"
                      }
                    },
                    "shapedefaults": {
                      "line": {
                        "color": "#2a3f5f"
                      }
                    },
                    "ternary": {
                      "aaxis": {
                        "gridcolor": "white",
                        "linecolor": "white",
                        "ticks": ""
                      },
                      "baxis": {
                        "gridcolor": "white",
                        "linecolor": "white",
                        "ticks": ""
                      },
                      "bgcolor": "#E5ECF6",
                      "caxis": {
                        "gridcolor": "white",
                        "linecolor": "white",
                        "ticks": ""
                      }
                    },
                    "title": {
                      "x": 0.05
                    },
                    "xaxis": {
                      "automargin": true,
                      "gridcolor": "white",
                      "linecolor": "white",
                      "ticks": "",
                      "title": {
                        "standoff": 15
                      },
                      "zerolinecolor": "white",
                      "zerolinewidth": 2
                    },
                    "yaxis": {
                      "automargin": true,
                      "gridcolor": "white",
                      "linecolor": "white",
                      "ticks": "",
                      "title": {
                        "standoff": 15
                      },
                      "zerolinecolor": "white",
                      "zerolinewidth": 2
                    }
                  }
                },
                "title": {
                  "text": "GDP Per Capita and Alcohol Consumption by Country",
                  "x": 0.47
                },
                "xaxis": {
                  "anchor": "y",
                  "domain": [
                    0,
                    1
                  ],
                  "range": [
                    2.7540664515675504,
                    5.0765281387164976
                  ],
                  "title": {
                    "text": "GDP per capita, $"
                  },
                  "type": "log"
                },
                "yaxis": {
                  "anchor": "x",
                  "domain": [
                    0,
                    1
                  ],
                  "range": [
                    -2.497,
                    21.5
                  ],
                  "title": {
                    "text": "Alcohol consumption, litres per capita"
                  }
                }
              }
            },
            "text/html": [
              "<div>                            <div id=\"bebe7e33-24cc-400d-9c4b-b82eb999638a\" class=\"plotly-graph-div\" style=\"height:525px; width:100%;\"></div>            <script type=\"text/javascript\">                require([\"plotly\"], function(Plotly) {                    window.PLOTLYENV=window.PLOTLYENV || {};                                    if (document.getElementById(\"bebe7e33-24cc-400d-9c4b-b82eb999638a\")) {                    Plotly.newPlot(                        \"bebe7e33-24cc-400d-9c4b-b82eb999638a\",                        [{\"hovertemplate\":\"<b>%{hovertext}</b><br><br>continent=North America<br>year=2000<br>GDP per capita, $=%{x}<br>Alcohol consumption, litres per capita=%{y}<br>population=%{marker.size}<extra></extra>\",\"hovertext\":[\"Nicaragua\",\"Trinidad and Tobago\",\"Jamaica\",\"Costa Rica\",\"El Salvador\",\"Dominican Republic\",\"Honduras\",\"Haiti\",\"Guatemala\",\"Panama\",\"Belize\",\"Mexico\",\"Bahamas\",\"United States\"],\"ids\":[\"Nicaragua\",\"Trinidad and Tobago\",\"Jamaica\",\"Costa Rica\",\"El Salvador\",\"Dominican Republic\",\"Honduras\",\"Haiti\",\"Guatemala\",\"Panama\",\"Belize\",\"Mexico\",\"Bahamas\",\"United States\"],\"legendgroup\":\"North America\",\"marker\":{\"color\":\"#636efa\",\"size\":[5069310.0,1267159.0,2654698.0,3962369.0,5887930.0,8471317.0,6574510.0,8463802.0,11650744.0,3030333.0,247310.0,98899845.0,298045.0,281710914.0],\"sizemode\":\"area\",\"sizeref\":571059.1156,\"symbol\":\"circle\"},\"mode\":\"markers\",\"name\":\"North America\",\"orientation\":\"v\",\"showlegend\":true,\"x\":[3968.89293294194,16939.5254674584,9344.53464265286,12624.0705682992,6548.6313703709,9322.13919573249,4108.77497718928,2684.55192559431,6499.88328602091,14507.7959728498,6599.3393519209,17756.5664680698,40518.1795069369,50124.8911771197],\"xaxis\":\"x\",\"y\":[5.05,5.27,4.91,5.55,3.86,7.19,3.5,3.97,4.4,5.48,5.55,6.43,5.58,9.19],\"yaxis\":\"y\",\"type\":\"scatter\"},{\"hovertemplate\":\"<b>%{hovertext}</b><br><br>continent=Africa<br>year=2000<br>GDP per capita, $=%{x}<br>Alcohol consumption, litres per capita=%{y}<br>population=%{marker.size}<extra></extra>\",\"hovertext\":[\"Central African Republic\",\"Tunisia\",\"Chad\",\"Rwanda\",\"Togo\",\"Congo\",\"Senegal\",\"Uganda\",\"Burkina Faso\",\"Kenya\",\"Burundi\",\"Ethiopia\",\"Cameroon\",\"South Africa\",\"Egypt\",\"Gambia\",\"Gabon\",\"Equatorial Guinea\",\"Eswatini\",\"Ghana\",\"Cote d'Ivoire\",\"Sierra Leone\",\"Guinea-Bissau\",\"Tanzania\",\"Democratic Republic of Congo\",\"Guinea\",\"Mali\",\"Nigeria\",\"Zambia\",\"Madagascar\",\"Malawi\",\"Mozambique\",\"Morocco\",\"Mauritania\",\"Namibia\",\"Liberia\",\"Zimbabwe\",\"Libya\",\"Lesotho\",\"Algeria\",\"Botswana\",\"Benin\",\"Niger\",\"Angola\"],\"ids\":[\"Central African Republic\",\"Tunisia\",\"Chad\",\"Rwanda\",\"Togo\",\"Congo\",\"Senegal\",\"Uganda\",\"Burkina Faso\",\"Kenya\",\"Burundi\",\"Ethiopia\",\"Cameroon\",\"South Africa\",\"Egypt\",\"Gambia\",\"Gabon\",\"Equatorial Guinea\",\"Eswatini\",\"Ghana\",\"Cote d'Ivoire\",\"Sierra Leone\",\"Guinea-Bissau\",\"Tanzania\",\"Democratic Republic of Congo\",\"Guinea\",\"Mali\",\"Nigeria\",\"Zambia\",\"Madagascar\",\"Malawi\",\"Mozambique\",\"Morocco\",\"Mauritania\",\"Namibia\",\"Liberia\",\"Zimbabwe\",\"Libya\",\"Lesotho\",\"Algeria\",\"Botswana\",\"Benin\",\"Niger\",\"Angola\"],\"legendgroup\":\"Africa\",\"marker\":{\"color\":\"#EF553B\",\"size\":[3640421.0,9708347.0,8355654.0,7933688.0,4924406.0,3127420.0,9797731.0,23650159.0,11607951.0,31964557.0,6378871.0,66224808.0,15513944.0,44967713.0,68831561.0,1317708.0,1228359.0,606180.0,1005432.0,19278850.0,16454660.0,4584570.0,1201305.0,33499177.0,47105830.0,8240735.0,10946448.0,122283853.0,10415942.0,15766806.0,11148751.0,17711925.0,28793672.0,2630217.0,1794583.0,2848447.0,11881482.0,5357893.0,2032805.0,31042238.0,1643333.0,6865946.0,11331561.0,16395476.0],\"sizemode\":\"area\",\"sizeref\":571059.1156,\"symbol\":\"circle\"},\"mode\":\"markers\",\"name\":\"Africa\",\"orientation\":\"v\",\"showlegend\":true,\"x\":[1040.10383462572,7329.34512574055,897.34703736949,867.61519073836,1700.44139725969,4402.90145480416,2595.10928846112,1252.75213083501,1296.74796014307,2867.74670834945,828.000459963366,727.766684744805,2750.51116534277,10088.8522469794,7744.71523809311,2270.48649520816,16567.2456051163,11176.5189594963,5579.13655947274,2734.80676341488,4093.87478193688,1063.29719794631,1722.75748109366,1409.45396400343,751.557756784938,1704.9563781541,1627.73231771183,2977.04147454063,1990.85899129325,1614.38228216052,1107.53789395445,630.701613637085,4370.7994905291,4361.21351253339,6804.86674286238,1699.02083585982,3756.13948282406,16746.2738707408,1685.36701365512,8710.45514928455,11439.908400073,2478.21823775079,933.346375903928,4727.96631394756],\"xaxis\":\"x\",\"y\":[3.68,1.36,4.34,13.73,1.79,3.45,0.96,13.61,8.4,3.83,9.82,1.76,6.69,10.02,0.25,4.14,10.59,7.45,7.46,5.3,7.25,5.8,4.15,8.63,0.95,0.67,1.15,12.5,4.05,2.11,2.42,2.33,1.01,0.2,3.26,6.38,2.46,0.064,7.31,0.58,9.05,2.46,0.23,2.76],\"yaxis\":\"y\",\"type\":\"scatter\"},{\"hovertemplate\":\"<b>%{hovertext}</b><br><br>continent=Europe<br>year=2000<br>GDP per capita, $=%{x}<br>Alcohol consumption, litres per capita=%{y}<br>population=%{marker.size}<extra></extra>\",\"hovertext\":[\"Italy\",\"Russia\",\"Ireland\",\"Latvia\",\"Ukraine\",\"Poland\",\"Bulgaria\",\"Portugal\",\"Romania\",\"Switzerland\",\"Germany\",\"Sweden\",\"France\",\"Finland\",\"Estonia\",\"Spain\",\"Iceland\",\"Greece\",\"Hungary\",\"Croatia\",\"Slovakia\",\"Czechia\",\"Slovenia\",\"Denmark\",\"Belarus\",\"Belgium\",\"Norway\",\"Moldova\",\"North Macedonia\",\"Austria\",\"Albania\",\"Netherlands\",\"United Kingdom\",\"Bosnia and Herzegovina\",\"Lithuania\",\"Luxembourg\"],\"ids\":[\"Italy\",\"Russia\",\"Ireland\",\"Latvia\",\"Ukraine\",\"Poland\",\"Bulgaria\",\"Portugal\",\"Romania\",\"Switzerland\",\"Germany\",\"Sweden\",\"France\",\"Finland\",\"Estonia\",\"Spain\",\"Iceland\",\"Greece\",\"Hungary\",\"Croatia\",\"Slovakia\",\"Czechia\",\"Slovenia\",\"Denmark\",\"Belarus\",\"Belgium\",\"Norway\",\"Moldova\",\"North Macedonia\",\"Austria\",\"Albania\",\"Netherlands\",\"United Kingdom\",\"Bosnia and Herzegovina\",\"Lithuania\",\"Luxembourg\"],\"legendgroup\":\"Europe\",\"marker\":{\"color\":\"#00cc96\",\"size\":[56692178.0,146404890.0,3783095.0,2384150.0,48838058.0,38556699.0,7997951.0,10297117.0,22137423.0,7143764.0,81400883.0,8881642.0,59015092.0,5187953.0,1399111.0,40824745.0,280439.0,11082103.0,10220509.0,4428075.0,5399207.0,10289374.0,1987710.0,5341192.0,9871635.0,10282046.0,4499375.0,4202659.0,2034823.0,8069276.0,3129246.0,15926188.0,58923305.0,3751176.0,3501842.0,436106.0],\"sizemode\":\"area\",\"sizeref\":571059.1156,\"symbol\":\"circle\"},\"mode\":\"markers\",\"name\":\"Europe\",\"orientation\":\"v\",\"showlegend\":true,\"x\":[43053.93306429,14569.9365828201,48628.4511384221,12863.3093474278,7221.46560780007,16257.6458763574,10201.2781187994,30383.1378175177,12109.5523994815,59389.4240602209,42864.9328892862,40625.3620520538,39732.2824515749,39894.1944569685,17778.9655754809,34757.615021513,41530.5173238278,29186.324547399,19406.5213432499,18183.5881144119,15660.6438507381,24976.5063182959,26281.0684547863,48907.0114021027,8053.17363808324,43023.30716339,57127.3997508609,5074.37706419218,10182.126070975,46403.2776992589,5893.13623256329,47422.2034047837,38280.8002708435,7114.5527648191,13846.6832884609,95901.0204047436],\"xaxis\":\"x\",\"y\":[10.37,15.73,15.13,8.76,12.46,9.17,11.8,14.08,17.45,12.49,14.16,8.53,14.08,11.69,9.57,12.43,7.03,10.18,14.27,12.45,12.47,15.0,12.6,12.67,15.17,12.49,7.95,13.89,7.31,13.12,6.57,11.08,13.73,6.37,13.36,14.32],\"yaxis\":\"y\",\"type\":\"scatter\"},{\"hovertemplate\":\"<b>%{hovertext}</b><br><br>continent=Asia<br>year=2000<br>GDP per capita, $=%{x}<br>Alcohol consumption, litres per capita=%{y}<br>population=%{marker.size}<extra></extra>\",\"hovertext\":[\"Israel\",\"Iraq\",\"China\",\"Iran\",\"Saudi Arabia\",\"Indonesia\",\"India\",\"Turkey\",\"Japan\",\"Brunei\",\"Laos\",\"Kyrgyzstan\",\"Kuwait\",\"Turkmenistan\",\"Qatar\",\"Cambodia\",\"Jordan\",\"Timor\",\"Georgia\",\"South Korea\",\"Thailand\",\"Cyprus\",\"Tajikistan\",\"Philippines\",\"Kazakhstan\",\"Sri Lanka\",\"Myanmar\",\"Malaysia\",\"Mongolia\",\"Armenia\",\"Pakistan\",\"Azerbaijan\",\"Oman\",\"Vietnam\",\"Lebanon\",\"Uzbekistan\",\"Bangladesh\",\"United Arab Emirates\",\"Nepal\",\"Bhutan\"],\"ids\":[\"Israel\",\"Iraq\",\"China\",\"Iran\",\"Saudi Arabia\",\"Indonesia\",\"India\",\"Turkey\",\"Japan\",\"Brunei\",\"Laos\",\"Kyrgyzstan\",\"Kuwait\",\"Turkmenistan\",\"Qatar\",\"Cambodia\",\"Jordan\",\"Timor\",\"Georgia\",\"South Korea\",\"Thailand\",\"Cyprus\",\"Tajikistan\",\"Philippines\",\"Kazakhstan\",\"Sri Lanka\",\"Myanmar\",\"Malaysia\",\"Mongolia\",\"Armenia\",\"Pakistan\",\"Azerbaijan\",\"Oman\",\"Vietnam\",\"Lebanon\",\"Uzbekistan\",\"Bangladesh\",\"United Arab Emirates\",\"Nepal\",\"Bhutan\"],\"legendgroup\":\"Asia\",\"marker\":{\"color\":\"#ab63fa\",\"size\":[5945949.0,23497589.0,1290550767.0,65623397.0,20663840.0,211513822.0,1056575548.0,63240196.0,127524168.0,333166.0,5323701.0,4920712.0,2045123.0,4516128.0,592467.0,12155241.0,5122495.0,884366.0,4362184.0,47379237.0,62952639.0,943288.0,6216329.0,77991757.0,14922724.0,18777606.0,46719698.0,23194252.0,2397417.0,3069597.0,142343583.0,8122743.0,2267973.0,79910411.0,3842774.0,24769955.0,127657862.0,3134067.0,23941099.0,591014.0],\"sizemode\":\"area\",\"sizeref\":571059.1156,\"symbol\":\"circle\"},\"mode\":\"markers\",\"name\":\"Asia\",\"orientation\":\"v\",\"showlegend\":true,\"x\":[31416.9385084502,9364.59670507821,3451.67923092858,10066.8027843828,41955.2077907276,5689.26022293799,2578.59152976754,15433.5871175503,35611.8039052511,69022.8801555068,2861.27183966636,3078.90925165177,54984.9523488311,4622.07875656117,86566.3028502583,1481.65682787052,8741.7274099193,2328.30466726771,4919.23187995616,22963.638542808,9809.62237014961,33013.9825138552,1324.90986011034,4453.75667171085,10275.7618712984,5949.97002912315,1093.78820723887,15917.0571666512,4528.95594640011,4048.24990407114,3245.37834188783,4063.47164104466,33839.520542694,2954.98290492635,14361.6830243491,2786.43037415465,1937.72919211467,102494.714619638,2077.65205573805,4061.4990262661],\"xaxis\":\"x\",\"y\":[3.08,0.45,3.81,0.21,0.18,0.5,2.28,2.41,8.23,0.23,4.66,9.45,0.038,4.82,1.15,1.87,0.62,1.53,4.41,12.31,6.49,10.86,2.97,6.06,8.18,2.22,0.38,1.53,3.11,4.23,0.085,3.45,6.56,2.21,2.96,5.68,0.23,2.58,1.12,2.77],\"yaxis\":\"y\",\"type\":\"scatter\"},{\"hovertemplate\":\"<b>%{hovertext}</b><br><br>continent=South America<br>year=2000<br>GDP per capita, $=%{x}<br>Alcohol consumption, litres per capita=%{y}<br>population=%{marker.size}<extra></extra>\",\"hovertext\":[\"Chile\",\"Colombia\",\"Brazil\",\"Ecuador\",\"Suriname\",\"Guyana\",\"Uruguay\",\"Argentina\",\"Bolivia\",\"Paraguay\",\"Peru\"],\"ids\":[\"Chile\",\"Colombia\",\"Brazil\",\"Ecuador\",\"Suriname\",\"Guyana\",\"Uruguay\",\"Argentina\",\"Bolivia\",\"Paraguay\",\"Peru\"],\"legendgroup\":\"South America\",\"marker\":{\"color\":\"#FFA15A\",\"size\":[15342350.0,39629965.0,174790339.0,12681123.0,470944.0,746718.0,3319734.0,36870796.0,8418270.0,5323202.0,26459944.0],\"sizemode\":\"area\",\"sizeref\":571059.1156,\"symbol\":\"circle\"},\"mode\":\"markers\",\"name\":\"South America\",\"orientation\":\"v\",\"showlegend\":true,\"x\":[15638.0009435542,9042.66279139813,11600.9484568395,8176.34444775576,13068.206154071,7776.30855726493,14482.7545481357,18625.2835537811,5415.52605950999,8530.20798959163,6422.4805683104],\"xaxis\":\"x\",\"y\":[7.74,5.58,8.78,5.96,5.29,8.98,8.09,8.75,3.44,6.38,6.54],\"yaxis\":\"y\",\"type\":\"scatter\"},{\"hovertemplate\":\"<b>%{hovertext}</b><br><br>continent=Oceania<br>year=2000<br>GDP per capita, $=%{x}<br>Alcohol consumption, litres per capita=%{y}<br>population=%{marker.size}<extra></extra>\",\"hovertext\":[\"Fiji\",\"Solomon Islands\",\"Papua New Guinea\",\"Vanuatu\",\"Australia\",\"New Zealand\"],\"ids\":[\"Fiji\",\"Solomon Islands\",\"Papua New Guinea\",\"Vanuatu\",\"Australia\",\"New Zealand\"],\"legendgroup\":\"Oceania\",\"marker\":{\"color\":\"#19d3f3\",\"size\":[811011.0,412665.0,5847590.0,184964.0,18991434.0,3858992.0],\"sizemode\":\"area\",\"sizeref\":571059.1156,\"symbol\":\"circle\"},\"mode\":\"markers\",\"name\":\"Oceania\",\"orientation\":\"v\",\"showlegend\":true,\"x\":[9575.8788393934,2253.61086190761,2871.41637699376,3068.09586636035,38343.002147534,32837.0978861822],\"xaxis\":\"x\",\"y\":[3.24,1.2,1.79,1.17,11.72,10.42],\"yaxis\":\"y\",\"type\":\"scatter\"}],                        {\"template\":{\"data\":{\"bar\":[{\"error_x\":{\"color\":\"#2a3f5f\"},\"error_y\":{\"color\":\"#2a3f5f\"},\"marker\":{\"line\":{\"color\":\"#E5ECF6\",\"width\":0.5},\"pattern\":{\"fillmode\":\"overlay\",\"size\":10,\"solidity\":0.2}},\"type\":\"bar\"}],\"barpolar\":[{\"marker\":{\"line\":{\"color\":\"#E5ECF6\",\"width\":0.5},\"pattern\":{\"fillmode\":\"overlay\",\"size\":10,\"solidity\":0.2}},\"type\":\"barpolar\"}],\"carpet\":[{\"aaxis\":{\"endlinecolor\":\"#2a3f5f\",\"gridcolor\":\"white\",\"linecolor\":\"white\",\"minorgridcolor\":\"white\",\"startlinecolor\":\"#2a3f5f\"},\"baxis\":{\"endlinecolor\":\"#2a3f5f\",\"gridcolor\":\"white\",\"linecolor\":\"white\",\"minorgridcolor\":\"white\",\"startlinecolor\":\"#2a3f5f\"},\"type\":\"carpet\"}],\"choropleth\":[{\"colorbar\":{\"outlinewidth\":0,\"ticks\":\"\"},\"type\":\"choropleth\"}],\"contour\":[{\"colorbar\":{\"outlinewidth\":0,\"ticks\":\"\"},\"colorscale\":[[0.0,\"#0d0887\"],[0.1111111111111111,\"#46039f\"],[0.2222222222222222,\"#7201a8\"],[0.3333333333333333,\"#9c179e\"],[0.4444444444444444,\"#bd3786\"],[0.5555555555555556,\"#d8576b\"],[0.6666666666666666,\"#ed7953\"],[0.7777777777777778,\"#fb9f3a\"],[0.8888888888888888,\"#fdca26\"],[1.0,\"#f0f921\"]],\"type\":\"contour\"}],\"contourcarpet\":[{\"colorbar\":{\"outlinewidth\":0,\"ticks\":\"\"},\"type\":\"contourcarpet\"}],\"heatmap\":[{\"colorbar\":{\"outlinewidth\":0,\"ticks\":\"\"},\"colorscale\":[[0.0,\"#0d0887\"],[0.1111111111111111,\"#46039f\"],[0.2222222222222222,\"#7201a8\"],[0.3333333333333333,\"#9c179e\"],[0.4444444444444444,\"#bd3786\"],[0.5555555555555556,\"#d8576b\"],[0.6666666666666666,\"#ed7953\"],[0.7777777777777778,\"#fb9f3a\"],[0.8888888888888888,\"#fdca26\"],[1.0,\"#f0f921\"]],\"type\":\"heatmap\"}],\"heatmapgl\":[{\"colorbar\":{\"outlinewidth\":0,\"ticks\":\"\"},\"colorscale\":[[0.0,\"#0d0887\"],[0.1111111111111111,\"#46039f\"],[0.2222222222222222,\"#7201a8\"],[0.3333333333333333,\"#9c179e\"],[0.4444444444444444,\"#bd3786\"],[0.5555555555555556,\"#d8576b\"],[0.6666666666666666,\"#ed7953\"],[0.7777777777777778,\"#fb9f3a\"],[0.8888888888888888,\"#fdca26\"],[1.0,\"#f0f921\"]],\"type\":\"heatmapgl\"}],\"histogram\":[{\"marker\":{\"pattern\":{\"fillmode\":\"overlay\",\"size\":10,\"solidity\":0.2}},\"type\":\"histogram\"}],\"histogram2d\":[{\"colorbar\":{\"outlinewidth\":0,\"ticks\":\"\"},\"colorscale\":[[0.0,\"#0d0887\"],[0.1111111111111111,\"#46039f\"],[0.2222222222222222,\"#7201a8\"],[0.3333333333333333,\"#9c179e\"],[0.4444444444444444,\"#bd3786\"],[0.5555555555555556,\"#d8576b\"],[0.6666666666666666,\"#ed7953\"],[0.7777777777777778,\"#fb9f3a\"],[0.8888888888888888,\"#fdca26\"],[1.0,\"#f0f921\"]],\"type\":\"histogram2d\"}],\"histogram2dcontour\":[{\"colorbar\":{\"outlinewidth\":0,\"ticks\":\"\"},\"colorscale\":[[0.0,\"#0d0887\"],[0.1111111111111111,\"#46039f\"],[0.2222222222222222,\"#7201a8\"],[0.3333333333333333,\"#9c179e\"],[0.4444444444444444,\"#bd3786\"],[0.5555555555555556,\"#d8576b\"],[0.6666666666666666,\"#ed7953\"],[0.7777777777777778,\"#fb9f3a\"],[0.8888888888888888,\"#fdca26\"],[1.0,\"#f0f921\"]],\"type\":\"histogram2dcontour\"}],\"mesh3d\":[{\"colorbar\":{\"outlinewidth\":0,\"ticks\":\"\"},\"type\":\"mesh3d\"}],\"parcoords\":[{\"line\":{\"colorbar\":{\"outlinewidth\":0,\"ticks\":\"\"}},\"type\":\"parcoords\"}],\"pie\":[{\"automargin\":true,\"type\":\"pie\"}],\"scatter\":[{\"marker\":{\"colorbar\":{\"outlinewidth\":0,\"ticks\":\"\"}},\"type\":\"scatter\"}],\"scatter3d\":[{\"line\":{\"colorbar\":{\"outlinewidth\":0,\"ticks\":\"\"}},\"marker\":{\"colorbar\":{\"outlinewidth\":0,\"ticks\":\"\"}},\"type\":\"scatter3d\"}],\"scattercarpet\":[{\"marker\":{\"colorbar\":{\"outlinewidth\":0,\"ticks\":\"\"}},\"type\":\"scattercarpet\"}],\"scattergeo\":[{\"marker\":{\"colorbar\":{\"outlinewidth\":0,\"ticks\":\"\"}},\"type\":\"scattergeo\"}],\"scattergl\":[{\"marker\":{\"colorbar\":{\"outlinewidth\":0,\"ticks\":\"\"}},\"type\":\"scattergl\"}],\"scattermapbox\":[{\"marker\":{\"colorbar\":{\"outlinewidth\":0,\"ticks\":\"\"}},\"type\":\"scattermapbox\"}],\"scatterpolar\":[{\"marker\":{\"colorbar\":{\"outlinewidth\":0,\"ticks\":\"\"}},\"type\":\"scatterpolar\"}],\"scatterpolargl\":[{\"marker\":{\"colorbar\":{\"outlinewidth\":0,\"ticks\":\"\"}},\"type\":\"scatterpolargl\"}],\"scatterternary\":[{\"marker\":{\"colorbar\":{\"outlinewidth\":0,\"ticks\":\"\"}},\"type\":\"scatterternary\"}],\"surface\":[{\"colorbar\":{\"outlinewidth\":0,\"ticks\":\"\"},\"colorscale\":[[0.0,\"#0d0887\"],[0.1111111111111111,\"#46039f\"],[0.2222222222222222,\"#7201a8\"],[0.3333333333333333,\"#9c179e\"],[0.4444444444444444,\"#bd3786\"],[0.5555555555555556,\"#d8576b\"],[0.6666666666666666,\"#ed7953\"],[0.7777777777777778,\"#fb9f3a\"],[0.8888888888888888,\"#fdca26\"],[1.0,\"#f0f921\"]],\"type\":\"surface\"}],\"table\":[{\"cells\":{\"fill\":{\"color\":\"#EBF0F8\"},\"line\":{\"color\":\"white\"}},\"header\":{\"fill\":{\"color\":\"#C8D4E3\"},\"line\":{\"color\":\"white\"}},\"type\":\"table\"}]},\"layout\":{\"annotationdefaults\":{\"arrowcolor\":\"#2a3f5f\",\"arrowhead\":0,\"arrowwidth\":1},\"autotypenumbers\":\"strict\",\"coloraxis\":{\"colorbar\":{\"outlinewidth\":0,\"ticks\":\"\"}},\"colorscale\":{\"diverging\":[[0,\"#8e0152\"],[0.1,\"#c51b7d\"],[0.2,\"#de77ae\"],[0.3,\"#f1b6da\"],[0.4,\"#fde0ef\"],[0.5,\"#f7f7f7\"],[0.6,\"#e6f5d0\"],[0.7,\"#b8e186\"],[0.8,\"#7fbc41\"],[0.9,\"#4d9221\"],[1,\"#276419\"]],\"sequential\":[[0.0,\"#0d0887\"],[0.1111111111111111,\"#46039f\"],[0.2222222222222222,\"#7201a8\"],[0.3333333333333333,\"#9c179e\"],[0.4444444444444444,\"#bd3786\"],[0.5555555555555556,\"#d8576b\"],[0.6666666666666666,\"#ed7953\"],[0.7777777777777778,\"#fb9f3a\"],[0.8888888888888888,\"#fdca26\"],[1.0,\"#f0f921\"]],\"sequentialminus\":[[0.0,\"#0d0887\"],[0.1111111111111111,\"#46039f\"],[0.2222222222222222,\"#7201a8\"],[0.3333333333333333,\"#9c179e\"],[0.4444444444444444,\"#bd3786\"],[0.5555555555555556,\"#d8576b\"],[0.6666666666666666,\"#ed7953\"],[0.7777777777777778,\"#fb9f3a\"],[0.8888888888888888,\"#fdca26\"],[1.0,\"#f0f921\"]]},\"colorway\":[\"#636efa\",\"#EF553B\",\"#00cc96\",\"#ab63fa\",\"#FFA15A\",\"#19d3f3\",\"#FF6692\",\"#B6E880\",\"#FF97FF\",\"#FECB52\"],\"font\":{\"color\":\"#2a3f5f\"},\"geo\":{\"bgcolor\":\"white\",\"lakecolor\":\"white\",\"landcolor\":\"#E5ECF6\",\"showlakes\":true,\"showland\":true,\"subunitcolor\":\"white\"},\"hoverlabel\":{\"align\":\"left\"},\"hovermode\":\"closest\",\"mapbox\":{\"style\":\"light\"},\"paper_bgcolor\":\"white\",\"plot_bgcolor\":\"#E5ECF6\",\"polar\":{\"angularaxis\":{\"gridcolor\":\"white\",\"linecolor\":\"white\",\"ticks\":\"\"},\"bgcolor\":\"#E5ECF6\",\"radialaxis\":{\"gridcolor\":\"white\",\"linecolor\":\"white\",\"ticks\":\"\"}},\"scene\":{\"xaxis\":{\"backgroundcolor\":\"#E5ECF6\",\"gridcolor\":\"white\",\"gridwidth\":2,\"linecolor\":\"white\",\"showbackground\":true,\"ticks\":\"\",\"zerolinecolor\":\"white\"},\"yaxis\":{\"backgroundcolor\":\"#E5ECF6\",\"gridcolor\":\"white\",\"gridwidth\":2,\"linecolor\":\"white\",\"showbackground\":true,\"ticks\":\"\",\"zerolinecolor\":\"white\"},\"zaxis\":{\"backgroundcolor\":\"#E5ECF6\",\"gridcolor\":\"white\",\"gridwidth\":2,\"linecolor\":\"white\",\"showbackground\":true,\"ticks\":\"\",\"zerolinecolor\":\"white\"}},\"shapedefaults\":{\"line\":{\"color\":\"#2a3f5f\"}},\"ternary\":{\"aaxis\":{\"gridcolor\":\"white\",\"linecolor\":\"white\",\"ticks\":\"\"},\"baxis\":{\"gridcolor\":\"white\",\"linecolor\":\"white\",\"ticks\":\"\"},\"bgcolor\":\"#E5ECF6\",\"caxis\":{\"gridcolor\":\"white\",\"linecolor\":\"white\",\"ticks\":\"\"}},\"title\":{\"x\":0.05},\"xaxis\":{\"automargin\":true,\"gridcolor\":\"white\",\"linecolor\":\"white\",\"ticks\":\"\",\"title\":{\"standoff\":15},\"zerolinecolor\":\"white\",\"zerolinewidth\":2},\"yaxis\":{\"automargin\":true,\"gridcolor\":\"white\",\"linecolor\":\"white\",\"ticks\":\"\",\"title\":{\"standoff\":15},\"zerolinecolor\":\"white\",\"zerolinewidth\":2}}},\"xaxis\":{\"anchor\":\"y\",\"domain\":[0.0,1.0],\"title\":{\"text\":\"GDP per capita, $\"},\"type\":\"log\",\"range\":[2.7540664515675504,5.0765281387164976]},\"yaxis\":{\"anchor\":\"x\",\"domain\":[0.0,1.0],\"title\":{\"text\":\"Alcohol consumption, litres per capita\"},\"range\":[-2.497,21.5]},\"legend\":{\"title\":{\"text\":\"continent\"},\"tracegroupgap\":0,\"itemsizing\":\"constant\"},\"margin\":{\"t\":60},\"sliders\":[{\"active\":0,\"currentvalue\":{\"prefix\":\"year=\"},\"len\":0.9,\"pad\":{\"b\":10,\"t\":60},\"steps\":[{\"args\":[[\"2000\"],{\"frame\":{\"duration\":0,\"redraw\":false},\"mode\":\"immediate\",\"fromcurrent\":true,\"transition\":{\"duration\":0,\"easing\":\"linear\"}}],\"label\":\"2000\",\"method\":\"animate\"},{\"args\":[[\"2005\"],{\"frame\":{\"duration\":0,\"redraw\":false},\"mode\":\"immediate\",\"fromcurrent\":true,\"transition\":{\"duration\":0,\"easing\":\"linear\"}}],\"label\":\"2005\",\"method\":\"animate\"},{\"args\":[[\"2010\"],{\"frame\":{\"duration\":0,\"redraw\":false},\"mode\":\"immediate\",\"fromcurrent\":true,\"transition\":{\"duration\":0,\"easing\":\"linear\"}}],\"label\":\"2010\",\"method\":\"animate\"},{\"args\":[[\"2015\"],{\"frame\":{\"duration\":0,\"redraw\":false},\"mode\":\"immediate\",\"fromcurrent\":true,\"transition\":{\"duration\":0,\"easing\":\"linear\"}}],\"label\":\"2015\",\"method\":\"animate\"},{\"args\":[[\"2018\"],{\"frame\":{\"duration\":0,\"redraw\":false},\"mode\":\"immediate\",\"fromcurrent\":true,\"transition\":{\"duration\":0,\"easing\":\"linear\"}}],\"label\":\"2018\",\"method\":\"animate\"}],\"x\":0.1,\"xanchor\":\"left\",\"y\":0,\"yanchor\":\"top\"}],\"title\":{\"text\":\"GDP Per Capita and Alcohol Consumption by Country\",\"x\":0.47}},                        {\"responsive\": true}                    ).then(function(){\n",
              "                            Plotly.addFrames('bebe7e33-24cc-400d-9c4b-b82eb999638a', [{\"data\":[{\"hovertemplate\":\"<b>%{hovertext}</b><br><br>continent=North America<br>year=2000<br>GDP per capita, $=%{x}<br>Alcohol consumption, litres per capita=%{y}<br>population=%{marker.size}<extra></extra>\",\"hovertext\":[\"Nicaragua\",\"Trinidad and Tobago\",\"Jamaica\",\"Costa Rica\",\"El Salvador\",\"Dominican Republic\",\"Honduras\",\"Haiti\",\"Guatemala\",\"Panama\",\"Belize\",\"Mexico\",\"Bahamas\",\"United States\"],\"ids\":[\"Nicaragua\",\"Trinidad and Tobago\",\"Jamaica\",\"Costa Rica\",\"El Salvador\",\"Dominican Republic\",\"Honduras\",\"Haiti\",\"Guatemala\",\"Panama\",\"Belize\",\"Mexico\",\"Bahamas\",\"United States\"],\"legendgroup\":\"North America\",\"marker\":{\"color\":\"#636efa\",\"size\":[5069310.0,1267159.0,2654698.0,3962369.0,5887930.0,8471317.0,6574510.0,8463802.0,11650744.0,3030333.0,247310.0,98899845.0,298045.0,281710914.0],\"sizemode\":\"area\",\"sizeref\":571059.1156,\"symbol\":\"circle\"},\"mode\":\"markers\",\"name\":\"North America\",\"orientation\":\"v\",\"showlegend\":true,\"x\":[3968.89293294194,16939.5254674584,9344.53464265286,12624.0705682992,6548.6313703709,9322.13919573249,4108.77497718928,2684.55192559431,6499.88328602091,14507.7959728498,6599.3393519209,17756.5664680698,40518.1795069369,50124.8911771197],\"xaxis\":\"x\",\"y\":[5.05,5.27,4.91,5.55,3.86,7.19,3.5,3.97,4.4,5.48,5.55,6.43,5.58,9.19],\"yaxis\":\"y\",\"type\":\"scatter\"},{\"hovertemplate\":\"<b>%{hovertext}</b><br><br>continent=Africa<br>year=2000<br>GDP per capita, $=%{x}<br>Alcohol consumption, litres per capita=%{y}<br>population=%{marker.size}<extra></extra>\",\"hovertext\":[\"Central African Republic\",\"Tunisia\",\"Chad\",\"Rwanda\",\"Togo\",\"Congo\",\"Senegal\",\"Uganda\",\"Burkina Faso\",\"Kenya\",\"Burundi\",\"Ethiopia\",\"Cameroon\",\"South Africa\",\"Egypt\",\"Gambia\",\"Gabon\",\"Equatorial Guinea\",\"Eswatini\",\"Ghana\",\"Cote d'Ivoire\",\"Sierra Leone\",\"Guinea-Bissau\",\"Tanzania\",\"Democratic Republic of Congo\",\"Guinea\",\"Mali\",\"Nigeria\",\"Zambia\",\"Madagascar\",\"Malawi\",\"Mozambique\",\"Morocco\",\"Mauritania\",\"Namibia\",\"Liberia\",\"Zimbabwe\",\"Libya\",\"Lesotho\",\"Algeria\",\"Botswana\",\"Benin\",\"Niger\",\"Angola\"],\"ids\":[\"Central African Republic\",\"Tunisia\",\"Chad\",\"Rwanda\",\"Togo\",\"Congo\",\"Senegal\",\"Uganda\",\"Burkina Faso\",\"Kenya\",\"Burundi\",\"Ethiopia\",\"Cameroon\",\"South Africa\",\"Egypt\",\"Gambia\",\"Gabon\",\"Equatorial Guinea\",\"Eswatini\",\"Ghana\",\"Cote d'Ivoire\",\"Sierra Leone\",\"Guinea-Bissau\",\"Tanzania\",\"Democratic Republic of Congo\",\"Guinea\",\"Mali\",\"Nigeria\",\"Zambia\",\"Madagascar\",\"Malawi\",\"Mozambique\",\"Morocco\",\"Mauritania\",\"Namibia\",\"Liberia\",\"Zimbabwe\",\"Libya\",\"Lesotho\",\"Algeria\",\"Botswana\",\"Benin\",\"Niger\",\"Angola\"],\"legendgroup\":\"Africa\",\"marker\":{\"color\":\"#EF553B\",\"size\":[3640421.0,9708347.0,8355654.0,7933688.0,4924406.0,3127420.0,9797731.0,23650159.0,11607951.0,31964557.0,6378871.0,66224808.0,15513944.0,44967713.0,68831561.0,1317708.0,1228359.0,606180.0,1005432.0,19278850.0,16454660.0,4584570.0,1201305.0,33499177.0,47105830.0,8240735.0,10946448.0,122283853.0,10415942.0,15766806.0,11148751.0,17711925.0,28793672.0,2630217.0,1794583.0,2848447.0,11881482.0,5357893.0,2032805.0,31042238.0,1643333.0,6865946.0,11331561.0,16395476.0],\"sizemode\":\"area\",\"sizeref\":571059.1156,\"symbol\":\"circle\"},\"mode\":\"markers\",\"name\":\"Africa\",\"orientation\":\"v\",\"showlegend\":true,\"x\":[1040.10383462572,7329.34512574055,897.34703736949,867.61519073836,1700.44139725969,4402.90145480416,2595.10928846112,1252.75213083501,1296.74796014307,2867.74670834945,828.000459963366,727.766684744805,2750.51116534277,10088.8522469794,7744.71523809311,2270.48649520816,16567.2456051163,11176.5189594963,5579.13655947274,2734.80676341488,4093.87478193688,1063.29719794631,1722.75748109366,1409.45396400343,751.557756784938,1704.9563781541,1627.73231771183,2977.04147454063,1990.85899129325,1614.38228216052,1107.53789395445,630.701613637085,4370.7994905291,4361.21351253339,6804.86674286238,1699.02083585982,3756.13948282406,16746.2738707408,1685.36701365512,8710.45514928455,11439.908400073,2478.21823775079,933.346375903928,4727.96631394756],\"xaxis\":\"x\",\"y\":[3.68,1.36,4.34,13.73,1.79,3.45,0.96,13.61,8.4,3.83,9.82,1.76,6.69,10.02,0.25,4.14,10.59,7.45,7.46,5.3,7.25,5.8,4.15,8.63,0.95,0.67,1.15,12.5,4.05,2.11,2.42,2.33,1.01,0.2,3.26,6.38,2.46,0.064,7.31,0.58,9.05,2.46,0.23,2.76],\"yaxis\":\"y\",\"type\":\"scatter\"},{\"hovertemplate\":\"<b>%{hovertext}</b><br><br>continent=Europe<br>year=2000<br>GDP per capita, $=%{x}<br>Alcohol consumption, litres per capita=%{y}<br>population=%{marker.size}<extra></extra>\",\"hovertext\":[\"Italy\",\"Russia\",\"Ireland\",\"Latvia\",\"Ukraine\",\"Poland\",\"Bulgaria\",\"Portugal\",\"Romania\",\"Switzerland\",\"Germany\",\"Sweden\",\"France\",\"Finland\",\"Estonia\",\"Spain\",\"Iceland\",\"Greece\",\"Hungary\",\"Croatia\",\"Slovakia\",\"Czechia\",\"Slovenia\",\"Denmark\",\"Belarus\",\"Belgium\",\"Norway\",\"Moldova\",\"North Macedonia\",\"Austria\",\"Albania\",\"Netherlands\",\"United Kingdom\",\"Bosnia and Herzegovina\",\"Lithuania\",\"Luxembourg\"],\"ids\":[\"Italy\",\"Russia\",\"Ireland\",\"Latvia\",\"Ukraine\",\"Poland\",\"Bulgaria\",\"Portugal\",\"Romania\",\"Switzerland\",\"Germany\",\"Sweden\",\"France\",\"Finland\",\"Estonia\",\"Spain\",\"Iceland\",\"Greece\",\"Hungary\",\"Croatia\",\"Slovakia\",\"Czechia\",\"Slovenia\",\"Denmark\",\"Belarus\",\"Belgium\",\"Norway\",\"Moldova\",\"North Macedonia\",\"Austria\",\"Albania\",\"Netherlands\",\"United Kingdom\",\"Bosnia and Herzegovina\",\"Lithuania\",\"Luxembourg\"],\"legendgroup\":\"Europe\",\"marker\":{\"color\":\"#00cc96\",\"size\":[56692178.0,146404890.0,3783095.0,2384150.0,48838058.0,38556699.0,7997951.0,10297117.0,22137423.0,7143764.0,81400883.0,8881642.0,59015092.0,5187953.0,1399111.0,40824745.0,280439.0,11082103.0,10220509.0,4428075.0,5399207.0,10289374.0,1987710.0,5341192.0,9871635.0,10282046.0,4499375.0,4202659.0,2034823.0,8069276.0,3129246.0,15926188.0,58923305.0,3751176.0,3501842.0,436106.0],\"sizemode\":\"area\",\"sizeref\":571059.1156,\"symbol\":\"circle\"},\"mode\":\"markers\",\"name\":\"Europe\",\"orientation\":\"v\",\"showlegend\":true,\"x\":[43053.93306429,14569.9365828201,48628.4511384221,12863.3093474278,7221.46560780007,16257.6458763574,10201.2781187994,30383.1378175177,12109.5523994815,59389.4240602209,42864.9328892862,40625.3620520538,39732.2824515749,39894.1944569685,17778.9655754809,34757.615021513,41530.5173238278,29186.324547399,19406.5213432499,18183.5881144119,15660.6438507381,24976.5063182959,26281.0684547863,48907.0114021027,8053.17363808324,43023.30716339,57127.3997508609,5074.37706419218,10182.126070975,46403.2776992589,5893.13623256329,47422.2034047837,38280.8002708435,7114.5527648191,13846.6832884609,95901.0204047436],\"xaxis\":\"x\",\"y\":[10.37,15.73,15.13,8.76,12.46,9.17,11.8,14.08,17.45,12.49,14.16,8.53,14.08,11.69,9.57,12.43,7.03,10.18,14.27,12.45,12.47,15.0,12.6,12.67,15.17,12.49,7.95,13.89,7.31,13.12,6.57,11.08,13.73,6.37,13.36,14.32],\"yaxis\":\"y\",\"type\":\"scatter\"},{\"hovertemplate\":\"<b>%{hovertext}</b><br><br>continent=Asia<br>year=2000<br>GDP per capita, $=%{x}<br>Alcohol consumption, litres per capita=%{y}<br>population=%{marker.size}<extra></extra>\",\"hovertext\":[\"Israel\",\"Iraq\",\"China\",\"Iran\",\"Saudi Arabia\",\"Indonesia\",\"India\",\"Turkey\",\"Japan\",\"Brunei\",\"Laos\",\"Kyrgyzstan\",\"Kuwait\",\"Turkmenistan\",\"Qatar\",\"Cambodia\",\"Jordan\",\"Timor\",\"Georgia\",\"South Korea\",\"Thailand\",\"Cyprus\",\"Tajikistan\",\"Philippines\",\"Kazakhstan\",\"Sri Lanka\",\"Myanmar\",\"Malaysia\",\"Mongolia\",\"Armenia\",\"Pakistan\",\"Azerbaijan\",\"Oman\",\"Vietnam\",\"Lebanon\",\"Uzbekistan\",\"Bangladesh\",\"United Arab Emirates\",\"Nepal\",\"Bhutan\"],\"ids\":[\"Israel\",\"Iraq\",\"China\",\"Iran\",\"Saudi Arabia\",\"Indonesia\",\"India\",\"Turkey\",\"Japan\",\"Brunei\",\"Laos\",\"Kyrgyzstan\",\"Kuwait\",\"Turkmenistan\",\"Qatar\",\"Cambodia\",\"Jordan\",\"Timor\",\"Georgia\",\"South Korea\",\"Thailand\",\"Cyprus\",\"Tajikistan\",\"Philippines\",\"Kazakhstan\",\"Sri Lanka\",\"Myanmar\",\"Malaysia\",\"Mongolia\",\"Armenia\",\"Pakistan\",\"Azerbaijan\",\"Oman\",\"Vietnam\",\"Lebanon\",\"Uzbekistan\",\"Bangladesh\",\"United Arab Emirates\",\"Nepal\",\"Bhutan\"],\"legendgroup\":\"Asia\",\"marker\":{\"color\":\"#ab63fa\",\"size\":[5945949.0,23497589.0,1290550767.0,65623397.0,20663840.0,211513822.0,1056575548.0,63240196.0,127524168.0,333166.0,5323701.0,4920712.0,2045123.0,4516128.0,592467.0,12155241.0,5122495.0,884366.0,4362184.0,47379237.0,62952639.0,943288.0,6216329.0,77991757.0,14922724.0,18777606.0,46719698.0,23194252.0,2397417.0,3069597.0,142343583.0,8122743.0,2267973.0,79910411.0,3842774.0,24769955.0,127657862.0,3134067.0,23941099.0,591014.0],\"sizemode\":\"area\",\"sizeref\":571059.1156,\"symbol\":\"circle\"},\"mode\":\"markers\",\"name\":\"Asia\",\"orientation\":\"v\",\"showlegend\":true,\"x\":[31416.9385084502,9364.59670507821,3451.67923092858,10066.8027843828,41955.2077907276,5689.26022293799,2578.59152976754,15433.5871175503,35611.8039052511,69022.8801555068,2861.27183966636,3078.90925165177,54984.9523488311,4622.07875656117,86566.3028502583,1481.65682787052,8741.7274099193,2328.30466726771,4919.23187995616,22963.638542808,9809.62237014961,33013.9825138552,1324.90986011034,4453.75667171085,10275.7618712984,5949.97002912315,1093.78820723887,15917.0571666512,4528.95594640011,4048.24990407114,3245.37834188783,4063.47164104466,33839.520542694,2954.98290492635,14361.6830243491,2786.43037415465,1937.72919211467,102494.714619638,2077.65205573805,4061.4990262661],\"xaxis\":\"x\",\"y\":[3.08,0.45,3.81,0.21,0.18,0.5,2.28,2.41,8.23,0.23,4.66,9.45,0.038,4.82,1.15,1.87,0.62,1.53,4.41,12.31,6.49,10.86,2.97,6.06,8.18,2.22,0.38,1.53,3.11,4.23,0.085,3.45,6.56,2.21,2.96,5.68,0.23,2.58,1.12,2.77],\"yaxis\":\"y\",\"type\":\"scatter\"},{\"hovertemplate\":\"<b>%{hovertext}</b><br><br>continent=South America<br>year=2000<br>GDP per capita, $=%{x}<br>Alcohol consumption, litres per capita=%{y}<br>population=%{marker.size}<extra></extra>\",\"hovertext\":[\"Chile\",\"Colombia\",\"Brazil\",\"Ecuador\",\"Suriname\",\"Guyana\",\"Uruguay\",\"Argentina\",\"Bolivia\",\"Paraguay\",\"Peru\"],\"ids\":[\"Chile\",\"Colombia\",\"Brazil\",\"Ecuador\",\"Suriname\",\"Guyana\",\"Uruguay\",\"Argentina\",\"Bolivia\",\"Paraguay\",\"Peru\"],\"legendgroup\":\"South America\",\"marker\":{\"color\":\"#FFA15A\",\"size\":[15342350.0,39629965.0,174790339.0,12681123.0,470944.0,746718.0,3319734.0,36870796.0,8418270.0,5323202.0,26459944.0],\"sizemode\":\"area\",\"sizeref\":571059.1156,\"symbol\":\"circle\"},\"mode\":\"markers\",\"name\":\"South America\",\"orientation\":\"v\",\"showlegend\":true,\"x\":[15638.0009435542,9042.66279139813,11600.9484568395,8176.34444775576,13068.206154071,7776.30855726493,14482.7545481357,18625.2835537811,5415.52605950999,8530.20798959163,6422.4805683104],\"xaxis\":\"x\",\"y\":[7.74,5.58,8.78,5.96,5.29,8.98,8.09,8.75,3.44,6.38,6.54],\"yaxis\":\"y\",\"type\":\"scatter\"},{\"hovertemplate\":\"<b>%{hovertext}</b><br><br>continent=Oceania<br>year=2000<br>GDP per capita, $=%{x}<br>Alcohol consumption, litres per capita=%{y}<br>population=%{marker.size}<extra></extra>\",\"hovertext\":[\"Fiji\",\"Solomon Islands\",\"Papua New Guinea\",\"Vanuatu\",\"Australia\",\"New Zealand\"],\"ids\":[\"Fiji\",\"Solomon Islands\",\"Papua New Guinea\",\"Vanuatu\",\"Australia\",\"New Zealand\"],\"legendgroup\":\"Oceania\",\"marker\":{\"color\":\"#19d3f3\",\"size\":[811011.0,412665.0,5847590.0,184964.0,18991434.0,3858992.0],\"sizemode\":\"area\",\"sizeref\":571059.1156,\"symbol\":\"circle\"},\"mode\":\"markers\",\"name\":\"Oceania\",\"orientation\":\"v\",\"showlegend\":true,\"x\":[9575.8788393934,2253.61086190761,2871.41637699376,3068.09586636035,38343.002147534,32837.0978861822],\"xaxis\":\"x\",\"y\":[3.24,1.2,1.79,1.17,11.72,10.42],\"yaxis\":\"y\",\"type\":\"scatter\"}],\"name\":\"2000\"},{\"data\":[{\"hovertemplate\":\"<b>%{hovertext}</b><br><br>continent=North America<br>year=2005<br>GDP per capita, $=%{x}<br>Alcohol consumption, litres per capita=%{y}<br>population=%{marker.size}<extra></extra>\",\"hovertext\":[\"Guatemala\",\"Nicaragua\",\"Jamaica\",\"Panama\",\"Haiti\",\"Honduras\",\"Mexico\",\"Costa Rica\",\"Belize\",\"United States\",\"Bahamas\",\"Trinidad and Tobago\",\"El Salvador\",\"Dominican Republic\"],\"ids\":[\"Guatemala\",\"Nicaragua\",\"Jamaica\",\"Panama\",\"Haiti\",\"Honduras\",\"Mexico\",\"Costa Rica\",\"Belize\",\"United States\",\"Bahamas\",\"Trinidad and Tobago\",\"El Salvador\",\"Dominican Republic\"],\"legendgroup\":\"North America\",\"marker\":{\"color\":\"#636efa\",\"size\":[13096028.0,5438692.0,2740000.0,3330222.0,9195289.0,7458982.0,106005199.0,4285504.0,283798.0,294993509.0,324848.0,1296497.0,6052124.0,9097262.0],\"sizemode\":\"area\",\"sizeref\":571059.1156,\"symbol\":\"circle\"},\"mode\":\"markers\",\"name\":\"North America\",\"orientation\":\"v\",\"showlegend\":true,\"x\":[6753.68253599957,4320.75032069298,9918.04765635067,16301.5159296249,2629.11126147756,4546.24063500184,17788.5891204455,14149.5192435305,7363.87063594467,54353.0685764315,40353.9751920068,24424.857914511,6870.62983910769,10291.303222851],\"xaxis\":\"x\",\"y\":[4.29,5.3,4.43,5.49,3.86,3.88,6.48,5.42,7.16,9.49,4.28,6.17,3.8,6.15],\"yaxis\":\"y\",\"type\":\"scatter\"},{\"hovertemplate\":\"<b>%{hovertext}</b><br><br>continent=Africa<br>year=2005<br>GDP per capita, $=%{x}<br>Alcohol consumption, litres per capita=%{y}<br>population=%{marker.size}<extra></extra>\",\"hovertext\":[\"Guinea\",\"Morocco\",\"Ethiopia\",\"Namibia\",\"Gambia\",\"Niger\",\"Nigeria\",\"Ghana\",\"Mozambique\",\"South Africa\",\"Libya\",\"Liberia\",\"Lesotho\",\"Kenya\",\"Guinea-Bissau\",\"Madagascar\",\"Sierra Leone\",\"Senegal\",\"Mali\",\"Rwanda\",\"Malawi\",\"Mauritania\",\"Gabon\",\"Congo\",\"Benin\",\"Cote d'Ivoire\",\"Burundi\",\"Tanzania\",\"Democratic Republic of Congo\",\"Burkina Faso\",\"Cameroon\",\"Uganda\",\"Tunisia\",\"Central African Republic\",\"Chad\",\"Botswana\",\"Togo\",\"Zambia\",\"Egypt\",\"Algeria\",\"Equatorial Guinea\",\"Zimbabwe\",\"Angola\",\"Eswatini\"],\"ids\":[\"Guinea\",\"Morocco\",\"Ethiopia\",\"Namibia\",\"Gambia\",\"Niger\",\"Nigeria\",\"Ghana\",\"Mozambique\",\"South Africa\",\"Libya\",\"Liberia\",\"Lesotho\",\"Kenya\",\"Guinea-Bissau\",\"Madagascar\",\"Sierra Leone\",\"Senegal\",\"Mali\",\"Rwanda\",\"Malawi\",\"Mauritania\",\"Gabon\",\"Congo\",\"Benin\",\"Cote d'Ivoire\",\"Burundi\",\"Tanzania\",\"Democratic Republic of Congo\",\"Burkina Faso\",\"Cameroon\",\"Uganda\",\"Tunisia\",\"Central African Republic\",\"Chad\",\"Botswana\",\"Togo\",\"Zambia\",\"Egypt\",\"Algeria\",\"Equatorial Guinea\",\"Zimbabwe\",\"Angola\",\"Eswatini\"],\"legendgroup\":\"Africa\",\"marker\":{\"color\":\"#EF553B\",\"size\":[9109585.0,30455563.0,76346310.0,1938316.0,1543745.0,13624474.0,138865014.0,21814648.0,20493927.0,47880595.0,5798615.0,3218114.0,1996115.0,36624897.0,1344931.0,18336722.0,5645629.0,11090123.0,12775509.0,8840220.0,12625950.0,3024198.0,1390550.0,3622775.0,7982223.0,18354513.0,7364857.0,38450323.0,54785894.0,13421935.0,17733408.0,27684590.0,10106778.0,4038380.0,10096630.0,1799077.0,5611643.0,11856244.0,75523576.0,33149720.0,749527.0,12076697.0,19433604.0,1030575.0],\"sizemode\":\"area\",\"sizeref\":571059.1156,\"symbol\":\"circle\"},\"mode\":\"markers\",\"name\":\"Africa\",\"orientation\":\"v\",\"showlegend\":true,\"x\":[1794.38316206248,5227.56263149928,862.35534188426,8014.97385784405,2216.18606202049,961.539888157597,3997.43975061575,3090.18743847289,821.345814204148,11434.9152380948,19883.4829147438,1212.07045001597,1969.63971986002,2992.34077880203,1677.70868916866,1559.87472086079,1244.90141432555,2758.35344646235,1958.8187312822,1148.44637245018,1087.6064639196,4638.00598024501,15761.1484780064,4638.19394755187,2581.64225152969,3670.1809218819,798.704826964119,1719.7277571198,778.96804364136,1527.02215854176,2982.02508108574,1480.0521561082,8523.08877705473,1026.91390767575,1618.13661604613,12484.2304348309,1573.68375172638,2362.9022262854,8397.03244402289,10504.8584676293,32390.2074360136,2517.67270711744,6210.2221878264,6551.01015339516],\"xaxis\":\"x\",\"y\":[0.77,0.96,2.05,2.7,4.27,0.25,12.51,3.77,1.3,9.58,0.083,6.05,5.37,3.01,5.31,1.53,5.57,0.85,1.05,13.0,2.87,0.13,9.36,3.75,2.23,3.3,8.44,8.71,0.86,9.19,7.62,12.92,1.46,3.62,4.62,9.61,3.26,3.9,0.29,0.81,8.91,2.77,4.89,6.71],\"yaxis\":\"y\",\"type\":\"scatter\"},{\"hovertemplate\":\"<b>%{hovertext}</b><br><br>continent=Europe<br>year=2005<br>GDP per capita, $=%{x}<br>Alcohol consumption, litres per capita=%{y}<br>population=%{marker.size}<extra></extra>\",\"hovertext\":[\"Slovakia\",\"North Macedonia\",\"Spain\",\"Finland\",\"Netherlands\",\"Germany\",\"Greece\",\"Slovenia\",\"France\",\"Latvia\",\"Romania\",\"Luxembourg\",\"Lithuania\",\"Italy\",\"Portugal\",\"Poland\",\"Norway\",\"Moldova\",\"Hungary\",\"Iceland\",\"Ireland\",\"Russia\",\"Croatia\",\"Belgium\",\"United Kingdom\",\"Czechia\",\"Belarus\",\"Denmark\",\"Bulgaria\",\"Ukraine\",\"Bosnia and Herzegovina\",\"Estonia\",\"Sweden\",\"Albania\",\"Switzerland\",\"Austria\"],\"ids\":[\"Slovakia\",\"North Macedonia\",\"Spain\",\"Finland\",\"Netherlands\",\"Germany\",\"Greece\",\"Slovenia\",\"France\",\"Latvia\",\"Romania\",\"Luxembourg\",\"Lithuania\",\"Italy\",\"Portugal\",\"Poland\",\"Norway\",\"Moldova\",\"Hungary\",\"Iceland\",\"Ireland\",\"Russia\",\"Croatia\",\"Belgium\",\"United Kingdom\",\"Czechia\",\"Belarus\",\"Denmark\",\"Bulgaria\",\"Ukraine\",\"Bosnia and Herzegovina\",\"Estonia\",\"Sweden\",\"Albania\",\"Switzerland\",\"Austria\"],\"legendgroup\":\"Europe\",\"marker\":{\"color\":\"#00cc96\",\"size\":[5398962.0,2060280.0,44019118.0,5258933.0,16367153.0,81602739.0,11224800.0,1994979.0,61120128.0,2251996.0,21417287.0,457848.0,3344259.0,58281209.0,10508494.0,38368957.0,4632359.0,4159296.0,10085942.0,294976.0,4141218.0,143672125.0,4378066.0,10546885.0,60287953.0,10258165.0,9562083.0,5421701.0,7686964.0,46890775.0,3765332.0,1355650.0,9038627.0,3086810.0,7386818.0,8253656.0],\"sizemode\":\"area\",\"sizeref\":571059.1156,\"symbol\":\"circle\"},\"mode\":\"markers\",\"name\":\"Europe\",\"orientation\":\"v\",\"showlegend\":true,\"x\":[20072.3500036399,11086.1567452985,37963.3658355296,44786.9096643071,49467.4354267059,43884.5352789987,34732.6440722251,31133.7151910898,41643.9888864457,20175.8162019511,16770.6544964025,104025.415860951,21053.1846048184,44260.8274173515,31076.6441205289,18937.4751533604,61870.3837851071,7231.32842221528,24355.7819172586,48104.6518132004,57691.5616452959,20042.8135032629,23538.7544252511,46341.2896407062,42629.9482187521,30384.4466487841,11940.1865961058,51483.273786293,14356.019677453,10957.5582756783,9350.94404211336,26093.1591109829,45440.2967492535,8040.87871678112,61613.3910520748,49316.2647023136],\"xaxis\":\"x\",\"y\":[12.06,7.03,12.83,13.11,10.71,13.28,10.73,12.3,13.09,11.96,15.84,13.58,16.1,9.41,13.37,10.6,8.87,19.95,14.56,7.74,14.2,17.36,10.31,13.13,13.89,14.76,15.3,12.29,11.42,12.01,7.2,15.65,8.64,7.65,11.64,12.79],\"yaxis\":\"y\",\"type\":\"scatter\"},{\"hovertemplate\":\"<b>%{hovertext}</b><br><br>continent=Asia<br>year=2005<br>GDP per capita, $=%{x}<br>Alcohol consumption, litres per capita=%{y}<br>population=%{marker.size}<extra></extra>\",\"hovertext\":[\"Mongolia\",\"Nepal\",\"Myanmar\",\"South Korea\",\"Georgia\",\"Japan\",\"Qatar\",\"Jordan\",\"Kazakhstan\",\"Kuwait\",\"Kyrgyzstan\",\"Laos\",\"Philippines\",\"Lebanon\",\"Oman\",\"Israel\",\"India\",\"Indonesia\",\"Pakistan\",\"Iran\",\"Malaysia\",\"Iraq\",\"Saudi Arabia\",\"Timor\",\"Thailand\",\"Cyprus\",\"Bangladesh\",\"Uzbekistan\",\"Tajikistan\",\"Bhutan\",\"Sri Lanka\",\"Cambodia\",\"Turkey\",\"Brunei\",\"China\",\"United Arab Emirates\",\"Azerbaijan\",\"Turkmenistan\",\"Vietnam\",\"Armenia\"],\"ids\":[\"Mongolia\",\"Nepal\",\"Myanmar\",\"South Korea\",\"Georgia\",\"Japan\",\"Qatar\",\"Jordan\",\"Kazakhstan\",\"Kuwait\",\"Kyrgyzstan\",\"Laos\",\"Philippines\",\"Lebanon\",\"Oman\",\"Israel\",\"India\",\"Indonesia\",\"Pakistan\",\"Iran\",\"Malaysia\",\"Iraq\",\"Saudi Arabia\",\"Timor\",\"Thailand\",\"Cyprus\",\"Bangladesh\",\"Uzbekistan\",\"Tajikistan\",\"Bhutan\",\"Sri Lanka\",\"Cambodia\",\"Turkey\",\"Brunei\",\"China\",\"United Arab Emirates\",\"Azerbaijan\",\"Turkmenistan\",\"Vietnam\",\"Armenia\"],\"legendgroup\":\"Asia\",\"marker\":{\"color\":\"#ab63fa\",\"size\":[2526429.0,25744500.0,48949931.0,48701069.0,4210158.0,128326115.0,865410.0,5765639.0,15402803.0,2270196.0,5075340.0,5751675.0,86326251.0,4698761.0,2511254.0,6529470.0,1147609924.0,226289468.0,160304007.0,69762345.0,25690615.0,26922279.0,23816175.0,995130.0,65416189.0,1027656.0,139035505.0,26427785.0,6789318.0,648744.0,19544988.0,13273355.0,67903461.0,365112.0,1330776380.0,4588222.0,8538610.0,4754652.0,83832662.0,2981262.0],\"sizemode\":\"area\",\"sizeref\":571059.1156,\"symbol\":\"circle\"},\"mode\":\"markers\",\"name\":\"Asia\",\"orientation\":\"v\",\"showlegend\":true,\"x\":[5883.36005710786,2282.68505366778,1911.95597037831,28640.7062360909,7315.19848048057,37489.8533695016,87721.9494076292,10577.2913861175,16536.0154072377,73155.7122110388,3517.72050884889,3584.32029137671,5054.23893301697,14263.7149426343,31909.5027436973,31239.0068599514,3245.29988504732,6699.27209089739,3706.82402332879,11998.2148575374,18114.1441085608,7542.22233395798,44309.5346045295,2272.4450564684,12304.4020760731,37803.5755253568,2279.53127370224,3405.21630793091,1924.11690363046,5456.70774972036,6944.22676755822,2120.55171733923,18251.6691007312,69787.8222042953,5334.6466393818,90894.8988067777,7222.03607503781,5629.0698391954,3931.76536810297,7419.87119017403],\"xaxis\":\"x\",\"y\":[5.28,1.95,1.65,10.58,6.39,7.99,1.67,0.66,9.33,0.019,11.19,4.37,5.67,2.31,1.56,2.7,2.33,0.48,0.16,0.58,1.28,0.44,0.17,0.83,6.81,12.43,0.16,4.15,2.51,1.6,2.59,2.69,2.12,0.21,4.02,3.64,1.81,4.88,2.63,5.79],\"yaxis\":\"y\",\"type\":\"scatter\"},{\"hovertemplate\":\"<b>%{hovertext}</b><br><br>continent=South America<br>year=2005<br>GDP per capita, $=%{x}<br>Alcohol consumption, litres per capita=%{y}<br>population=%{marker.size}<extra></extra>\",\"hovertext\":[\"Guyana\",\"Paraguay\",\"Peru\",\"Uruguay\",\"Bolivia\",\"Colombia\",\"Chile\",\"Brazil\",\"Ecuador\",\"Suriname\",\"Argentina\"],\"ids\":[\"Guyana\",\"Paraguay\",\"Peru\",\"Uruguay\",\"Bolivia\",\"Colombia\",\"Chile\",\"Brazil\",\"Ecuador\",\"Suriname\",\"Argentina\"],\"legendgroup\":\"South America\",\"marker\":{\"color\":\"#FFA15A\",\"size\":[746156.0,5824095.0,27866140.0,3321799.0,9232301.0,42647731.0,16182713.0,186127108.0,13825839.0,499461.0,38892924.0],\"sizemode\":\"area\",\"sizeref\":571059.1156,\"symbol\":\"circle\"},\"mode\":\"markers\",\"name\":\"South America\",\"orientation\":\"v\",\"showlegend\":true,\"x\":[7965.37804381727,8570.09446530592,7519.02906932011,14606.4661146239,5749.5316491022,10049.1261807666,18634.626435638,12565.9413936417,9503.69468951352,15908.3007840511,19426.4401434847],\"xaxis\":\"x\",\"y\":[7.98,6.66,6.99,7.46,4.37,5.41,8.93,8.32,5.81,5.41,8.66],\"yaxis\":\"y\",\"type\":\"scatter\"},{\"hovertemplate\":\"<b>%{hovertext}</b><br><br>continent=Oceania<br>year=2005<br>GDP per capita, $=%{x}<br>Alcohol consumption, litres per capita=%{y}<br>population=%{marker.size}<extra></extra>\",\"hovertext\":[\"Fiji\",\"New Zealand\",\"Solomon Islands\",\"Papua New Guinea\",\"Australia\",\"Vanuatu\"],\"ids\":[\"Fiji\",\"New Zealand\",\"Solomon Islands\",\"Papua New Guinea\",\"Australia\",\"Vanuatu\"],\"legendgroup\":\"Oceania\",\"marker\":{\"color\":\"#19d3f3\",\"size\":[821606.0,4135353.0,469918.0,6494902.0,20178543.0,209282.0],\"sizemode\":\"area\",\"sizeref\":571059.1156,\"symbol\":\"circle\"},\"mode\":\"markers\",\"name\":\"Oceania\",\"orientation\":\"v\",\"showlegend\":true,\"x\":[10656.1632257559,37293.2137650567,2122.96352695466,2877.11564572546,42217.136349705,2835.92704585306],\"xaxis\":\"x\",\"y\":[2.78,10.92,1.6,1.6,12.08,1.2],\"yaxis\":\"y\",\"type\":\"scatter\"}],\"name\":\"2005\"},{\"data\":[{\"hovertemplate\":\"<b>%{hovertext}</b><br><br>continent=North America<br>year=2010<br>GDP per capita, $=%{x}<br>Alcohol consumption, litres per capita=%{y}<br>population=%{marker.size}<extra></extra>\",\"hovertext\":[\"Nicaragua\",\"Bahamas\",\"Mexico\",\"Belize\",\"Panama\",\"United States\",\"Guatemala\",\"Haiti\",\"Honduras\",\"Costa Rica\",\"Dominican Republic\",\"El Salvador\",\"Jamaica\",\"Trinidad and Tobago\",\"Canada\"],\"ids\":[\"Nicaragua\",\"Bahamas\",\"Mexico\",\"Belize\",\"Panama\",\"United States\",\"Guatemala\",\"Haiti\",\"Honduras\",\"Costa Rica\",\"Dominican Republic\",\"El Salvador\",\"Jamaica\",\"Trinidad and Tobago\",\"Canada\"],\"legendgroup\":\"North America\",\"marker\":{\"color\":\"#636efa\",\"size\":[5824058.0,354936.0,114092961.0,322465.0,3642691.0,309011469.0,14630420.0,9949318.0,8317467.0,4577371.0,9695117.0,6183877.0,2810464.0,1328144.0,34147566.0],\"sizemode\":\"area\",\"sizeref\":571059.1156,\"symbol\":\"circle\"},\"mode\":\"markers\",\"name\":\"North America\",\"orientation\":\"v\",\"showlegend\":true,\"x\":[4611.78569153692,36504.4070465871,17790.0119218899,7294.68414297853,21343.3049948781,54315.9124805391,7335.98897429945,2735.28361704383,4866.97393107266,16830.4361782214,12782.4571724153,7328.71990965521,9435.76084179983,28879.2873679678,44861.5239641879],\"xaxis\":\"x\",\"y\":[4.79,4.12,5.21,7.08,6.84,9.36,3.51,2.99,3.59,4.8,6.11,3.31,4.38,6.21,10.1],\"yaxis\":\"y\",\"type\":\"scatter\"},{\"hovertemplate\":\"<b>%{hovertext}</b><br><br>continent=Africa<br>year=2010<br>GDP per capita, $=%{x}<br>Alcohol consumption, litres per capita=%{y}<br>population=%{marker.size}<extra></extra>\",\"hovertext\":[\"Angola\",\"Namibia\",\"Niger\",\"Lesotho\",\"Botswana\",\"Algeria\",\"Burkina Faso\",\"Kenya\",\"Zimbabwe\",\"Zambia\",\"Uganda\",\"Mali\",\"Mauritania\",\"Liberia\",\"Malawi\",\"Libya\",\"Nigeria\",\"Benin\",\"Mozambique\",\"Madagascar\",\"Morocco\",\"Eswatini\",\"Democratic Republic of Congo\",\"Guinea\",\"Guinea-Bissau\",\"Tanzania\",\"Sierra Leone\",\"Cote d'Ivoire\",\"Senegal\",\"Ethiopia\",\"Equatorial Guinea\",\"Gabon\",\"South Africa\",\"Egypt\",\"Gambia\",\"Ghana\",\"Chad\",\"Rwanda\",\"Cameroon\",\"Tunisia\",\"Central African Republic\",\"Congo\",\"Burundi\",\"Togo\"],\"ids\":[\"Angola\",\"Namibia\",\"Niger\",\"Lesotho\",\"Botswana\",\"Algeria\",\"Burkina Faso\",\"Kenya\",\"Zimbabwe\",\"Zambia\",\"Uganda\",\"Mali\",\"Mauritania\",\"Liberia\",\"Malawi\",\"Libya\",\"Nigeria\",\"Benin\",\"Mozambique\",\"Madagascar\",\"Morocco\",\"Eswatini\",\"Democratic Republic of Congo\",\"Guinea\",\"Guinea-Bissau\",\"Tanzania\",\"Sierra Leone\",\"Cote d'Ivoire\",\"Senegal\",\"Ethiopia\",\"Equatorial Guinea\",\"Gabon\",\"South Africa\",\"Egypt\",\"Gambia\",\"Ghana\",\"Chad\",\"Rwanda\",\"Cameroon\",\"Tunisia\",\"Central African Republic\",\"Congo\",\"Burundi\",\"Togo\"],\"legendgroup\":\"Africa\",\"marker\":{\"color\":\"#EF553B\",\"size\":[23356247.0,2118877.0,16464025.0,1995575.0,1987106.0,35977451.0,15605211.0,42030684.0,12697728.0,13605986.0,32428164.0,15049352.0,3494200.0,3891357.0,14539609.0,6197667.0,158503203.0,9199254.0,23531567.0,21151640.0,32343384.0,1064841.0,64563853.0,10192168.0,1522603.0,44346532.0,6415636.0,20532944.0,12678143.0,87639962.0,943640.0,1624146.0,51216967.0,82761244.0,1793199.0,24779614.0,11952134.0,10039338.0,20341236.0,10635245.0,4386765.0,4273738.0,8675606.0,6421674.0],\"sizemode\":\"area\",\"sizeref\":571059.1156,\"symbol\":\"circle\"},\"mode\":\"markers\",\"name\":\"Africa\",\"orientation\":\"v\",\"showlegend\":true,\"x\":[7692.43428623311,9031.16059358875,1036.90430530082,2346.71329671032,14126.382270078,10970.7063686682,1716.35832279765,3329.85375197704,2458.22062578173,3125.52884870272,1861.2824578388,2082.96193463428,4767.37736625119,1420.04624575477,1350.59916998263,22539.8927593081,4932.33479996173,2704.7054840378,1027.20887652935,1553.40472203739,6281.46419122613,7459.22797562412,865.684040221023,1870.80005065288,1747.23748547332,2006.97132607023,1413.56373614617,3660.90384745152,2797.11016032924,1259.02258051063,34732.2191497036,14415.4459113912,12452.3375290857,10340.0732290684,2346.72047883159,3729.47590321705,1732.69158409284,1507.16501035777,3086.2214744681,10113.3703487395,1201.35219681679,5172.76090245052,846.169136789899,1625.54544570615],\"xaxis\":\"x\",\"y\":[8.16,1.99,0.31,6.5,8.62,0.65,8.58,3.29,3.93,5.43,13.5,1.09,0.086,5.37,3.21,0.098,11.72,2.47,1.63,1.87,0.9,6.82,1.75,0.7,4.47,9.74,5.83,2.53,0.6,2.5,9.2,9.89,10.04,0.36,3.81,4.26,6.58,10.27,8.43,1.4,3.98,6.17,7.66,2.11],\"yaxis\":\"y\",\"type\":\"scatter\"},{\"hovertemplate\":\"<b>%{hovertext}</b><br><br>continent=Europe<br>year=2010<br>GDP per capita, $=%{x}<br>Alcohol consumption, litres per capita=%{y}<br>population=%{marker.size}<extra></extra>\",\"hovertext\":[\"Ukraine\",\"Bosnia and Herzegovina\",\"Latvia\",\"Bulgaria\",\"Poland\",\"Netherlands\",\"Albania\",\"Belarus\",\"North Macedonia\",\"Montenegro\",\"Austria\",\"Norway\",\"Belgium\",\"Moldova\",\"United Kingdom\",\"Lithuania\",\"Luxembourg\",\"Greece\",\"Slovenia\",\"Slovakia\",\"Czechia\",\"Portugal\",\"Serbia\",\"Hungary\",\"Denmark\",\"Switzerland\",\"Spain\",\"Estonia\",\"Finland\",\"France\",\"Sweden\",\"Germany\",\"Iceland\",\"Croatia\",\"Italy\",\"Russia\",\"Romania\",\"Ireland\"],\"ids\":[\"Ukraine\",\"Bosnia and Herzegovina\",\"Latvia\",\"Bulgaria\",\"Poland\",\"Netherlands\",\"Albania\",\"Belarus\",\"North Macedonia\",\"Montenegro\",\"Austria\",\"Norway\",\"Belgium\",\"Moldova\",\"United Kingdom\",\"Lithuania\",\"Luxembourg\",\"Greece\",\"Slovenia\",\"Slovakia\",\"Czechia\",\"Portugal\",\"Serbia\",\"Hungary\",\"Denmark\",\"Switzerland\",\"Spain\",\"Estonia\",\"Finland\",\"France\",\"Sweden\",\"Germany\",\"Iceland\",\"Croatia\",\"Italy\",\"Russia\",\"Romania\",\"Ireland\"],\"legendgroup\":\"Europe\",\"marker\":{\"color\":\"#00cc96\",\"size\":[45792086.0,3705478.0,2118855.0,7425011.0,38329784.0,16682927.0,2948029.0,9420576.0,2070737.0,624279.0,8409945.0,4885878.0,10938735.0,4086090.0,63459801.0,3123825.0,507890.0,10887640.0,2043336.0,5404293.0,10536514.0,10596055.0,8991258.0,9927380.0,5554849.0,7808674.0,46931011.0,1332103.0,5365784.0,62879535.0,9390157.0,80827001.0,320342.0,4328163.0,59325232.0,143479273.0,20471860.0,4554330.0],\"sizemode\":\"area\",\"sizeref\":571059.1156,\"symbol\":\"circle\"},\"mode\":\"markers\",\"name\":\"Europe\",\"orientation\":\"v\",\"showlegend\":true,\"x\":[11778.3136960259,10938.2850480476,21023.9013349872,17440.671883099,23996.1397804791,52032.9865022429,10749.4874481658,17288.4043493433,13412.3128319948,16764.3623723454,51769.1455641151,61353.4963937525,47971.6303134944,8550.170639047,42089.0136357977,23942.7603567557,107703.453907485,33753.6177475922,33355.8476287757,25417.8123610242,33483.137594809,31798.1538079411,14510.9633040097,24427.6287331225,50825.4122929358,65819.7372527487,37319.4762230353,26133.3818108942,45874.6613021399,42147.6716766942,47791.3715245947,46929.9934093156,47457.6229185836,24280.6026929712,42664.3552727925,23961.2202930302,20303.1627966692,53725.033597612],\"xaxis\":\"x\",\"y\":[13.57,7.32,11.63,11.32,11.21,10.21,7.69,17.43,5.93,15.07,12.2,8.94,11.4,15.54,12.06,15.25,12.98,9.67,11.54,12.0,14.06,12.51,11.69,12.09,11.0,11.41,10.03,12.39,12.59,12.4,9.49,12.64,7.5,10.08,7.34,15.87,13.97,12.07],\"yaxis\":\"y\",\"type\":\"scatter\"},{\"hovertemplate\":\"<b>%{hovertext}</b><br><br>continent=Asia<br>year=2010<br>GDP per capita, $=%{x}<br>Alcohol consumption, litres per capita=%{y}<br>population=%{marker.size}<extra></extra>\",\"hovertext\":[\"Lebanon\",\"Azerbaijan\",\"Turkmenistan\",\"Kuwait\",\"Kyrgyzstan\",\"Brunei\",\"Laos\",\"Philippines\",\"United Arab Emirates\",\"Nepal\",\"Bhutan\",\"Malaysia\",\"Pakistan\",\"Bangladesh\",\"Mongolia\",\"Oman\",\"Uzbekistan\",\"Myanmar\",\"Vietnam\",\"Armenia\",\"Afghanistan\",\"Kazakhstan\",\"Tajikistan\",\"Cyprus\",\"Thailand\",\"Sri Lanka\",\"South Korea\",\"Georgia\",\"Qatar\",\"Iraq\",\"Iran\",\"Timor\",\"Israel\",\"China\",\"Japan\",\"Turkey\",\"India\",\"Jordan\",\"Cambodia\",\"Saudi Arabia\",\"Indonesia\"],\"ids\":[\"Lebanon\",\"Azerbaijan\",\"Turkmenistan\",\"Kuwait\",\"Kyrgyzstan\",\"Brunei\",\"Laos\",\"Philippines\",\"United Arab Emirates\",\"Nepal\",\"Bhutan\",\"Malaysia\",\"Pakistan\",\"Bangladesh\",\"Mongolia\",\"Oman\",\"Uzbekistan\",\"Myanmar\",\"Vietnam\",\"Armenia\",\"Afghanistan\",\"Kazakhstan\",\"Tajikistan\",\"Cyprus\",\"Thailand\",\"Sri Lanka\",\"South Korea\",\"Georgia\",\"Qatar\",\"Iraq\",\"Iran\",\"Timor\",\"Israel\",\"China\",\"Japan\",\"Turkey\",\"India\",\"Jordan\",\"Cambodia\",\"Saudi Arabia\",\"Indonesia\"],\"legendgroup\":\"Asia\",\"marker\":{\"color\":\"#ab63fa\",\"size\":[4953064.0,9032465.0,5087211.0,2991884.0,5422298.0,388634.0,6249168.0,93966784.0,8549998.0,27013207.0,685502.0,28208028.0,179424643.0,147575433.0,2719902.0,3041435.0,28515908.0,50600827.0,87967655.0,2877314.0,29185511.0,16252273.0,7527397.0,1112617.0,67195032.0,20261738.0,49545638.0,4099095.0,1856329.0,29741977.0,73762519.0,1093517.0,7346446.0,1368810604.0,128542349.0,72326992.0,1234281163.0,7261541.0,14312205.0,27421468.0,241834226.0],\"sizemode\":\"area\",\"sizeref\":571059.1156,\"symbol\":\"circle\"},\"mode\":\"markers\",\"name\":\"Asia\",\"orientation\":\"v\",\"showlegend\":true,\"x\":[19499.1728019089,14312.7561158751,8616.88953254413,58810.4048692567,4141.07720559948,67753.4217667143,4850.17506683389,5918.37322881976,54921.7755754851,2703.41491670115,8190.57622279014,20536.372513472,3906.87397085543,2883.46679391309,7479.78090233711,33864.9837422885,4651.52296182589,3129.92025489038,5089.41101647328,9286.19732701296,1957.02906990812,20751.2572399462,2390.02217412609,38379.0903965443,14399.0445142977,9126.86561223093,34394.4904890551,9736.73209374292,95908.3128170241,8748.50877615095,13805.7038219488,2930.05449067477,34800.2474731642,8884.58803122605,37586.1671466567,20027.6668282982,4234.97957334961,11315.5027028063,2716.69973756029,44036.7673465341,8286.7328696642],\"xaxis\":\"x\",\"y\":[1.94,2.97,4.82,0.032,10.08,0.51,7.1,6.98,3.15,1.94,0.92,1.32,0.19,0.16,9.65,0.73,3.01,2.9,4.9,5.69,0.21,4.97,2.4,11.35,7.71,3.92,9.97,9.67,1.69,0.49,1.01,0.7,3.12,7.07,7.2,2.32,4.35,0.64,4.91,0.17,0.59],\"yaxis\":\"y\",\"type\":\"scatter\"},{\"hovertemplate\":\"<b>%{hovertext}</b><br><br>continent=South America<br>year=2010<br>GDP per capita, $=%{x}<br>Alcohol consumption, litres per capita=%{y}<br>population=%{marker.size}<extra></extra>\",\"hovertext\":[\"Peru\",\"Brazil\",\"Bolivia\",\"Paraguay\",\"Uruguay\",\"Argentina\",\"Guyana\",\"Suriname\",\"Ecuador\",\"Chile\",\"Colombia\"],\"ids\":[\"Peru\",\"Brazil\",\"Bolivia\",\"Paraguay\",\"Uruguay\",\"Argentina\",\"Guyana\",\"Suriname\",\"Ecuador\",\"Chile\",\"Colombia\"],\"legendgroup\":\"South America\",\"marker\":{\"color\":\"#FFA15A\",\"size\":[29027680.0,195713637.0,10048597.0,6248017.0,3359273.0,40895751.0,749430.0,529126.0,15011114.0,17062531.0,45222699.0],\"sizemode\":\"area\",\"sizeref\":571059.1156,\"symbol\":\"circle\"},\"mode\":\"markers\",\"name\":\"South America\",\"orientation\":\"v\",\"showlegend\":true,\"x\":[10066.4675664813,14873.2083173363,6612.80335711566,10415.6564362312,19293.7407978576,23521.2701750961,9789.01670024955,18840.3689668707,10340.9702972165,21262.4669863019,11783.2999142858],\"xaxis\":\"x\",\"y\":[7.69,8.49,5.56,7.58,7.1,9.09,6.78,6.22,6.16,9.31,5.04],\"yaxis\":\"y\",\"type\":\"scatter\"},{\"hovertemplate\":\"<b>%{hovertext}</b><br><br>continent=Oceania<br>year=2010<br>GDP per capita, $=%{x}<br>Alcohol consumption, litres per capita=%{y}<br>population=%{marker.size}<extra></extra>\",\"hovertext\":[\"Vanuatu\",\"Australia\",\"Papua New Guinea\",\"Fiji\",\"New Zealand\",\"Solomon Islands\"],\"ids\":[\"Vanuatu\",\"Australia\",\"Papua New Guinea\",\"Fiji\",\"New Zealand\",\"Solomon Islands\"],\"legendgroup\":\"Oceania\",\"marker\":{\"color\":\"#19d3f3\",\"size\":[236216.0,22154687.0,7310512.0,859816.0,4370060.0,527861.0],\"sizemode\":\"area\",\"sizeref\":571059.1156,\"symbol\":\"circle\"},\"mode\":\"markers\",\"name\":\"Oceania\",\"orientation\":\"v\",\"showlegend\":true,\"x\":[3088.97887864833,44991.7837148741,3406.64403989259,10547.9303978854,37657.1432046716,2439.86232530792],\"xaxis\":\"x\",\"y\":[1.7,12.39,1.67,3.0,11.32,1.6],\"yaxis\":\"y\",\"type\":\"scatter\"}],\"name\":\"2010\"},{\"data\":[{\"hovertemplate\":\"<b>%{hovertext}</b><br><br>continent=North America<br>year=2015<br>GDP per capita, $=%{x}<br>Alcohol consumption, litres per capita=%{y}<br>population=%{marker.size}<extra></extra>\",\"hovertext\":[\"Nicaragua\",\"Panama\",\"United States\",\"Trinidad and Tobago\",\"Canada\",\"Haiti\",\"Honduras\",\"Jamaica\",\"Guatemala\",\"Dominican Republic\",\"El Salvador\",\"Costa Rica\",\"Bahamas\",\"Mexico\",\"Belize\"],\"ids\":[\"Nicaragua\",\"Panama\",\"United States\",\"Trinidad and Tobago\",\"Canada\",\"Haiti\",\"Honduras\",\"Jamaica\",\"Guatemala\",\"Dominican Republic\",\"El Salvador\",\"Costa Rica\",\"Bahamas\",\"Mexico\",\"Belize\"],\"legendgroup\":\"North America\",\"marker\":{\"color\":\"#636efa\",\"size\":[6223234.0,3968490.0,320878312.0,1370332.0,36026668.0,10695540.0,9112904.0,2891024.0,16252425.0,10281675.0,6325121.0,4847805.0,374200.0,121858251.0,360926.0],\"sizemode\":\"area\",\"sizeref\":571059.1156,\"symbol\":\"circle\"},\"mode\":\"markers\",\"name\":\"North America\",\"orientation\":\"v\",\"showlegend\":true,\"x\":[5630.40573760444,28431.0824221868,58540.2960929977,29053.3347831462,47522.1406673151,2941.81608076667,5283.41691357908,9473.10619523862,8125.65553391647,15328.3595089817,8143.22444194766,19141.6830724515,35400.6494660106,19268.9143963283,7358.58229184617],\"xaxis\":\"x\",\"y\":[5.03,7.71,9.82,6.88,8.88,2.69,3.49,4.19,2.55,6.61,3.59,4.76,4.55,4.92,6.74],\"yaxis\":\"y\",\"type\":\"scatter\"},{\"hovertemplate\":\"<b>%{hovertext}</b><br><br>continent=Africa<br>year=2015<br>GDP per capita, $=%{x}<br>Alcohol consumption, litres per capita=%{y}<br>population=%{marker.size}<extra></extra>\",\"hovertext\":[\"Niger\",\"Nigeria\",\"Sudan\",\"Uganda\",\"South Africa\",\"Tunisia\",\"Zambia\",\"Senegal\",\"Rwanda\",\"Tanzania\",\"Sierra Leone\",\"Somalia\",\"Togo\",\"Guinea-Bissau\",\"Cameroon\",\"Burundi\",\"Burkina Faso\",\"Botswana\",\"Guinea\",\"Central African Republic\",\"Djibouti\",\"Democratic Republic of Congo\",\"Egypt\",\"Equatorial Guinea\",\"Cote d'Ivoire\",\"Eswatini\",\"Kenya\",\"Ethiopia\",\"Congo\",\"Gabon\",\"Gambia\",\"Ghana\",\"Chad\",\"Mozambique\",\"Angola\",\"Morocco\",\"Madagascar\",\"Malawi\",\"Zimbabwe\",\"Mali\",\"Mauritania\",\"Libya\",\"Liberia\",\"Namibia\",\"Benin\",\"Lesotho\",\"Algeria\"],\"ids\":[\"Niger\",\"Nigeria\",\"Sudan\",\"Uganda\",\"South Africa\",\"Tunisia\",\"Zambia\",\"Senegal\",\"Rwanda\",\"Tanzania\",\"Sierra Leone\",\"Somalia\",\"Togo\",\"Guinea-Bissau\",\"Cameroon\",\"Burundi\",\"Burkina Faso\",\"Botswana\",\"Guinea\",\"Central African Republic\",\"Djibouti\",\"Democratic Republic of Congo\",\"Egypt\",\"Equatorial Guinea\",\"Cote d'Ivoire\",\"Eswatini\",\"Kenya\",\"Ethiopia\",\"Congo\",\"Gabon\",\"Gambia\",\"Ghana\",\"Chad\",\"Mozambique\",\"Angola\",\"Morocco\",\"Madagascar\",\"Malawi\",\"Zimbabwe\",\"Mali\",\"Mauritania\",\"Libya\",\"Liberia\",\"Namibia\",\"Benin\",\"Lesotho\",\"Algeria\"],\"legendgroup\":\"Africa\",\"marker\":{\"color\":\"#EF553B\",\"size\":[20001663.0,181137454.0,38902948.0,38225447.0,55386369.0,11179951.0,15879370.0,14578450.0,11369066.0,51482638.0,7171909.0,13797204.0,7323162.0,1737207.0,23298376.0,10160034.0,18110616.0,2120716.0,11432096.0,4493171.0,913998.0,76244532.0,92442549.0,1168575.0,23226148.0,1104038.0,47878339.0,100835453.0,4856093.0,1947690.0,2085860.0,27849203.0,14110971.0,27042001.0,27884380.0,34663608.0,24234080.0,16745305.0,13814642.0,17438772.0,4046304.0,6418315.0,4472229.0,2314901.0,10575962.0,2059011.0,39728020.0],\"sizemode\":\"area\",\"sizeref\":571059.1156,\"symbol\":\"circle\"},\"mode\":\"markers\",\"name\":\"Africa\",\"orientation\":\"v\",\"showlegend\":true,\"x\":[1132.33120491778,5514.77027265177,4187.86272224264,2054.09044873783,12840.0354033768,10510.3303060416,3443.55325404862,2966.45534736483,1889.15810576486,2354.13898543629,1551.82309051333,879.276531935612,1920.46930701736,1800.06338150248,3458.69271277942,825.20566069269,1925.33207544524,16714.3978216526,2087.93502637033,852.749236638592,4488.80265798112,1065.24257721582,10570.4452319757,28313.4331590396,4417.15021465621,8304.65845837116,3824.75930317654,1779.0841114169,5227.93427667066,15510.0389513624,2058.65814621739,4662.30319092518,1857.10786365964,1262.61312778202,8036.41089824639,7126.67058575575,1546.76704618335,1432.08525892858,3198.982128793,2139.73629713506,5127.43228246614,11022.4292135086,1580.47922766632,10662.8299304666,2945.97022066349,2701.42185521194,11696.9652290603],\"xaxis\":\"x\",\"y\":[0.55,10.81,0.52,15.14,9.61,1.99,6.89,0.73,9.26,11.05,5.63,0.013,2.37,5.05,6.17,7.03,11.83,6.86,1.07,2.43,0.49,2.05,0.4,9.08,2.61,9.84,2.77,2.19,7.9,9.57,3.67,3.12,1.45,2.19,7.96,0.7,1.88,3.62,4.92,1.25,0.033,0.029,5.7,5.23,2.97,4.8,0.93],\"yaxis\":\"y\",\"type\":\"scatter\"},{\"hovertemplate\":\"<b>%{hovertext}</b><br><br>continent=Europe<br>year=2015<br>GDP per capita, $=%{x}<br>Alcohol consumption, litres per capita=%{y}<br>population=%{marker.size}<extra></extra>\",\"hovertext\":[\"Spain\",\"Portugal\",\"Poland\",\"United Kingdom\",\"Serbia\",\"Slovakia\",\"Ukraine\",\"Russia\",\"Norway\",\"Switzerland\",\"Slovenia\",\"North Macedonia\",\"Romania\",\"Sweden\",\"Hungary\",\"Iceland\",\"Bulgaria\",\"Ireland\",\"Italy\",\"Bosnia and Herzegovina\",\"Greece\",\"Czechia\",\"Croatia\",\"Estonia\",\"Finland\",\"France\",\"Germany\",\"Denmark\",\"Moldova\",\"Lithuania\",\"Luxembourg\",\"Montenegro\",\"Austria\",\"Belarus\",\"Belgium\",\"Albania\",\"Latvia\",\"Netherlands\"],\"ids\":[\"Spain\",\"Portugal\",\"Poland\",\"United Kingdom\",\"Serbia\",\"Slovakia\",\"Ukraine\",\"Russia\",\"Norway\",\"Switzerland\",\"Slovenia\",\"North Macedonia\",\"Romania\",\"Sweden\",\"Hungary\",\"Iceland\",\"Bulgaria\",\"Ireland\",\"Italy\",\"Bosnia and Herzegovina\",\"Greece\",\"Czechia\",\"Croatia\",\"Estonia\",\"Finland\",\"France\",\"Germany\",\"Denmark\",\"Moldova\",\"Lithuania\",\"Luxembourg\",\"Montenegro\",\"Austria\",\"Belarus\",\"Belgium\",\"Albania\",\"Latvia\",\"Netherlands\"],\"legendgroup\":\"Europe\",\"marker\":{\"color\":\"#00cc96\",\"size\":[46671919.0,10368346.0,38034076.0,65860149.0,8876777.0,5435614.0,44921636.0,144985059.0,5199827.0,8296775.0,2071199.0,2079335.0,19925182.0,9764949.0,9777925.0,330237.0,7199739.0,4652420.0,60578489.0,3429362.0,10659737.0,10601390.0,4232874.0,1315330.0,5481128.0,64453194.0,81787411.0,5688695.0,4070705.0,2931872.0,566741.0,626957.0,8678667.0,9439424.0,11287931.0,2890524.0,1997675.0,16938492.0],\"sizemode\":\"area\",\"sizeref\":571059.1156,\"symbol\":\"circle\"},\"mode\":\"markers\",\"name\":\"Europe\",\"orientation\":\"v\",\"showlegend\":true,\"x\":[37377.068016704,31118.7906703279,27797.0584233597,44840.7826443684,15578.2028500791,28676.2656111842,11237.0744571217,25488.0961196394,62987.5358625454,68025.9200383988,33805.030045384,15072.9475418471,23878.1885373067,50928.962975552,27499.3244662857,52142.9328074888,19620.1539761978,72251.1535363159,40247.8290437942,12630.6623426277,28248.1259561464,36168.4185553861,24562.453617545,31146.7545222679,45072.5902146238,43345.7864281559,51083.9216615196,52892.6460290247,10360.8295911083,30748.1963109529,110446.086101647,18263.6006034136,52798.0994607541,18307.5196678406,49455.4413365318,11878.4880933446,26621.2722286526,52974.1162200949],\"xaxis\":\"x\",\"y\":[11.32,11.88,11.63,11.21,8.7,11.53,10.16,12.47,7.52,11.58,12.74,5.93,11.64,9.13,11.6,8.74,12.34,12.47,7.59,6.92,10.49,14.25,9.07,12.39,11.18,12.64,13.06,10.36,11.87,15.38,13.18,10.92,12.07,12.0,11.82,6.74,12.64,9.55],\"yaxis\":\"y\",\"type\":\"scatter\"},{\"hovertemplate\":\"<b>%{hovertext}</b><br><br>continent=Asia<br>year=2015<br>GDP per capita, $=%{x}<br>Alcohol consumption, litres per capita=%{y}<br>population=%{marker.size}<extra></extra>\",\"hovertext\":[\"South Korea\",\"Turkmenistan\",\"Philippines\",\"Sri Lanka\",\"Qatar\",\"Vietnam\",\"Saudi Arabia\",\"Thailand\",\"Timor\",\"United Arab Emirates\",\"Pakistan\",\"Tajikistan\",\"Uzbekistan\",\"Oman\",\"Turkey\",\"Kuwait\",\"Cambodia\",\"India\",\"Indonesia\",\"Iran\",\"Iraq\",\"Brunei\",\"Japan\",\"Jordan\",\"Kazakhstan\",\"Cyprus\",\"China\",\"Georgia\",\"Bhutan\",\"Israel\",\"Azerbaijan\",\"Malaysia\",\"Mongolia\",\"Armenia\",\"Bangladesh\",\"Myanmar\",\"Nepal\",\"Lebanon\",\"Laos\",\"Kyrgyzstan\",\"Afghanistan\"],\"ids\":[\"South Korea\",\"Turkmenistan\",\"Philippines\",\"Sri Lanka\",\"Qatar\",\"Vietnam\",\"Saudi Arabia\",\"Thailand\",\"Timor\",\"United Arab Emirates\",\"Pakistan\",\"Tajikistan\",\"Uzbekistan\",\"Oman\",\"Turkey\",\"Kuwait\",\"Cambodia\",\"India\",\"Indonesia\",\"Iran\",\"Iraq\",\"Brunei\",\"Japan\",\"Jordan\",\"Kazakhstan\",\"Cyprus\",\"China\",\"Georgia\",\"Bhutan\",\"Israel\",\"Azerbaijan\",\"Malaysia\",\"Mongolia\",\"Armenia\",\"Bangladesh\",\"Myanmar\",\"Nepal\",\"Lebanon\",\"Laos\",\"Kyrgyzstan\",\"Afghanistan\"],\"legendgroup\":\"Asia\",\"marker\":{\"color\":\"#ab63fa\",\"size\":[50823087.0,5565283.0,102113206.0,20908024.0,2565708.0,92677082.0,31717676.0,68714519.0,1196294.0,9262896.0,199426953.0,8454019.0,30929556.0,4267341.0,78529413.0,3835588.0,15521435.0,1310152392.0,258383257.0,78492208.0,35572269.0,414914.0,127985139.0,9266573.0,17572010.0,1160987.0,1406847868.0,4024180.0,727885.0,7978496.0,9622741.0,30270965.0,2998433.0,2925559.0,156256287.0,52680724.0,27015033.0,6532681.0,6741160.0,5959126.0,34413603.0],\"sizemode\":\"area\",\"sizeref\":571059.1156,\"symbol\":\"circle\"},\"mode\":\"markers\",\"name\":\"Asia\",\"orientation\":\"v\",\"showlegend\":true,\"x\":[38828.7409976118,12993.5318096291,7300.13621040525,11890.5165276211,95965.2512366176,6438.25985369358,48921.2152517247,16285.3865749723,3297.88916309166,65218.8204340815,4278.34666284049,2984.49491330069,6086.71574219326,30146.9560518823,25958.6407622392,54834.3916726177,3546.33938731031,5464.39405731664,10149.6038700252,12698.1091975659,10122.2007755733,63147.4834900843,39777.5310167672,10145.8366996846,24290.4176339265,34472.2985065115,12691.8215526921,12605.1400698178,10086.0727954667,37554.5986562961,14853.9105525729,24787.8237457166,11022.9785342491,11321.3325403745,3700.11082057504,4268.5006767951,3331.87176945857,16299.2077629854,6543.67068865935,4805.14109238388,2068.26590413364],\"xaxis\":\"x\",\"y\":[10.04,5.3,6.7,4.1,1.62,7.86,0.2,8.36,2.01,3.79,0.29,3.11,2.59,0.77,2.12,0.003,6.37,5.54,0.6,1.01,0.37,0.46,7.87,0.69,4.66,10.76,7.15,9.61,0.42,3.86,4.58,0.85,10.97,5.84,0.021,4.41,2.05,1.65,10.05,7.59,0.21],\"yaxis\":\"y\",\"type\":\"scatter\"},{\"hovertemplate\":\"<b>%{hovertext}</b><br><br>continent=South America<br>year=2015<br>GDP per capita, $=%{x}<br>Alcohol consumption, litres per capita=%{y}<br>population=%{marker.size}<extra></extra>\",\"hovertext\":[\"Suriname\",\"Paraguay\",\"Uruguay\",\"Peru\",\"Guyana\",\"Brazil\",\"Bolivia\",\"Ecuador\",\"Colombia\",\"Chile\",\"Argentina\"],\"ids\":[\"Suriname\",\"Paraguay\",\"Uruguay\",\"Peru\",\"Guyana\",\"Brazil\",\"Bolivia\",\"Ecuador\",\"Colombia\",\"Chile\",\"Argentina\"],\"legendgroup\":\"South America\",\"marker\":{\"color\":\"#FFA15A\",\"size\":[559136.0,6688746.0,3412013.0,30470739.0,767433.0,204471759.0,10869732.0,16212022.0,47520667.0,17969356.0,43075416.0],\"sizemode\":\"area\",\"sizeref\":571059.1156,\"symbol\":\"circle\"},\"mode\":\"markers\",\"name\":\"South America\",\"orientation\":\"v\",\"showlegend\":true,\"x\":[19317.0545070113,11828.1401290455,22425.8300844671,12110.2668971421,11261.8137066367,15064.1760689478,7984.41198272424,11896.3751614302,14095.748356648,24440.4152640857,23933.8866120953],\"xaxis\":\"x\",\"y\":[5.81,7.26,6.99,6.63,7.35,7.86,4.64,4.98,5.78,9.26,9.55],\"yaxis\":\"y\",\"type\":\"scatter\"},{\"hovertemplate\":\"<b>%{hovertext}</b><br><br>continent=Oceania<br>year=2015<br>GDP per capita, $=%{x}<br>Alcohol consumption, litres per capita=%{y}<br>population=%{marker.size}<extra></extra>\",\"hovertext\":[\"Vanuatu\",\"Solomon Islands\",\"Papua New Guinea\",\"New Zealand\",\"Fiji\",\"Australia\"],\"ids\":[\"Vanuatu\",\"Solomon Islands\",\"Papua New Guinea\",\"New Zealand\",\"Fiji\",\"Australia\"],\"legendgroup\":\"Oceania\",\"marker\":{\"color\":\"#19d3f3\",\"size\":[271128.0,603133.0,8107772.0,4614527.0,868632.0,23932499.0],\"sizemode\":\"area\",\"sizeref\":571059.1156,\"symbol\":\"circle\"},\"mode\":\"markers\",\"name\":\"Oceania\",\"orientation\":\"v\",\"showlegend\":true,\"x\":[2915.70045998521,2518.64747830047,4083.75243695251,41086.1153021682,12569.1431129142,47636.319641906],\"xaxis\":\"x\",\"y\":[2.14,1.55,1.39,10.44,3.33,10.83],\"yaxis\":\"y\",\"type\":\"scatter\"}],\"name\":\"2015\"},{\"data\":[{\"hovertemplate\":\"<b>%{hovertext}</b><br><br>continent=North America<br>year=2018<br>GDP per capita, $=%{x}<br>Alcohol consumption, litres per capita=%{y}<br>population=%{marker.size}<extra></extra>\",\"hovertext\":[\"Costa Rica\",\"United States\",\"Belize\",\"Trinidad and Tobago\",\"Canada\",\"Bahamas\",\"Jamaica\",\"Panama\",\"Nicaragua\",\"Mexico\",\"El Salvador\",\"Dominican Republic\",\"Honduras\",\"Haiti\",\"Guatemala\"],\"ids\":[\"Costa Rica\",\"United States\",\"Belize\",\"Trinidad and Tobago\",\"Canada\",\"Bahamas\",\"Jamaica\",\"Panama\",\"Nicaragua\",\"Mexico\",\"El Salvador\",\"Dominican Republic\",\"Honduras\",\"Haiti\",\"Guatemala\"],\"legendgroup\":\"North America\",\"marker\":{\"color\":\"#636efa\",\"size\":[4999443.0,327096263.0,383071.0,1389841.0,37074558.0,385635.0,2934853.0,4176868.0,6465502.0,126190782.0,6420740.0,10627147.0,9587523.0,11123183.0,17247855.0],\"sizemode\":\"area\",\"sizeref\":571059.1156,\"symbol\":\"circle\"},\"mode\":\"markers\",\"name\":\"North America\",\"orientation\":\"v\",\"showlegend\":true,\"x\":[20559.8604252658,61585.7560382102,7261.87028738671,26250.3722429394,48796.8137814007,37019.9950489508,9734.86228780542,31012.9461549459,5729.68822390273,19928.3956618582,8614.01795915499,17711.7955337583,5680.36288396582,2992.31041114318,8462.17210684372],\"xaxis\":\"x\",\"y\":[4.87,9.87,6.22,6.72,8.94,4.78,4.22,7.98,5.18,5.0,3.89,6.68,3.76,2.73,2.45],\"yaxis\":\"y\",\"type\":\"scatter\"},{\"hovertemplate\":\"<b>%{hovertext}</b><br><br>continent=Africa<br>year=2018<br>GDP per capita, $=%{x}<br>Alcohol consumption, litres per capita=%{y}<br>population=%{marker.size}<extra></extra>\",\"hovertext\":[\"Zambia\",\"Congo\",\"Angola\",\"Algeria\",\"Tanzania\",\"Cote d'Ivoire\",\"Benin\",\"Uganda\",\"Democratic Republic of Congo\",\"Botswana\",\"Burkina Faso\",\"Togo\",\"Chad\",\"Central African Republic\",\"Cameroon\",\"Tunisia\",\"Burundi\",\"Libya\",\"Liberia\",\"Lesotho\",\"Kenya\",\"Madagascar\",\"Namibia\",\"Niger\",\"Mozambique\",\"Morocco\",\"Nigeria\",\"Mauritania\",\"Mali\",\"Malawi\",\"Gambia\",\"Gabon\",\"South Africa\",\"Ethiopia\",\"Eswatini\",\"Equatorial Guinea\",\"Sudan\",\"Egypt\",\"Djibouti\",\"Somalia\",\"Rwanda\",\"Senegal\",\"Guinea-Bissau\",\"Sierra Leone\",\"Guinea\",\"Ghana\",\"Zimbabwe\"],\"ids\":[\"Zambia\",\"Congo\",\"Angola\",\"Algeria\",\"Tanzania\",\"Cote d'Ivoire\",\"Benin\",\"Uganda\",\"Democratic Republic of Congo\",\"Botswana\",\"Burkina Faso\",\"Togo\",\"Chad\",\"Central African Republic\",\"Cameroon\",\"Tunisia\",\"Burundi\",\"Libya\",\"Liberia\",\"Lesotho\",\"Kenya\",\"Madagascar\",\"Namibia\",\"Niger\",\"Mozambique\",\"Morocco\",\"Nigeria\",\"Mauritania\",\"Mali\",\"Malawi\",\"Gambia\",\"Gabon\",\"South Africa\",\"Ethiopia\",\"Eswatini\",\"Equatorial Guinea\",\"Sudan\",\"Egypt\",\"Djibouti\",\"Somalia\",\"Rwanda\",\"Senegal\",\"Guinea-Bissau\",\"Sierra Leone\",\"Guinea\",\"Ghana\",\"Zimbabwe\"],\"legendgroup\":\"Africa\",\"marker\":{\"color\":\"#EF553B\",\"size\":[17351714.0,5244363.0,30809787.0,42228415.0,56313444.0,25069226.0,11485035.0,42729032.0,84068092.0,2254067.0,19751466.0,7889095.0,15477727.0,4666375.0,25216261.0,11565203.0,11175379.0,6678565.0,4818976.0,2108327.0,51392570.0,26262313.0,2448300.0,22442831.0,29496009.0,36029089.0,195874685.0,4403312.0,19077755.0,18143215.0,2280092.0,2119275.0,57792520.0,109224410.0,1136274.0,1308966.0,41801532.0,98423602.0,958923.0,15008225.0,12301969.0,15854324.0,1874304.0,7650149.0,12414292.0,29767108.0,14438812.0],\"sizemode\":\"area\",\"sizeref\":571059.1156,\"symbol\":\"circle\"},\"mode\":\"markers\",\"name\":\"Africa\",\"orientation\":\"v\",\"showlegend\":true,\"x\":[3521.5420629895,3933.425550952,6933.49993413352,11642.1983450506,2590.20113826159,5033.47882607719,3160.7806702321,2121.96781993514,1085.89368770943,17634.6561910867,2120.33026783506,2061.33417572853,1576.32111465904,933.10995060419,3603.54827506808,10763.7297838206,761.524125241416,15017.9935741811,1497.00478720289,2614.65884916972,4203.83827267811,1592.05355843859,10092.258820242,1200.97246385835,1289.73594800556,7446.93622037578,5155.07599367409,5042.43119844404,2283.70241285673,1471.03724879602,2158.07755816639,14744.4343267491,12627.9285840445,2103.51585836696,8520.59238619335,20386.0138677131,4344.52988671066,11366.3355206681,5214.07218666426,866.765302072035,2088.74922433298,3309.48617330672,1901.93173857674,1663.29348036377,2499.70726640711,5177.88398862782,3341.66541766316],\"xaxis\":\"x\",\"y\":[6.54,9.27,6.94,0.95,11.27,2.71,2.81,15.09,2.0,6.59,12.03,2.46,1.37,2.38,5.65,2.12,7.19,0.019,6.12,4.59,2.78,1.97,5.43,0.67,2.3,0.69,10.84,0.036,1.28,3.63,3.55,8.74,9.52,2.36,10.04,7.23,0.51,0.36,0.43,0.009,8.95,0.76,5.38,5.7,1.11,2.75,4.67],\"yaxis\":\"y\",\"type\":\"scatter\"},{\"hovertemplate\":\"<b>%{hovertext}</b><br><br>continent=Europe<br>year=2018<br>GDP per capita, $=%{x}<br>Alcohol consumption, litres per capita=%{y}<br>population=%{marker.size}<extra></extra>\",\"hovertext\":[\"Czechia\",\"Albania\",\"Croatia\",\"Belarus\",\"Belgium\",\"Bosnia and Herzegovina\",\"Ukraine\",\"United Kingdom\",\"Bulgaria\",\"Austria\",\"France\",\"Denmark\",\"Latvia\",\"Poland\",\"Portugal\",\"Italy\",\"Lithuania\",\"Netherlands\",\"Montenegro\",\"North Macedonia\",\"Moldova\",\"Norway\",\"Luxembourg\",\"Switzerland\",\"Romania\",\"Finland\",\"Spain\",\"Estonia\",\"Sweden\",\"Ireland\",\"Germany\",\"Russia\",\"Iceland\",\"Hungary\",\"Serbia\",\"Slovakia\",\"Greece\",\"Slovenia\"],\"ids\":[\"Czechia\",\"Albania\",\"Croatia\",\"Belarus\",\"Belgium\",\"Bosnia and Herzegovina\",\"Ukraine\",\"United Kingdom\",\"Bulgaria\",\"Austria\",\"France\",\"Denmark\",\"Latvia\",\"Poland\",\"Portugal\",\"Italy\",\"Lithuania\",\"Netherlands\",\"Montenegro\",\"North Macedonia\",\"Moldova\",\"Norway\",\"Luxembourg\",\"Switzerland\",\"Romania\",\"Finland\",\"Spain\",\"Estonia\",\"Sweden\",\"Ireland\",\"Germany\",\"Russia\",\"Iceland\",\"Hungary\",\"Serbia\",\"Slovakia\",\"Greece\",\"Slovenia\"],\"legendgroup\":\"Europe\",\"marker\":{\"color\":\"#00cc96\",\"size\":[10665679.0,2882735.0,4156407.0,9452615.0,11482180.0,3323929.0,44246158.0,67141678.0,7051610.0,8891383.0,64990512.0,5752131.0,1928461.0,37921585.0,10256192.0,60627291.0,2801270.0,17059560.0,627803.0,2082956.0,4051950.0,5337960.0,604244.0,8525614.0,19506110.0,5522585.0,46692863.0,1322913.0,9971630.0,4818694.0,83124413.0,145734034.0,336712.0,9707502.0,8802741.0,5453017.0,10522244.0,2077835.0],\"sizemode\":\"area\",\"sizeref\":571059.1156,\"symbol\":\"circle\"},\"mode\":\"markers\",\"name\":\"Europe\",\"orientation\":\"v\",\"showlegend\":true,\"x\":[39932.992193117,13323.7533559132,27799.8433225132,18885.2354999668,51110.9584679336,14386.7318547663,12338.0024454764,46037.9005384222,22208.4522754771,55297.6182880367,45251.9054105957,56281.2888680368,30036.0865499334,31674.1316243417,34040.7255617749,42052.5563822519,35427.4618636641,56060.9136269404,20686.5759142606,16093.3104230501,12363.1468378401,64341.2589026158,113589.670473448,70663.4875973954,28523.4731832065,48130.2923921114,40312.5475864011,35208.0239637019,52349.2924275599,84303.3408922937,53463.4014817389,26656.4095416865,56722.1193741156,31095.557503677,17452.7958990327,31132.5729674338,29150.6944922443,37968.3520620285],\"xaxis\":\"x\",\"y\":[14.45,7.17,9.23,11.45,11.08,7.15,8.32,11.45,12.65,11.96,12.33,10.26,12.77,11.71,12.03,7.84,13.22,9.61,11.47,6.16,11.43,7.41,12.94,11.53,11.74,10.78,12.72,9.23,8.93,12.88,12.91,11.19,9.12,11.35,8.75,11.14,10.18,11.9],\"yaxis\":\"y\",\"type\":\"scatter\"},{\"hovertemplate\":\"<b>%{hovertext}</b><br><br>continent=Asia<br>year=2018<br>GDP per capita, $=%{x}<br>Alcohol consumption, litres per capita=%{y}<br>population=%{marker.size}<extra></extra>\",\"hovertext\":[\"Timor\",\"Tajikistan\",\"China\",\"Afghanistan\",\"Cyprus\",\"Vietnam\",\"Thailand\",\"Armenia\",\"Brunei\",\"Bhutan\",\"United Arab Emirates\",\"Turkmenistan\",\"Azerbaijan\",\"Cambodia\",\"Turkey\",\"Bangladesh\",\"Uzbekistan\",\"Lebanon\",\"Laos\",\"Kyrgyzstan\",\"Philippines\",\"Kuwait\",\"Kazakhstan\",\"Jordan\",\"Japan\",\"Qatar\",\"Israel\",\"Nepal\",\"Myanmar\",\"Mongolia\",\"Oman\",\"Malaysia\",\"Pakistan\",\"Iraq\",\"South Korea\",\"Sri Lanka\",\"Iran\",\"Indonesia\",\"India\",\"Saudi Arabia\",\"Georgia\"],\"ids\":[\"Timor\",\"Tajikistan\",\"China\",\"Afghanistan\",\"Cyprus\",\"Vietnam\",\"Thailand\",\"Armenia\",\"Brunei\",\"Bhutan\",\"United Arab Emirates\",\"Turkmenistan\",\"Azerbaijan\",\"Cambodia\",\"Turkey\",\"Bangladesh\",\"Uzbekistan\",\"Lebanon\",\"Laos\",\"Kyrgyzstan\",\"Philippines\",\"Kuwait\",\"Kazakhstan\",\"Jordan\",\"Japan\",\"Qatar\",\"Israel\",\"Nepal\",\"Myanmar\",\"Mongolia\",\"Oman\",\"Malaysia\",\"Pakistan\",\"Iraq\",\"South Korea\",\"Sri Lanka\",\"Iran\",\"Indonesia\",\"India\",\"Saudi Arabia\",\"Georgia\"],\"legendgroup\":\"Asia\",\"marker\":{\"color\":\"#ab63fa\",\"size\":[1267975.0,9100847.0,1427647789.0,37171922.0,1189262.0,95545959.0,69428454.0,2951741.0,428960.0,754396.0,9630966.0,5850902.0,9949537.0,16249795.0,82340090.0,161376713.0,32476232.0,6859408.0,7061498.0,6304025.0,106651394.0,4137314.0,18319616.0,9965322.0,127202190.0,2781682.0,8381507.0,28095712.0,53708318.0,3170214.0,4829476.0,31528033.0,212228288.0,38433604.0,51171700.0,21228760.0,81800204.0,267670549.0,1352642283.0,33702757.0,4002946.0],\"sizemode\":\"area\",\"sizeref\":571059.1156,\"symbol\":\"circle\"},\"mode\":\"markers\",\"name\":\"Asia\",\"orientation\":\"v\",\"showlegend\":true,\"x\":[3051.66811727864,3415.32233593608,15242.9858575834,2033.80438893717,39559.4879646749,7585.94315504036,18095.7365704368,12715.1089539751,60389.1846472589,11348.4419521,66968.2211775042,14845.3446497287,14209.6494059309,4159.33819437034,28312.6834243604,4440.85547046826,6755.48097366685,15588.1528714896,7592.82947474583,5133.1519146081,8516.13654897274,50478.5875050676,25544.3447563035,10013.3976633388,41182.3802046593,90970.0609016321,39418.3453068224,3773.71591761441,5029.1880858737,11915.5567471637,28350.9435298546,27558.1369502408,4739.47271266276,10346.2129581855,41948.3460057222,12860.3208303539,13471.8606376875,11371.7255560847,6518.84505546914,47592.7671473292,14253.4089858441],\"xaxis\":\"x\",\"y\":[2.17,3.28,7.05,0.21,10.81,8.66,8.3,5.55,0.48,0.43,3.9,4.93,4.41,6.64,2.05,0.019,2.59,1.71,10.72,6.26,6.86,0.003,4.76,0.69,7.96,1.59,4.21,2.05,5.12,8.19,0.78,0.85,0.34,0.39,9.7,4.1,1.03,0.57,5.54,0.19,8.25],\"yaxis\":\"y\",\"type\":\"scatter\"},{\"hovertemplate\":\"<b>%{hovertext}</b><br><br>continent=South America<br>year=2018<br>GDP per capita, $=%{x}<br>Alcohol consumption, litres per capita=%{y}<br>population=%{marker.size}<extra></extra>\",\"hovertext\":[\"Argentina\",\"Colombia\",\"Brazil\",\"Bolivia\",\"Chile\",\"Uruguay\",\"Paraguay\",\"Peru\",\"Suriname\",\"Ecuador\",\"Guyana\"],\"ids\":[\"Argentina\",\"Colombia\",\"Brazil\",\"Bolivia\",\"Chile\",\"Uruguay\",\"Paraguay\",\"Peru\",\"Suriname\",\"Ecuador\",\"Guyana\"],\"legendgroup\":\"South America\",\"marker\":{\"color\":\"#FFA15A\",\"size\":[44361150.0,49661056.0,209469320.0,11353140.0,18729166.0,3449290.0,6956069.0,31989265.0,575987.0,17084359.0,779007.0],\"sizemode\":\"area\",\"sizeref\":571059.1156,\"symbol\":\"circle\"},\"mode\":\"markers\",\"name\":\"South America\",\"orientation\":\"v\",\"showlegend\":true,\"x\":[22759.3985583341,14314.8555765268,14668.2561636292,8655.53149780443,25028.9099914542,23035.0833880454,12827.7080209236,12781.4164435302,19005.6543464151,11561.747853143,12477.5767111562],\"xaxis\":\"x\",\"y\":[9.65,5.74,7.42,4.43,9.07,6.92,7.58,6.38,5.33,4.2,6.89],\"yaxis\":\"y\",\"type\":\"scatter\"},{\"hovertemplate\":\"<b>%{hovertext}</b><br><br>continent=Oceania<br>year=2018<br>GDP per capita, $=%{x}<br>Alcohol consumption, litres per capita=%{y}<br>population=%{marker.size}<extra></extra>\",\"hovertext\":[\"Vanuatu\",\"Australia\",\"Papua New Guinea\",\"New Zealand\",\"Fiji\",\"Solomon Islands\"],\"ids\":[\"Vanuatu\",\"Australia\",\"Papua New Guinea\",\"New Zealand\",\"Fiji\",\"Solomon Islands\"],\"legendgroup\":\"Oceania\",\"marker\":{\"color\":\"#19d3f3\",\"size\":[292675.0,24898153.0,8606324.0,4743131.0,883490.0,652856.0],\"sizemode\":\"area\",\"sizeref\":571059.1156,\"symbol\":\"circle\"},\"mode\":\"markers\",\"name\":\"Oceania\",\"orientation\":\"v\",\"showlegend\":true,\"x\":[3093.46154723291,49151.6887104846,4190.0948949613,42866.1272276586,13846.1588353285,2697.64643055486],\"xaxis\":\"x\",\"y\":[2.25,10.51,1.39,10.63,3.32,1.83],\"yaxis\":\"y\",\"type\":\"scatter\"}],\"name\":\"2018\"}]);\n",
              "                        }).then(function(){\n",
              "                            \n",
              "var gd = document.getElementById('bebe7e33-24cc-400d-9c4b-b82eb999638a');\n",
              "var x = new MutationObserver(function (mutations, observer) {{\n",
              "        var display = window.getComputedStyle(gd).display;\n",
              "        if (!display || display === 'none') {{\n",
              "            console.log([gd, 'removed!']);\n",
              "            Plotly.purge(gd);\n",
              "            observer.disconnect();\n",
              "        }}\n",
              "}});\n",
              "\n",
              "// Listen for the removal of the full notebook cells\n",
              "var notebookContainer = gd.closest('#notebook-container');\n",
              "if (notebookContainer) {{\n",
              "    x.observe(notebookContainer, {childList: true});\n",
              "}}\n",
              "\n",
              "// Listen for the clearing of the current output cell\n",
              "var outputEl = gd.closest('.output');\n",
              "if (outputEl) {{\n",
              "    x.observe(outputEl, {childList: true});\n",
              "}}\n",
              "\n",
              "                        })                };                });            </script>        </div>"
            ]
          },
          "metadata": {},
          "output_type": "display_data"
        }
      ],
      "source": [
        "# This is an interactive bubble plot equipped with a slider for selecting the years\n",
        "# The logarithmic scale was applied for the x-axis due to the high variability of GDP per Capita data\n",
        "\n",
        "fig_2 = px.scatter(alc20XX_continent, x='gdppercap', y='alcocons', animation_frame='year', animation_group='country',\n",
        "                   range_x=[min_gdppercap*0.9, max_gdppercap*1.05], range_y=[min_alcocons-2.5, max_alcocons+1], \n",
        "                   size='population', color='continent', hover_name='country', log_x=True, size_max=50, \n",
        "                   labels={'gdppercap':'GDP per capita, $', 'alcocons':'Alcohol consumption, litres per capita'})\n",
        "fig_2.update_layout(title={'text': 'GDP Per Capita and Alcohol Consumption by Country', 'x':0.47})\n",
        "\n",
        "fig_2['layout'].pop('updatemenus')\n",
        "fig_2.show()"
      ]
    },
    {
      "cell_type": "code",
      "execution_count": null,
      "id": "53d7164e",
      "metadata": {
        "id": "53d7164e"
      },
      "outputs": [],
      "source": [
        "# We used the library plotly to export the interactive visualisation as the html file\n",
        "# It is further uploaded on the server created for this project and can be viewed following \n",
        "# this link http://www.ggsoroka.com/visualisation.html\n",
        "\n",
        "import plotly.io as pio\n",
        "pio.write_html(fig_2, file='/Users/gleb.khamin/DATA/DV_CW_2/visualisation.html', auto_open=True)"
      ]
    },
    {
      "cell_type": "code",
      "execution_count": null,
      "id": "505be7e1",
      "metadata": {
        "id": "505be7e1"
      },
      "outputs": [],
      "source": []
    },
    {
      "cell_type": "code",
      "execution_count": null,
      "id": "f2ff4418",
      "metadata": {
        "id": "f2ff4418"
      },
      "outputs": [],
      "source": []
    }
  ],
  "metadata": {
    "kernelspec": {
      "display_name": "Python 3 (ipykernel)",
      "language": "python",
      "name": "python3"
    },
    "language_info": {
      "codemirror_mode": {
        "name": "ipython",
        "version": 3
      },
      "file_extension": ".py",
      "mimetype": "text/x-python",
      "name": "python",
      "nbconvert_exporter": "python",
      "pygments_lexer": "ipython3",
      "version": "3.9.12"
    },
    "colab": {
      "provenance": []
    }
  },
  "nbformat": 4,
  "nbformat_minor": 5
}
